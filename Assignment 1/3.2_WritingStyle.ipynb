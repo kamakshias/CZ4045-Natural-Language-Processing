{
  "nbformat": 4,
  "nbformat_minor": 0,
  "metadata": {
    "colab": {
      "name": "WritingStyle.ipynb",
      "provenance": [],
      "collapsed_sections": [
        "PYMLVuX3y-oW",
        "yMz3g0RZW3AD",
        "0EV1SIqytY7j",
        "vbTCTJwZ_asU"
      ]
    },
    "kernelspec": {
      "name": "python3",
      "display_name": "Python 3"
    },
    "language_info": {
      "name": "python"
    }
  },
  "cells": [
    {
      "cell_type": "code",
      "metadata": {
        "id": "0TMXTDga8T_K"
      },
      "source": [
        "import re\n",
        "import nltk\n",
        "from nltk.tokenize import word_tokenize,sent_tokenize\n",
        "from nltk.corpus import stopwords\n",
        "import matplotlib.pyplot as plt"
      ],
      "execution_count": null,
      "outputs": []
    },
    {
      "cell_type": "code",
      "metadata": {
        "colab": {
          "base_uri": "https://localhost:8080/"
        },
        "id": "d9SayRhKkb0K",
        "outputId": "caaa0776-95a0-45bb-975d-169f3c4a5f3a"
      },
      "source": [
        "nltk.download('punkt')\n",
        "nltk.download('stopwords')"
      ],
      "execution_count": null,
      "outputs": [
        {
          "output_type": "stream",
          "name": "stdout",
          "text": [
            "[nltk_data] Downloading package punkt to /root/nltk_data...\n",
            "[nltk_data]   Package punkt is already up-to-date!\n",
            "[nltk_data] Downloading package stopwords to /root/nltk_data...\n",
            "[nltk_data]   Package stopwords is already up-to-date!\n"
          ]
        },
        {
          "output_type": "execute_result",
          "data": {
            "text/plain": [
              "True"
            ]
          },
          "metadata": {},
          "execution_count": 2
        }
      ]
    },
    {
      "cell_type": "code",
      "metadata": {
        "id": "oVPSsJTruM2a"
      },
      "source": [
        "from urllib.request import urlopen\n",
        "# we need to wrangle this HTML to extract the required data\n",
        "# import BeatifulSoup to conver tag soup in HTML to useful text\n",
        "from bs4 import BeautifulSoup as BS"
      ],
      "execution_count": null,
      "outputs": []
    },
    {
      "cell_type": "markdown",
      "metadata": {
        "id": "kyIBlhSb1hGR"
      },
      "source": [
        "## Writing Styles Analysis"
      ]
    },
    {
      "cell_type": "markdown",
      "metadata": {
        "id": "PYMLVuX3y-oW"
      },
      "source": [
        "### Basic feature extraction using text data\n",
        ">Number of words\n",
        "<br>Number of characters\n",
        "<br>Average word length\n",
        "<br>Number of stopwords, what are the included stopwords\n",
        "<br>Number of numerical data and their values\n",
        "<br>Number of uppercase and capitalised words\n",
        "\n",
        "\n",
        "\n",
        "\n",
        "\n",
        "\n"
      ]
    },
    {
      "cell_type": "markdown",
      "metadata": {
        "id": "YcsaeQbp1MF9"
      },
      "source": [
        "Functions to find number of sentences and words in text"
      ]
    },
    {
      "cell_type": "code",
      "metadata": {
        "id": "nq56jfN6zRRP"
      },
      "source": [
        "def article_sentlength(content):\n",
        "  s_tokens = sent_tokenize(content)\n",
        "  return len(s_tokens)"
      ],
      "execution_count": null,
      "outputs": []
    },
    {
      "cell_type": "code",
      "metadata": {
        "id": "Yh_A9majwaiR"
      },
      "source": [
        "def article_wordlength(content):\n",
        "  w_tokens = word_tokenize(content)\n",
        "  return len(w_tokens)"
      ],
      "execution_count": null,
      "outputs": []
    },
    {
      "cell_type": "markdown",
      "metadata": {
        "id": "GX7YLQFQ2uoz"
      },
      "source": [
        "Function to calculate avg no. of words in each sentence"
      ]
    },
    {
      "cell_type": "code",
      "metadata": {
        "id": "iIM813Ee2uKP"
      },
      "source": [
        "def avg_wordcount(content):\n",
        "  avg = article_wordlength(content)/article_sentlength(content)\n",
        "  return avg"
      ],
      "execution_count": null,
      "outputs": []
    },
    {
      "cell_type": "markdown",
      "metadata": {
        "id": "OnbBiJ379Mwx"
      },
      "source": [
        "Function to calculate average word length in each sentence"
      ]
    },
    {
      "cell_type": "code",
      "metadata": {
        "id": "SMNgQQPg9Riu"
      },
      "source": [
        "def avg_sent_word(content):\n",
        "  s_tokens = sent_tokenize(content)\n",
        "  for index in range(len(s_tokens)):\n",
        "    char_ct = 0\n",
        "    for word in s_tokens[index].split():\n",
        "      char_ct+= len(word)\n",
        "    print('Sentence ',index+1,': ',char_ct/len(s_tokens[index].split()))"
      ],
      "execution_count": null,
      "outputs": []
    },
    {
      "cell_type": "markdown",
      "metadata": {
        "id": "o_tkbwXnDfMZ"
      },
      "source": [
        "Function to find no. of stopwords in each sentence "
      ]
    },
    {
      "cell_type": "code",
      "metadata": {
        "id": "puC3LNtlDeWd"
      },
      "source": [
        "stop = stopwords.words('english')\n",
        "def calc_stopwords(content,total_stop):\n",
        "  sent_full = sent_tokenize(content)\n",
        "  sent_no = 0\n",
        "  for sent in sent_full:\n",
        "    sent_stop =[]\n",
        "    stop_ct = 0\n",
        "    for word in sent.split():\n",
        "      if word in stop:\n",
        "        stop_ct+=1\n",
        "        sent_stop.append(word)\n",
        "    sent_no+=1\n",
        "    total_stop+= stop_ct\n",
        "    print('Sentence ',sent_no,', No. of stopwords: ',stop_ct)\n",
        "    print(sent_stop)\n",
        "  return total_stop"
      ],
      "execution_count": null,
      "outputs": []
    },
    {
      "cell_type": "code",
      "metadata": {
        "id": "h1qulu1RxVyr"
      },
      "source": [
        "def avgword_vs_stopwords(content):\n",
        "  sent_full = sent_tokenize(content)\n",
        "  sent_no = 0\n",
        "  stopwd_dict = {}\n",
        "  avg_dict = {}\n",
        "  for sent in sent_full:\n",
        "    stop_ct = 0\n",
        "    for word in sent.split():\n",
        "      if word in stop:\n",
        "        stop_ct+=1\n",
        "    sent_no+=1\n",
        "    stopwd_dict[sent_no] = stop_ct\n",
        "\n",
        "  for index in range(len(sent_full)):\n",
        "    char_ct = 0\n",
        "    for word in sent_full[index].split():\n",
        "      char_ct+= len(word)\n",
        "    avg = char_ct/len(sent_full[index].split())\n",
        "    avg_dict[index+1] = avg \n",
        "  x1 = list(stopwd_dict.keys())\n",
        "  y1 = list(stopwd_dict.values())\n",
        "  x2 = list(avg_dict.keys())\n",
        "  y2 = list(avg_dict.values())\n",
        "  plt.plot(x1,y1,label = \"stopwords\")\n",
        "  plt.plot(x2,y2,label = \"avg.word length\")\n",
        "  plt.xlabel('Sentence no.')\n",
        "  plt.ylabel('value')\n",
        "  plt.title('Stopwords & Avg word length')\n",
        "  plt.legend()\n",
        "  plt.show()"
      ],
      "execution_count": null,
      "outputs": []
    },
    {
      "cell_type": "markdown",
      "metadata": {
        "id": "965lG5tsP6cq"
      },
      "source": [
        "Function to find any digits in any sentences, if so - how many sentences?\n",
        "<br> This function will only show words that are completely digits. Words that are a combination of symbols/alphabets and digits will not be recognised by this function and this is why further processing such as removal of punctuation and/or symbols is required"
      ]
    },
    {
      "cell_type": "code",
      "metadata": {
        "id": "bb8YCNAkniMv"
      },
      "source": [
        "def find_digs(content):\n",
        "  sent_full = sent_tokenize(content)\n",
        "  sent_no = 0\n",
        "  for sent in sent_full:\n",
        "    sent_dig = re.findall(r'[0-9]+',sent)\n",
        "    sent_no+=1\n",
        "    if len(sent_dig)!=0:\n",
        "      print('Sentence ',sent_no,' No. of numerical data: ',len(sent_dig))\n",
        "      print(sent_dig)"
      ],
      "execution_count": null,
      "outputs": []
    },
    {
      "cell_type": "markdown",
      "metadata": {
        "id": "WHIxjdb5SVGO"
      },
      "source": [
        "Function to find words in uppercase - such words in texts could indicate excitement, importance or anger"
      ]
    },
    {
      "cell_type": "code",
      "metadata": {
        "id": "xvkJT17TRHIv"
      },
      "source": [
        "def uppercase(content):\n",
        "  sent_full = sent_tokenize(content)\n",
        "  upper = []\n",
        "  caps = []\n",
        "  for i in range(len(sent_full)):\n",
        "    words = sent_full[i].split()\n",
        "    for j in range(len(words)):\n",
        "      if words[j].isupper():\n",
        "        string = 'Sentence '+str(i+1)+': '+words[j]\n",
        "        upper.append(string)\n",
        "      if words[j][0].isupper() and words[j][1:].islower():\n",
        "        string = 'Sentence '+str(i+1)+': '+words[j]\n",
        "        caps.append(string)\n",
        "  print('UPPERCASE')\n",
        "  for item in upper:\n",
        "    print(item)\n",
        "  print('CAPITALISED')\n",
        "  for item in caps:\n",
        "    print(item)"
      ],
      "execution_count": null,
      "outputs": []
    },
    {
      "cell_type": "markdown",
      "metadata": {
        "id": "WiQi4q-kKSSc"
      },
      "source": [
        "### Hardwarezone Article #1 \n",
        "<br> **Title**: Zephyr Pro gaming mouse review: Built-in fan keeps you cool"
      ]
    },
    {
      "cell_type": "code",
      "metadata": {
        "id": "vYMVrjiFyzWr",
        "colab": {
          "base_uri": "https://localhost:8080/"
        },
        "outputId": "d6077166-6ed2-4022-a5c4-cde500a108b4"
      },
      "source": [
        "url1 = 'https://www.hardwarezone.com.sg/review-zephyr-pro-gaming-mouse'\n",
        "html = urlopen(url1).read()\n",
        "soup = BS(html,\"html5lib\")\n",
        "type(soup)"
      ],
      "execution_count": null,
      "outputs": [
        {
          "output_type": "execute_result",
          "data": {
            "text/plain": [
              "bs4.BeautifulSoup"
            ]
          },
          "metadata": {},
          "execution_count": 12
        }
      ]
    },
    {
      "cell_type": "code",
      "metadata": {
        "colab": {
          "base_uri": "https://localhost:8080/"
        },
        "id": "Q61JFeLt0URb",
        "outputId": "a5a47ba5-af66-4a16-b982-52137318b4a2"
      },
      "source": [
        "soup.title"
      ],
      "execution_count": null,
      "outputs": [
        {
          "output_type": "execute_result",
          "data": {
            "text/plain": [
              "<title>Zephyr Pro gaming mouse review: Built-in fan keeps you cool - HardwareZone.com.sg</title>"
            ]
          },
          "metadata": {},
          "execution_count": 13
        }
      ]
    },
    {
      "cell_type": "code",
      "metadata": {
        "colab": {
          "base_uri": "https://localhost:8080/"
        },
        "id": "UnjeMC3hz2ga",
        "outputId": "c0bb8414-052d-4380-ef5e-62e6452a8ef6"
      },
      "source": [
        "#script.decompose testing\n",
        "for script in soup([\"script\", \"style\"]):\n",
        "    script.decompose()\n",
        "print(' '.join(soup.stripped_strings))"
      ],
      "execution_count": null,
      "outputs": [
        {
          "output_type": "stream",
          "name": "stdout",
          "text": [
            "Zephyr Pro gaming mouse review: Built-in fan keeps you cool - HardwareZone.com.sg Follow Us HWZ Coupons Lazada Shopee GrabFood Foodpanda Tech Shows Market Place Price Lists Forums News Reviews Videos Topics Smartphones & Tablets Networking & Telco Networking Telco Notebooks Headphones Wearables Photography Apps & Software Internet, Cloud, eCommerce Computing Desktop Systems Notebooks Input Devices Monitors Printers Storage PC Components Casings Coolers CPU Graphics Cards Memory Motherboard Power Supply Units Audio & Visual AV Systems Headphones Media Streamers and Hubs Projectors Speakers Televisions Gaming & Entertainment Culture Games & Gear Esports Toys & Collectibles Movies & Shows Smart Living & Lifestyle Smart Living Automotive Tech Science & Tech Travel & Aviation Deals Gaming Lifestyle Biz & SME Tech All Content All Content By Tag SEARCH LOGIN × Topics Smartphones & Tablets Networking & Telco Networking Telco Notebooks Headphones Wearables Photography Apps & Software Internet, Cloud, eCommerce Computing Desktop Systems Notebooks Input Devices Monitors Printers Storage PC Components Casings Coolers CPU Graphics Cards Memory Motherboard Power Supply Units Audio & Visual AV Systems Headphones Media Streamers and Hubs Projectors Speakers Televisions Gaming & Entertainment Culture Games & Gear Esports Toys & Collectibles Movies & Shows Smart Living & Lifestyle Smart Living Automotive Tech Science & Tech Travel & Aviation Videos Reviews & Articles Reviews Shootouts Tech Guides Feature Articles Event Coverage Gallery Deals Blogs Shopping Price List Downloads Deals HWZ Coupons Forums Special Events Infotech Clinic Digital Entertainment Lifestyle Hub Special Interest Groups Marketplace Lifestyle Academic Concerns Feedback Channels Others Lifestyle Marketplace The authoritative voice on technology trends, gadget shootouts, and geeky life hacks you never knew you could live without. SEARCH LOGIN Forums Price Lists Tech Shows HWZ Coupons Follow Us News Topics Smartphones & Tablets Networking & Telco Networking Telco Notebooks Headphones Wearables Photography Apps & Software Internet, Cloud, eCommerce Computing Desktop Systems Notebooks Input Devices Monitors Printers Storage PC Components Casings Coolers CPU Graphics Cards Memory Motherboard Power Supply Units Audio & Visual AV Systems Headphones Media Streamers and Hubs Projectors Speakers Televisions Gaming & Entertainment Culture Games & Gear Esports Toys & Collectibles Movies & Shows Smart Living & Lifestyle Smart Living Automotive Tech Science & Tech Travel & Aviation Videos Reviews & Articles Reviews Shootouts Tech Guides Feature Articles Event Coverage Gallery Deals Blogs Lifestyle Deals Gaming Biz & SME Tech Marketplace All Content All Content By Tag Trending Apple announces new 14 and 16-inch MacBook Pro, powered by new M1 Pro and M1 Max chips (Updated) Apple’s third-generation AirPods features spatial audio, longer battery life, and reimagined design (Updated) Tecware B68 65% Bluetooth Mechanical Keyboard review: Wireless on a budget Product Listing 3M A4Tech Apple Armageddon Brydge Cooler Master Corsair Ducky Endgame Gear ErgoDox EZ Filco Finalmouse Genius Gigabyte Glorious IKBC Input Club Leap Motion Lofree Logitech MadCatz Marsback Microsoft MobileGear Mountain Nortek Orbita ORtek PowerLogic Prolink Ranger Razer RedFox Roccat Rosewill Sensonic SISO SteelSeries SuperSolid Swiftpoint Tecware Tempest Thermaltake Wacom Xtrfy Zergotech Zippy Zowie Zygen Input Devices Guide News Reviews & Articles Price Guide All News Reviews & Articles Price Guide Zephyr Pro gaming mouse review: Built-in fan keeps you cool By Hoots the Owl -  9 Oct 2021 < Prev Page 1 of 1 - Zephyr Pro gaming mouse review: Built-in fan keeps you cool Page 1 of 1 - Zephyr Pro gaming mouse review: Built-in fan keeps you cool Page 1 of 1 Page 1 of 1 - Zephyr Pro gaming mouse review: Built-in fan keeps you cool Next > Zephyr Pro gaming mouse review: Built-in fan keeps you cool Note: This review was first published on 30 September 2021. Lighter and quieter Last year, I reviewed a quirky prototype of a gaming mouse called the Zephyr . It had a built-in fan, blowing a cool breeze against your hand to banish sweaty palms. Unfortunately, the mouse's shape didn't feel the best in hand, and the fan was noisy and buzzed frenetically when using the mouse. One year later, Zephyr Gaming has rebranded to Marsback, and their new mouse, the Zephyr Pro, is here for a second shot at active cooling in a gaming mouse. The Zephyr Pro fixes a lot of the issues faced by its predecessor, and the improvements are significant. It's now got a far more comfortable shape that's very similar to the Glorious Model O . With a flat profile and slight comfort grooves along the sides and mouse buttons, it feels much better in hand than the Zephyr. It is a safe, versatile shape, suitable for almost any grip style. However, the mouse is quite large, which means that certain grip styles such as the fingertip grip work better for those with bigger hands. The geometric open shell design brings its weight down to 69g, and it feels a lot more nimble than the Zephyr. Build quality is good, and there is minimal flexing when pressing down on the sides. And for a mouse with actual moving parts, I'm happy to see that there's no rattling when shaking the mouse either. When it comes to the fan, it's far quieter than before and also less disruptive. The annoying thrum that plagued the original is gone, and the fan positioning has been tweaked, blowing directly upward instead of at an angle. This seems to have improved cooling somewhat, and I can see this coming in handy for you if you have sweaty palms. The shell cutouts are larger than you'd typically see on a mouse, which probably helps with airflow as well. You can still feel the vibrations through the mouse, but it's faint enough that it kind of fades into the background after a while and you don't really notice it. The fan does not affect tracking either, so you don't have to worry about that. The Omron switches on the Zephyr Pro are rated for 50 million clicks. They are crisp and responsive, but are not as tactile as Huano or certain Kailh switches. There is minimal post-travel too, the same of which goes for the side buttons. The scroll wheel is inoffensive and quiet, with well-defined notches that allow for precise adjustments. The stock PTFE feet provide a smooth glide right out of the box, with no noticeable scratchiness. Like most other mice on the market today, the Zephyr Pro is also equipped with a flexible paracord cable. It isn't the softest cable I've used, but it does the job well enough with minimal cable drag. The sensor is a 16,000DPI PixArt PMW3389 optical sensor, found on many top mice today. It offers flawless tracking as expected, with no noticeable acceleration or jitter. You can set up to seven DPI stages in the software and toggle between them using the dedicated DPI button. The scroll wheel then doubles as a colour-coded indicator for you to quickly see what sensitivity you're on. The Zephyr Pro has its own software that lets you customise DPI, button functionality, RGB lighting, lift-off distance and more. The interface could definitely use some polish, but there's a ton of functionality packed in there. Interestingly enough, there is no way to adjust the fan speed, and there is just a button at the bottom that you hold to turn off the fan. To be fair, I didn't see any need to tweak the speed of the fan while I was using the mouse, but more control over what is clearly the marquee feature of the mouse would be nice. Conclusion The Zephyr Pro is a unique mouse in a very crowded space. It is a huge step up from the original, sporting a better overall build, more comfortable shape, and lighter design. More importantly, the fan is no longer a nuisance, and it could actually help you if you have sweaty palms. Elsewhere, Marsback has taken care to equip the mouse with everything you'd expect from a gaming mouse in 2021, including a paracord cable and customisable RGB lighting. At US$59 , the Zephyr Pro is pretty attractively priced as well. If you constantly find yourself wiping your palms down, or just want to try something different, it is well worth a look. You can get the Marsback Zephyr Pro here , but don't be fooled into thinking the sale price is US$59 - this is its normal price. For our loyal HardwareZone readers , you're in for a treat! Patch in discount code - HARDWAREZONE - and you can get the mouse for only US$49 . < Prev Page 1 of 1 - Zephyr Pro gaming mouse review: Built-in fan keeps you cool Page 1 of 1 - Zephyr Pro gaming mouse review: Built-in fan keeps you cool Page 1 of 1 Page 1 of 1 - Zephyr Pro gaming mouse review: Built-in fan keeps you cool Next > Join HWZ's Telegram channel here and catch all the latest tech news! Tags: gaming gaming mouse esports marsback zephyr pro 8.0 The Verdict 8 /10 Write a Review Compare This | Specifications Design 8 User-Friendliness 8 Features 8.5 Performance 8 Value 8.5 The Good Comfortable shape and light weight Much quieter than its predecessor Flawless sensor Flexible paracord cable The Bad Cannot adjust fan speed Fan can be a bit gimmicky and not everyone actually needs it Driver could use more polish Our articles may contain affiliate links. If you buy through these links, we may earn a small commission. Have feedback on the article for the editorial team? You can reach out to them here . Sponsored Links Snag the new iPhone 13 with StarHub No upfront, no interest - check out StarHub’s new EasyGo option! HWZ Coupons Connect with us Trending Topics Mobile Phones AV Peripherals and Systems Digital Cameras Notebooks Graphic Cards Our Sections News Product Guide HWZ TV Articles Site Map Forums Price Lists Market Place Tech Show Portal HWZ Coupons AWARDS & ACCOLADES We thank all our supporters who have helped us garner these prestigious media awards in the industry! Website/App of the Year for Consumer Tech Enthusiasts Best Engagement Strategy by a Media Owner: Loyalty & Engagement Awards 2018 Consumer Review Media of the Year Photography of the Year (Online) Advertise on HWZ Contact Us & Feedback Terms of Service Privacy Policy PDPA Member Terms & Conditions Copyright © 2021 SPH Media Limited. Co. Regn. No. 202120748H. All rights reserved.\n"
          ]
        }
      ]
    },
    {
      "cell_type": "code",
      "metadata": {
        "id": "7sePqWBJz3wt",
        "colab": {
          "base_uri": "https://localhost:8080/"
        },
        "outputId": "97026ab7-306e-4924-d5fa-a57b6b082515"
      },
      "source": [
        "article = soup.find_all(\"p\")\n",
        "for div in article:\n",
        "  print(div)"
      ],
      "execution_count": null,
      "outputs": [
        {
          "output_type": "stream",
          "name": "stdout",
          "text": [
            "<p><em><strong>Note:</strong> This review was first published on 30 September 2021.</em></p>\n",
            "<p class=\"rtecenter\"><img alt=\"\" src=\"https://assets.hardwarezone.com/img/2021/09/zephyr-pro.jpg\" style=\"height:510px; width:800px\"/></p>\n",
            "<p>Last year, I reviewed a quirky prototype of a gaming mouse called the <a href=\"https://www.hardwarezone.com.sg/feature-zephyr-gaming-mouse-review\" target=\"_blank\">Zephyr</a>. It had a built-in fan, blowing a cool breeze against your hand to banish sweaty palms. Unfortunately, the mouse's shape didn't feel the best in hand, and the fan was noisy and buzzed frenetically when using the mouse. </p>\n",
            "<p>One year later, Zephyr Gaming has rebranded to Marsback, and their new mouse, the Zephyr Pro, is here for a second shot at active cooling in a gaming mouse. The Zephyr Pro fixes a lot of the issues faced by its predecessor, and the improvements are significant.</p>\n",
            "<p>It's now got a far more comfortable shape that's very similar to the <a href=\"https://www.hardwarezone.com.sg/review-glorious-model-o-review-gaming-mouse-optical-features-specs\" target=\"_blank\">Glorious Model O</a>. With a flat profile and slight comfort grooves along the sides and mouse buttons, it feels much better in hand than the Zephyr. It is a safe, versatile shape, suitable for almost any grip style. However, the mouse is quite large, which means that certain grip styles such as the fingertip grip work better for those with bigger hands.</p>\n",
            "<p class=\"rtecenter\"><img alt=\"\" src=\"https://assets.hardwarezone.com/img/2021/09/zephyr-pro-2.jpg\" style=\"height:451px; width:800px\"/></p>\n",
            "<p>The geometric open shell design brings its weight down to 69g, and it feels a lot more nimble than the Zephyr. Build quality is good, and there is minimal flexing when pressing down on the sides. And for a mouse with actual moving parts, I'm happy to see that there's no rattling when shaking the mouse either. </p>\n",
            "<p class=\"rtecenter\"><img alt=\"\" src=\"https://assets.hardwarezone.com/img/2021/09/zephyr-pro-5.jpg\" style=\"height:451px; width:800px\"/></p>\n",
            "<p>When it comes to the fan, it's far quieter than before and also less disruptive. The annoying thrum that plagued the original is gone, and the fan positioning has been tweaked, blowing directly upward instead of at an angle. This seems to have improved cooling somewhat, and I can see this coming in handy for you if you have sweaty palms. The shell cutouts are larger than you'd typically see on a mouse, which probably helps with airflow as well. You can still feel the vibrations through the mouse, but it's faint enough that it kind of fades into the background after a while and you don't really notice it. The fan does not affect tracking either, so you don't have to worry about that. </p>\n",
            "<p class=\"rtecenter\"><img alt=\"\" src=\"https://assets.hardwarezone.com/img/2021/09/zephyr-pro-3.jpg\" style=\"height:451px; width:800px\"/></p>\n",
            "<p>The Omron switches on the Zephyr Pro are rated for 50 million clicks. They are crisp and responsive, but are not as tactile as Huano or certain Kailh switches. There is minimal post-travel too, the same of which goes for the side buttons. The scroll wheel is inoffensive and quiet, with well-defined notches that allow for precise adjustments. The stock PTFE feet provide a smooth glide right out of the box, with no noticeable scratchiness.</p>\n",
            "<p>Like most other mice on the market today, the Zephyr Pro is also equipped with a flexible paracord cable. It isn't the softest cable I've used, but it does the job well enough with minimal cable drag. </p>\n",
            "<p><img alt=\"\" src=\"https://assets.hardwarezone.com/img/2021/09/zephyr-pro-4.jpg\" style=\"height:451px; width:800px\"/></p>\n",
            "<p>The sensor is a 16,000DPI PixArt PMW3389 optical sensor, found on many top mice today. It offers flawless tracking as expected, with no noticeable acceleration or jitter. You can set up to seven DPI stages in the software and toggle between them using the dedicated DPI button. The scroll wheel then doubles as a colour-coded indicator for you to quickly see what sensitivity you're on.</p>\n",
            "<p class=\"rtecenter\"><img alt=\"\" src=\"https://assets.hardwarezone.com/img/2021/09/marsback-driver.jpg\" style=\"height:468px; width:800px\"/></p>\n",
            "<p>The Zephyr Pro has its own software that lets you customise DPI, button functionality, RGB lighting, lift-off distance and more. The interface could definitely use some polish, but there's a ton of functionality packed in there. Interestingly enough, there is no way to adjust the fan speed, and there is just a button at the bottom that you hold to turn off the fan. To be fair, I didn't see any need to tweak the speed of the fan while I was using the mouse, but more control over what is clearly the marquee feature of the mouse would be nice.</p>\n",
            "<p> </p>\n",
            "<p class=\"rtecenter\"><img alt=\"\" src=\"https://assets.hardwarezone.com/img/2021/09/zephyr-pro-6.jpg\" style=\"height:451px; width:800px\"/></p>\n",
            "<p>The Zephyr Pro is a unique mouse in a very crowded space. It is a huge step up from the original, sporting a better overall build, more comfortable shape, and lighter design. More importantly, the fan is no longer a nuisance, and it could actually help you if you have sweaty palms. Elsewhere, Marsback has taken care to equip the mouse with everything you'd expect from a gaming mouse in 2021, including a paracord cable and customisable RGB lighting. </p>\n",
            "<p>At <strong>US$59</strong>, the Zephyr Pro is pretty attractively priced as well. If you constantly find yourself wiping your palms down, or just want to try something different, it is well worth a look. </p>\n",
            "<p><a href=\"https://marsback.com/products/marsback-zephyr-pro-gaming-mouse-with-built-in-fan\" target=\"_blank\">You can get the Marsback Zephyr Pro here</a>, but don't be fooled into thinking the sale price is US$59 - this is its normal price. For our loyal <strong>HardwareZone readers</strong>, you're in for a treat! Patch in <strong>discount code</strong> - <em>HARDWAREZONE</em> - and you can get the mouse for only <strong>US$49</strong>.</p>\n",
            "<p class=\"feedback\">Have feedback on the article for the editorial team? <a href=\"https://forums.hardwarezone.com.sg/forumdisplay.php?f=26\" target=\"_blank\">You can reach out to them here</a>.</p>\n",
            "<p class=\"treading-list-summary\">No upfront, no interest - check out StarHub’s new EasyGo option!</p>\n",
            "<p class=\"footer-topics-heading\">Trending Topics</p>\n",
            "<p class=\"footer-topics-heading\">Our Sections</p>\n",
            "<p class=\"footer-topics-heading\"> </p>\n",
            "<p class=\"footer-topics-heading text-awards\">AWARDS &amp; ACCOLADES</p>\n",
            "<p class=\"awards-sub-text\">We thank all our supporters who have helped us garner these prestigious media awards in the industry!</p>\n"
          ]
        }
      ]
    },
    {
      "cell_type": "code",
      "metadata": {
        "id": "trL1f7oFJfvd"
      },
      "source": [
        "# identified invalid tags and replace tags with their \n",
        "# content in each item of soup\n",
        "\n",
        "invalid_tags = ['img','a','strong','em']\n",
        "for tag in invalid_tags: \n",
        "  for match in soup.findAll(tag):\n",
        "    match.replaceWithChildren()\n",
        "        "
      ],
      "execution_count": null,
      "outputs": []
    },
    {
      "cell_type": "code",
      "metadata": {
        "id": "a5bJ7WLBOu2_"
      },
      "source": [
        "# extract all text with the para tag from the soup\n",
        "\n",
        "article = soup.find_all(\"p\")\n",
        "main_content_hwz1 = []\n",
        "for tag in article:\n",
        "  for p_child in tag.children:\n",
        "    main_content_hwz1.append(p_child)"
      ],
      "execution_count": null,
      "outputs": []
    },
    {
      "cell_type": "code",
      "metadata": {
        "colab": {
          "base_uri": "https://localhost:8080/"
        },
        "id": "Ftb3Z10HSCOi",
        "outputId": "9e54a05a-60f1-4d33-a09a-387998a191b4"
      },
      "source": [
        "main_content_hwz1 = ' '.join(main_content_hwz1)\n",
        "print(main_content_hwz1)"
      ],
      "execution_count": null,
      "outputs": [
        {
          "output_type": "stream",
          "name": "stdout",
          "text": [
            "Note:  This review was first published on 30 September 2021. Last year, I reviewed a quirky prototype of a gaming mouse called the  Zephyr . It had a built-in fan, blowing a cool breeze against your hand to banish sweaty palms. Unfortunately, the mouse's shape didn't feel the best in hand, and the fan was noisy and buzzed frenetically when using the mouse.  One year later, Zephyr Gaming has rebranded to Marsback, and their new mouse, the Zephyr Pro, is here for a second shot at active cooling in a gaming mouse. The Zephyr Pro fixes a lot of the issues faced by its predecessor, and the improvements are significant. It's now got a far more comfortable shape that's very similar to the  Glorious Model O . With a flat profile and slight comfort grooves along the sides and mouse buttons, it feels much better in hand than the Zephyr. It is a safe, versatile shape, suitable for almost any grip style. However, the mouse is quite large, which means that certain grip styles such as the fingertip grip work better for those with bigger hands. The geometric open shell design brings its weight down to 69g, and it feels a lot more nimble than the Zephyr. Build quality is good, and there is minimal flexing when pressing down on the sides. And for a mouse with actual moving parts, I'm happy to see that there's no rattling when shaking the mouse either.  When it comes to the fan, it's far quieter than before and also less disruptive. The annoying thrum that plagued the original is gone, and the fan positioning has been tweaked, blowing directly upward instead of at an angle. This seems to have improved cooling somewhat, and I can see this coming in handy for you if you have sweaty palms. The shell cutouts are larger than you'd typically see on a mouse, which probably helps with airflow as well. You can still feel the vibrations through the mouse, but it's faint enough that it kind of fades into the background after a while and you don't really notice it. The fan does not affect tracking either, so you don't have to worry about that.  The Omron switches on the Zephyr Pro are rated for 50 million clicks. They are crisp and responsive, but are not as tactile as Huano or certain Kailh switches. There is minimal post-travel too, the same of which goes for the side buttons. The scroll wheel is inoffensive and quiet, with well-defined notches that allow for precise adjustments. The stock PTFE feet provide a smooth glide right out of the box, with no noticeable scratchiness. Like most other mice on the market today, the Zephyr Pro is also equipped with a flexible paracord cable. It isn't the softest cable I've used, but it does the job well enough with minimal cable drag.  The sensor is a 16,000DPI PixArt PMW3389 optical sensor, found on many top mice today. It offers flawless tracking as expected, with no noticeable acceleration or jitter. You can set up to seven DPI stages in the software and toggle between them using the dedicated DPI button. The scroll wheel then doubles as a colour-coded indicator for you to quickly see what sensitivity you're on. The Zephyr Pro has its own software that lets you customise DPI, button functionality, RGB lighting, lift-off distance and more. The interface could definitely use some polish, but there's a ton of functionality packed in there. Interestingly enough, there is no way to adjust the fan speed, and there is just a button at the bottom that you hold to turn off the fan. To be fair, I didn't see any need to tweak the speed of the fan while I was using the mouse, but more control over what is clearly the marquee feature of the mouse would be nice.   The Zephyr Pro is a unique mouse in a very crowded space. It is a huge step up from the original, sporting a better overall build, more comfortable shape, and lighter design. More importantly, the fan is no longer a nuisance, and it could actually help you if you have sweaty palms. Elsewhere, Marsback has taken care to equip the mouse with everything you'd expect from a gaming mouse in 2021, including a paracord cable and customisable RGB lighting.  At  US$59 , the Zephyr Pro is pretty attractively priced as well. If you constantly find yourself wiping your palms down, or just want to try something different, it is well worth a look.  You can get the Marsback Zephyr Pro here , but don't be fooled into thinking the sale price is US$59 - this is its normal price. For our loyal  HardwareZone readers , you're in for a treat! Patch in  discount code  -  HARDWAREZONE  - and you can get the mouse for only  US$49 . Have feedback on the article for the editorial team?  You can reach out to them here . No upfront, no interest - check out StarHub’s new EasyGo option! Trending Topics Our Sections   AWARDS & ACCOLADES We thank all our supporters who have helped us garner these prestigious media awards in the industry!\n"
          ]
        }
      ]
    },
    {
      "cell_type": "code",
      "metadata": {
        "colab": {
          "base_uri": "https://localhost:8080/"
        },
        "id": "72rXGxFR1KL3",
        "outputId": "8c0cf878-3ec7-4732-c673-c7b13370608e"
      },
      "source": [
        "# Number of sentences in article\n",
        "print('No. of sentences in this article: ',article_sentlength(main_content_hwz1))\n",
        "# Number of words in article\n",
        "print('No. of words in this article: ',article_wordlength(main_content_hwz1))"
      ],
      "execution_count": null,
      "outputs": [
        {
          "output_type": "stream",
          "name": "stdout",
          "text": [
            "No. of sentences in this article:  47\n",
            "No. of words in this article:  986\n"
          ]
        }
      ]
    },
    {
      "cell_type": "code",
      "metadata": {
        "colab": {
          "base_uri": "https://localhost:8080/"
        },
        "id": "rvj1i87S72EW",
        "outputId": "22ae9fa9-a1ce-4b33-f25a-61671a7f285f"
      },
      "source": [
        "print('Average number of words in a sentence: ',avg_wordcount(main_content_hwz1))"
      ],
      "execution_count": null,
      "outputs": [
        {
          "output_type": "stream",
          "name": "stdout",
          "text": [
            "Average number of words in a sentence:  20.97872340425532\n"
          ]
        }
      ]
    },
    {
      "cell_type": "code",
      "metadata": {
        "colab": {
          "base_uri": "https://localhost:8080/"
        },
        "id": "YAsUGgvO8dKh",
        "outputId": "180553dc-9904-4f5e-8e55-768b6c930a1f"
      },
      "source": [
        "print('Average word length in each sentence: ')\n",
        "avg_sent_word(main_content_hwz1)"
      ],
      "execution_count": null,
      "outputs": [
        {
          "output_type": "stream",
          "name": "stdout",
          "text": [
            "Average word length in each sentence: \n",
            "Sentence  1 :  5.0\n",
            "Sentence  2 :  4.266666666666667\n",
            "Sentence  3 :  4.4375\n",
            "Sentence  4 :  4.954545454545454\n",
            "Sentence  5 :  4.413793103448276\n",
            "Sentence  6 :  4.833333333333333\n",
            "Sentence  7 :  4.176470588235294\n",
            "Sentence  8 :  4.565217391304348\n",
            "Sentence  9 :  4.583333333333333\n",
            "Sentence  10 :  4.833333333333333\n",
            "Sentence  11 :  4.285714285714286\n",
            "Sentence  12 :  4.666666666666667\n",
            "Sentence  13 :  4.476190476190476\n",
            "Sentence  14 :  4.4\n",
            "Sentence  15 :  5.0\n",
            "Sentence  16 :  4.2272727272727275\n",
            "Sentence  17 :  4.7368421052631575\n",
            "Sentence  18 :  4.433333333333334\n",
            "Sentence  19 :  4.333333333333333\n",
            "Sentence  20 :  4.384615384615385\n",
            "Sentence  21 :  4.625\n",
            "Sentence  22 :  4.642857142857143\n",
            "Sentence  23 :  6.0\n",
            "Sentence  24 :  4.764705882352941\n",
            "Sentence  25 :  4.578947368421052\n",
            "Sentence  26 :  4.277777777777778\n",
            "Sentence  27 :  4.8\n",
            "Sentence  28 :  6.0\n",
            "Sentence  29 :  4.35\n",
            "Sentence  30 :  5.055555555555555\n",
            "Sentence  31 :  5.45\n",
            "Sentence  32 :  5.25\n",
            "Sentence  33 :  3.9642857142857144\n",
            "Sentence  34 :  3.8378378378378377\n",
            "Sentence  35 :  3.8333333333333335\n",
            "Sentence  36 :  4.85\n",
            "Sentence  37 :  4.4\n",
            "Sentence  38 :  5.296296296296297\n",
            "Sentence  39 :  4.416666666666667\n",
            "Sentence  40 :  4.545454545454546\n",
            "Sentence  41 :  3.9615384615384617\n",
            "Sentence  42 :  4.454545454545454\n",
            "Sentence  43 :  3.8823529411764706\n",
            "Sentence  44 :  4.888888888888889\n",
            "Sentence  45 :  3.125\n",
            "Sentence  46 :  4.909090909090909\n",
            "Sentence  47 :  5.25\n"
          ]
        }
      ]
    },
    {
      "cell_type": "code",
      "metadata": {
        "colab": {
          "base_uri": "https://localhost:8080/"
        },
        "id": "eqR7SLN6AC-w",
        "outputId": "b523493e-54a4-4dea-9349-ac3a78777f60"
      },
      "source": [
        "total_stop = 0\n",
        "print('No. of stopwords in each sentence: ')\n",
        "total_ct = calc_stopwords(main_content_hwz1,total_stop)\n",
        "print('Total no of stopwords: ',total_ct)"
      ],
      "execution_count": null,
      "outputs": [
        {
          "output_type": "stream",
          "name": "stdout",
          "text": [
            "No. of stopwords in each sentence: \n",
            "Sentence  1 , No. of stopwords:  2\n",
            "['was', 'on']\n",
            "Sentence  2 , No. of stopwords:  4\n",
            "['a', 'of', 'a', 'the']\n",
            "Sentence  3 , No. of stopwords:  6\n",
            "['had', 'a', 'a', 'against', 'your', 'to']\n",
            "Sentence  4 , No. of stopwords:  10\n",
            "['the', \"didn't\", 'the', 'in', 'and', 'the', 'was', 'and', 'when', 'the']\n",
            "Sentence  5 , No. of stopwords:  12\n",
            "['has', 'to', 'and', 'their', 'the', 'is', 'here', 'for', 'a', 'at', 'in', 'a']\n",
            "Sentence  6 , No. of stopwords:  8\n",
            "['a', 'of', 'the', 'by', 'its', 'and', 'the', 'are']\n",
            "Sentence  7 , No. of stopwords:  6\n",
            "['now', 'a', 'more', 'very', 'to', 'the']\n",
            "Sentence  8 , No. of stopwords:  8\n",
            "['a', 'and', 'the', 'and', 'it', 'in', 'than', 'the']\n",
            "Sentence  9 , No. of stopwords:  4\n",
            "['is', 'a', 'for', 'any']\n",
            "Sentence  10 , No. of stopwords:  10\n",
            "['the', 'is', 'which', 'that', 'such', 'as', 'the', 'for', 'those', 'with']\n",
            "Sentence  11 , No. of stopwords:  9\n",
            "['its', 'down', 'to', 'and', 'it', 'a', 'more', 'than', 'the']\n",
            "Sentence  12 , No. of stopwords:  8\n",
            "['is', 'and', 'there', 'is', 'when', 'down', 'on', 'the']\n",
            "Sentence  13 , No. of stopwords:  8\n",
            "['for', 'a', 'with', 'to', 'that', 'no', 'when', 'the']\n",
            "Sentence  14 , No. of stopwords:  7\n",
            "['it', 'to', 'the', \"it's\", 'than', 'before', 'and']\n",
            "Sentence  15 , No. of stopwords:  10\n",
            "['that', 'the', 'is', 'and', 'the', 'has', 'been', 'of', 'at', 'an']\n",
            "Sentence  16 , No. of stopwords:  11\n",
            "['to', 'have', 'and', 'can', 'this', 'in', 'for', 'you', 'if', 'you', 'have']\n",
            "Sentence  17 , No. of stopwords:  8\n",
            "['are', 'than', \"you'd\", 'on', 'a', 'which', 'with', 'as']\n",
            "Sentence  18 , No. of stopwords:  17\n",
            "['can', 'the', 'through', 'the', 'but', \"it's\", 'that', 'it', 'of', 'into', 'the', 'after', 'a', 'while', 'and', 'you', \"don't\"]\n",
            "Sentence  19 , No. of stopwords:  8\n",
            "['does', 'not', 'so', 'you', \"don't\", 'have', 'to', 'about']\n",
            "Sentence  20 , No. of stopwords:  4\n",
            "['on', 'the', 'are', 'for']\n",
            "Sentence  21 , No. of stopwords:  8\n",
            "['are', 'and', 'but', 'are', 'not', 'as', 'as', 'or']\n",
            "Sentence  22 , No. of stopwords:  7\n",
            "['is', 'the', 'same', 'of', 'which', 'for', 'the']\n",
            "Sentence  23 , No. of stopwords:  5\n",
            "['is', 'and', 'with', 'that', 'for']\n",
            "Sentence  24 , No. of stopwords:  6\n",
            "['a', 'out', 'of', 'the', 'with', 'no']\n",
            "Sentence  25 , No. of stopwords:  8\n",
            "['most', 'other', 'on', 'the', 'the', 'is', 'with', 'a']\n",
            "Sentence  26 , No. of stopwords:  7\n",
            "[\"isn't\", 'the', 'but', 'it', 'does', 'the', 'with']\n",
            "Sentence  27 , No. of stopwords:  3\n",
            "['is', 'a', 'on']\n",
            "Sentence  28 , No. of stopwords:  4\n",
            "['as', 'with', 'no', 'or']\n",
            "Sentence  29 , No. of stopwords:  9\n",
            "['can', 'up', 'to', 'in', 'the', 'and', 'between', 'them', 'the']\n",
            "Sentence  30 , No. of stopwords:  8\n",
            "['then', 'as', 'a', 'for', 'you', 'to', 'what', \"you're\"]\n",
            "Sentence  31 , No. of stopwords:  6\n",
            "['has', 'its', 'own', 'that', 'you', 'and']\n",
            "Sentence  32 , No. of stopwords:  5\n",
            "['some', 'but', 'a', 'of', 'in']\n",
            "Sentence  33 , No. of stopwords:  17\n",
            "['there', 'is', 'no', 'to', 'the', 'and', 'there', 'is', 'just', 'a', 'at', 'the', 'that', 'you', 'to', 'off', 'the']\n",
            "Sentence  34 , No. of stopwords:  19\n",
            "['be', \"didn't\", 'any', 'to', 'the', 'of', 'the', 'while', 'was', 'the', 'but', 'more', 'over', 'what', 'is', 'the', 'of', 'the', 'be']\n",
            "Sentence  35 , No. of stopwords:  5\n",
            "['is', 'a', 'in', 'a', 'very']\n",
            "Sentence  36 , No. of stopwords:  8\n",
            "['is', 'a', 'up', 'from', 'the', 'a', 'more', 'and']\n",
            "Sentence  37 , No. of stopwords:  10\n",
            "['the', 'is', 'no', 'a', 'and', 'it', 'you', 'if', 'you', 'have']\n",
            "Sentence  38 , No. of stopwords:  10\n",
            "['has', 'to', 'the', 'with', \"you'd\", 'from', 'a', 'in', 'a', 'and']\n",
            "Sentence  39 , No. of stopwords:  3\n",
            "['the', 'is', 'as']\n",
            "Sentence  40 , No. of stopwords:  9\n",
            "['you', 'yourself', 'your', 'or', 'just', 'to', 'it', 'is', 'a']\n",
            "Sentence  41 , No. of stopwords:  12\n",
            "['can', 'the', 'here', 'but', \"don't\", 'be', 'into', 'the', 'is', 'this', 'is', 'its']\n",
            "Sentence  42 , No. of stopwords:  5\n",
            "['our', \"you're\", 'in', 'for', 'a']\n",
            "Sentence  43 , No. of stopwords:  7\n",
            "['in', 'and', 'you', 'can', 'the', 'for', 'only']\n",
            "Sentence  44 , No. of stopwords:  4\n",
            "['on', 'the', 'for', 'the']\n",
            "Sentence  45 , No. of stopwords:  5\n",
            "['can', 'out', 'to', 'them', 'here']\n",
            "Sentence  46 , No. of stopwords:  2\n",
            "['no', 'out']\n",
            "Sentence  47 , No. of stopwords:  7\n",
            "['all', 'our', 'who', 'have', 'these', 'in', 'the']\n",
            "Total no of stopwords:  359\n"
          ]
        }
      ]
    },
    {
      "cell_type": "code",
      "metadata": {
        "colab": {
          "base_uri": "https://localhost:8080/"
        },
        "id": "Hy9Iqxg41QxH",
        "outputId": "aa73c7b4-a6ac-44d8-f4dd-9917e7cbe9ac"
      },
      "source": [
        "# Ratio of number of stopwords to total number of words in the article\n",
        "perc_stop = total_ct/article_wordlength(main_content_hwz1)\n",
        "print('Percentage of total article occupied by stopwords: ',perc_stop*100)"
      ],
      "execution_count": null,
      "outputs": [
        {
          "output_type": "stream",
          "name": "stdout",
          "text": [
            "Percentage of total article occupied by stopwords:  36.40973630831643\n"
          ]
        }
      ]
    },
    {
      "cell_type": "code",
      "metadata": {
        "colab": {
          "base_uri": "https://localhost:8080/",
          "height": 295
        },
        "id": "gFXEY8przDgE",
        "outputId": "534a6863-e0cb-4b62-9ecc-330a5f77243e"
      },
      "source": [
        "avgword_vs_stopwords(main_content_hwz1)"
      ],
      "execution_count": null,
      "outputs": [
        {
          "output_type": "display_data",
          "data": {
            "image/png": "[encoded data removed]",
            "text/plain": [
              "<Figure size 432x288 with 1 Axes>"
            ]
          },
          "metadata": {
            "needs_background": "light"
          }
        }
      ]
    },
    {
      "cell_type": "code",
      "metadata": {
        "colab": {
          "base_uri": "https://localhost:8080/"
        },
        "id": "rTFLD6dGQpI0",
        "outputId": "d4bb0603-fc62-4b4f-dc49-e9ec1f71b4e5"
      },
      "source": [
        "print('No. of numerical words in each sentence: ')\n",
        "find_digs(main_content_hwz1)"
      ],
      "execution_count": null,
      "outputs": [
        {
          "output_type": "stream",
          "name": "stdout",
          "text": [
            "No. of numerical words in each sentence: \n",
            "Sentence  1  No. of numerical data:  2\n",
            "['30', '2021']\n",
            "Sentence  11  No. of numerical data:  1\n",
            "['69']\n",
            "Sentence  20  No. of numerical data:  1\n",
            "['50']\n",
            "Sentence  27  No. of numerical data:  3\n",
            "['16', '000', '3389']\n",
            "Sentence  38  No. of numerical data:  1\n",
            "['2021']\n",
            "Sentence  39  No. of numerical data:  1\n",
            "['59']\n",
            "Sentence  41  No. of numerical data:  1\n",
            "['59']\n",
            "Sentence  43  No. of numerical data:  1\n",
            "['49']\n"
          ]
        }
      ]
    },
    {
      "cell_type": "code",
      "metadata": {
        "colab": {
          "base_uri": "https://localhost:8080/"
        },
        "id": "dit96B5jS9CU",
        "outputId": "2be51909-b2b5-4300-bfa5-1887900c1d3f"
      },
      "source": [
        "print('Capitalised / Uppercase words')\n",
        "uppercase(main_content_hwz1)"
      ],
      "execution_count": null,
      "outputs": [
        {
          "output_type": "stream",
          "name": "stdout",
          "text": [
            "Capitalised / Uppercase words\n",
            "UPPERCASE\n",
            "Sentence 2: I\n",
            "Sentence 7: O\n",
            "Sentence 16: I\n",
            "Sentence 24: PTFE\n",
            "Sentence 27: 16,000DPI\n",
            "Sentence 27: PMW3389\n",
            "Sentence 29: DPI\n",
            "Sentence 29: DPI\n",
            "Sentence 31: DPI,\n",
            "Sentence 31: RGB\n",
            "Sentence 34: I\n",
            "Sentence 34: I\n",
            "Sentence 38: RGB\n",
            "Sentence 39: US$59\n",
            "Sentence 41: US$59\n",
            "Sentence 43: HARDWAREZONE\n",
            "Sentence 43: US$49\n",
            "Sentence 47: AWARDS\n",
            "Sentence 47: ACCOLADES\n",
            "CAPITALISED\n",
            "Sentence 1: Note:\n",
            "Sentence 1: This\n",
            "Sentence 1: September\n",
            "Sentence 2: Last\n",
            "Sentence 2: Zephyr\n",
            "Sentence 3: It\n",
            "Sentence 4: Unfortunately,\n",
            "Sentence 5: One\n",
            "Sentence 5: Zephyr\n",
            "Sentence 5: Gaming\n",
            "Sentence 5: Marsback,\n",
            "Sentence 5: Zephyr\n",
            "Sentence 5: Pro,\n",
            "Sentence 6: The\n",
            "Sentence 6: Zephyr\n",
            "Sentence 6: Pro\n",
            "Sentence 7: It's\n",
            "Sentence 7: Glorious\n",
            "Sentence 7: Model\n",
            "Sentence 8: With\n",
            "Sentence 8: Zephyr.\n",
            "Sentence 9: It\n",
            "Sentence 10: However,\n",
            "Sentence 11: The\n",
            "Sentence 11: Zephyr.\n",
            "Sentence 12: Build\n",
            "Sentence 13: And\n",
            "Sentence 13: I'm\n",
            "Sentence 14: When\n",
            "Sentence 15: The\n",
            "Sentence 16: This\n",
            "Sentence 17: The\n",
            "Sentence 18: You\n",
            "Sentence 19: The\n",
            "Sentence 20: The\n",
            "Sentence 20: Omron\n",
            "Sentence 20: Zephyr\n",
            "Sentence 20: Pro\n",
            "Sentence 21: They\n",
            "Sentence 21: Huano\n",
            "Sentence 21: Kailh\n",
            "Sentence 22: There\n",
            "Sentence 23: The\n",
            "Sentence 24: The\n",
            "Sentence 25: Like\n",
            "Sentence 25: Zephyr\n",
            "Sentence 25: Pro\n",
            "Sentence 26: It\n",
            "Sentence 26: I've\n",
            "Sentence 27: The\n",
            "Sentence 28: It\n",
            "Sentence 29: You\n",
            "Sentence 30: The\n",
            "Sentence 31: The\n",
            "Sentence 31: Zephyr\n",
            "Sentence 31: Pro\n",
            "Sentence 32: The\n",
            "Sentence 33: Interestingly\n",
            "Sentence 34: To\n",
            "Sentence 35: The\n",
            "Sentence 35: Zephyr\n",
            "Sentence 35: Pro\n",
            "Sentence 36: It\n",
            "Sentence 37: More\n",
            "Sentence 38: Elsewhere,\n",
            "Sentence 38: Marsback\n",
            "Sentence 39: At\n",
            "Sentence 39: Zephyr\n",
            "Sentence 39: Pro\n",
            "Sentence 40: If\n",
            "Sentence 41: You\n",
            "Sentence 41: Marsback\n",
            "Sentence 41: Zephyr\n",
            "Sentence 41: Pro\n",
            "Sentence 42: For\n",
            "Sentence 43: Patch\n",
            "Sentence 44: Have\n",
            "Sentence 45: You\n",
            "Sentence 46: No\n",
            "Sentence 47: Trending\n",
            "Sentence 47: Topics\n",
            "Sentence 47: Our\n",
            "Sentence 47: Sections\n",
            "Sentence 47: We\n"
          ]
        }
      ]
    },
    {
      "cell_type": "markdown",
      "metadata": {
        "id": "yMz3g0RZW3AD"
      },
      "source": [
        "### Hardwarezone Article #2\n",
        "<br> **Title**: Apple’s third-generation AirPods features spatial audio, longer battery life, and reimagined design (Updated)"
      ]
    },
    {
      "cell_type": "code",
      "metadata": {
        "id": "CS0mpeHUXNAD",
        "colab": {
          "base_uri": "https://localhost:8080/"
        },
        "outputId": "e0665ee9-f677-4644-92fb-be04bb0ed75e"
      },
      "source": [
        "url2 = 'https://www.hardwarezone.com.sg/tech-news-apple-third-generation-airpods-3-2021-pricing-availability-singapore-pre-order'\n",
        "html = urlopen(url2).read()\n",
        "soup = BS(html,\"html5lib\")\n",
        "type(soup)"
      ],
      "execution_count": null,
      "outputs": [
        {
          "output_type": "execute_result",
          "data": {
            "text/plain": [
              "bs4.BeautifulSoup"
            ]
          },
          "metadata": {},
          "execution_count": 27
        }
      ]
    },
    {
      "cell_type": "code",
      "metadata": {
        "colab": {
          "base_uri": "https://localhost:8080/"
        },
        "id": "M9lnXW2JXm96",
        "outputId": "aedb837e-9ede-438b-aa04-63ff06697f2d"
      },
      "source": [
        "soup.title"
      ],
      "execution_count": null,
      "outputs": [
        {
          "output_type": "execute_result",
          "data": {
            "text/plain": [
              "<title>Apple’s third-generation AirPods features spatial audio, longer battery life, and reimagined design (Updated) - HardwareZone.com.sg</title>"
            ]
          },
          "metadata": {},
          "execution_count": 28
        }
      ]
    },
    {
      "cell_type": "code",
      "metadata": {
        "id": "TNM50mCuXm96",
        "colab": {
          "base_uri": "https://localhost:8080/"
        },
        "outputId": "90d13c9f-464f-4f12-b80e-f0ee4a1264be"
      },
      "source": [
        "print(soup)"
      ],
      "execution_count": null,
      "outputs": [
        {
          "output_type": "stream",
          "name": "stdout",
          "text": [
            "<!DOCTYPE html>\n",
            "<html lang=\"en\" prefix=\"og:http://ogp.me/ns# fb:http://ogp.me/ns/fb#\"><head>\n",
            "\t<!-- 2020 -->\n",
            "\t<meta content=\"initial-scale=1,maximum-scale=1,user-scalable=no,width=device-width\" name=\"viewport\"/>\n",
            "\t<meta content=\"IE=edge,chrome=1\" http-equiv=\"X-UA-Compatible\"/>\n",
            "\t<link href=\"/manifest.json\" rel=\"manifest\"/>\n",
            "\n",
            "\t<meta content=\"text/html; charset=utf-8\" http-equiv=\"Content-Type\"/>\t<title>Apple’s third-generation AirPods features spatial audio, longer battery life, and reimagined design (Updated) - HardwareZone.com.sg</title>\n",
            "\n",
            "\t<link href=\"https://www.hardwarezone.com.sg/img/icons/hwz.ico\" rel=\"shortcut icon\" type=\"image/x-icon\"/>\n",
            "<link href=\"https://fonts.googleapis.com/css?family=Open+Sans+Condensed:700|Open+Sans:400,700,800\" rel=\"stylesheet\" type=\"text/css\"/>\n",
            "<link href=\"/css/hwzwww-2020.css?0805\" rel=\"stylesheet\" type=\"text/css\"/>\n",
            "<link href=\"/css/hwzwww-nav.css?0805\" rel=\"stylesheet\" type=\"text/css\"/>\n",
            "<link href=\"/css/nonmember-subscription.css?0805\" rel=\"stylesheet\" type=\"text/css\"/>\n",
            "<link href=\"/css/news.css?0805\" rel=\"stylesheet\" type=\"text/css\"/>\n",
            "\n",
            "\t<script type=\"text/javascript\">\n",
            "\t//<![CDATA[\n",
            "\t\t// Global parameters under HWZ namespace\n",
            "\t\twindow.HWZ = {\"accordion\":{\"highlight\":\"news\\/238\",\"enabled\":false,\"index\":-1},\"gtm\":{\"content_type\":\"article\",\"article_keyword\":\"apple,magsafe,dolby atmos,airpods,true wireless earphones,true wireless earbuds,spatial audio,airpods 3,tws,airpods 2021,third-generation airpods,apple unleashed 2021\",\"page_name\":\"Apple\\u2019s third-generation AirPods features spatial audio, longer battery life, and reimagined design (Updated)\",\"pagination\":\"1\"},\"gam\":{\"section\":\"ros\\/news-ros\",\"articleid\":\"695646\",\"page\":\"article\",\"tag\":[\"apple\",\"magsafe\",\"dolby atmos\",\"airpods\",\"true wireless earphones\",\"true wireless earbuds\",\"spatial audio\",\"airpods 3\",\"tws\",\"airpods 2021\",\"third-generation airpods\",\"apple unleashed 2021\"]},\"layout\":{\"enabled\":true,\"width\":\"fixed\"},\"fonts\":{\"enabled\":false,\"size\":\"medium\"}};\n",
            "\t\twindow._hwz_ga = window._hwz_ga || {};\n",
            "\n",
            "\t\tvar HWZGTMSession = {\"user_id_h\":\"\",\"visitor_category_h\":\"anonymous\",\"user_id_s\":\"\",\"visitor_category_s\":\"anonymous\",\"euid\":\"\"};\n",
            "\t\tfor(var gtmkey in HWZGTMSession) {\n",
            "\t\t\twindow.HWZ.gtm[gtmkey] = HWZGTMSession[gtmkey];\n",
            "\t\t}\n",
            "\n",
            "\t//]]>\n",
            "\t</script>\n",
            "\n",
            "\t<script src=\"/js/mootools/1.6.0/mootools.min.js?0805\" type=\"text/javascript\"></script><script src=\"/js/shared.1.6.0.js?0805\" type=\"text/javascript\"></script><script src=\"/js/global2020.js?0805\" type=\"text/javascript\"></script><script src=\"/js/notification.js?0805\" type=\"text/javascript\"></script><script src=\"/js/campaigns/wwwskin.js?0805\" type=\"text/javascript\"></script><link href=\"https://www.hardwarezone.com.sg/tech-news-apple-third-generation-airpods-3-2021-pricing-availability-singapore-pre-order\" rel=\"canonical\"/>\n",
            "\t<meta content=\"apple, magsafe, dolby atmos, airpods, true wireless earphones, true wireless earbuds, spatial audio, airpods 3, tws, airpods 2021, third-generation airpods, apple unleashed 2021\" name=\"keywords\"/>\n",
            "\t<meta content=\"In a nutshell, the new buds tap on many of Apple’s audio advances, offering features like Spatial Audio, while also improving its overall robustness with longer battery life and an improved design. \n",
            "\" name=\"description\"/>\n",
            "\t<meta content=\"Apple’s third-generation AirPods features spatial audio, longer battery life, and reimagined design (Updated)\" name=\"title\"/>\n",
            "\t<link href=\"https://www.hardwarezone.com.sg/thumbs/695646/b.jpg\" rel=\"image_src\" title=\"\" type=\"\"/>\n",
            "\t<meta content=\"Apple’s third-generation AirPods features spatial audio, longer battery life, and reimagined design (Updated)\" property=\"og:title\"/>\n",
            "\t<meta content=\"In a nutshell, the new buds tap on many of Apple’s audio advances, offering features like Spatial Audio, while also improving its overall robustness with longer battery life and an improved design. \n",
            "\" property=\"og:description\"/>\n",
            "\t<meta content=\"https://www.hardwarezone.com.sg/tech-news-apple-third-generation-airpods-3-2021-pricing-availability-singapore-pre-order\" property=\"og:url\"/>\n",
            "\t<meta content=\"article\" property=\"og:type\"/>\n",
            "\t<meta content=\"https://www.hardwarezone.com.sg/thumbs/695646/b.jpg\" property=\"og:image\"/>\n",
            "\t<meta content=\"500\" property=\"og:image:width\"/>\n",
            "\t<meta content=\"316\" property=\"og:image:height\"/>\n",
            "\t<meta content=\"apple\" property=\"article:tag\"/>\n",
            "\t<meta content=\"magsafe\" property=\"article:tag\"/>\n",
            "\t<meta content=\"dolby atmos\" property=\"article:tag\"/>\n",
            "\t<meta content=\"airpods\" property=\"article:tag\"/>\n",
            "\t<meta content=\"true wireless earphones\" property=\"article:tag\"/>\n",
            "\t<meta content=\"true wireless earbuds\" property=\"article:tag\"/>\n",
            "\t<meta content=\"spatial audio\" property=\"article:tag\"/>\n",
            "\t<meta content=\"airpods 3\" property=\"article:tag\"/>\n",
            "\t<meta content=\"tws\" property=\"article:tag\"/>\n",
            "\t<meta content=\"airpods 2021\" property=\"article:tag\"/>\n",
            "\t<meta content=\"third-generation airpods\" property=\"article:tag\"/>\n",
            "\t<meta content=\"apple unleashed 2021\" property=\"article:tag\"/>\n",
            "\t<meta content=\"summary_large_image\" property=\"twitter:card\"/>\n",
            "\t<meta content=\"@hardwarezone\" property=\"twitter:site\"/>\n",
            "\t<meta content=\"https://www.hardwarezone.com.sg/thumbs/news/695646/t.jpg\" property=\"twitter:image\"/>\n",
            "\t<script type=\"text/javascript\">\n",
            "//<![CDATA[\n",
            "\n",
            "\t\tvar _hwz_ga = _hwz_ga || {};\n",
            "\t\t_hwz_ga.dimension1 = \"2021-10-23\";\n",
            "\t\t_hwz_ga.dimension2 = \"Apple\\u2019s third-generation AirPods features spatial audio, longer battery life, and reimagined design (Updated)\";\n",
            "\t\t_hwz_ga.dimension3 = \"News\";\n",
            "\t\t_hwz_ga.dimension4 = \"Liu Hongzuo\";\n",
            "\t\t_hwz_ga.dimension5 = \"Single-Page Article\";\n",
            "\t\t_hwz_ga.dimension6 = \"Audio & Visual\";\n",
            "\t\t_hwz_ga.contentGroup2 = \"Audio & Visual\";\n",
            "\t\tif (true) _hwz_ga.metric1 = 1;\n",
            "\n",
            "//]]>\n",
            "</script>\n",
            "\t<script type=\"text/javascript\">\n",
            "//<![CDATA[\n",
            "\n",
            "\t\tvar _hwz_scarabqueue = {\"content_title\":\"Apple\\u2019s third-generation AirPods features spatial audio, longer battery life, and reimagined design (Updated)\",\"content_url\":\"https:\\/\\/www.hardwarezone.com.sg\\/tech-news-apple-third-generation-airpods-3-2021-pricing-availability-singapore-pre-order\",\"content_category\":\"Just Announced,Audio & Visual\",\"content_tag\":\"apple,magsafe,dolby atmos,airpods,true wireless earphones,true wireless earbuds,spatial audio,airpods 3,tws,airpods 2021,third-generation airpods,apple unleashed 2021\"};\n",
            "\n",
            "//]]>\n",
            "</script>\n",
            "\t<script src=\"https://s7.addthis.com/js/300/addthis_widget.js#pubid=ra-51024f5359a043f4\" type=\"text/javascript\"></script>\n",
            "\t<script type=\"text/javascript\">\n",
            "//<![CDATA[\n",
            "\twindow.addEvent ('domready', function ()\n",
            "\t{\n",
            " \n",
            "\t\t(function(){\n",
            "\t\t\tvar maxh = 400;\n",
            "\t\t\tvar a = $$('.paginate_article .jumplist');\n",
            "\t\t\tif (a.length < 1) return;\n",
            "\t\t\tfor(var i=0;i<a.length;i++){\n",
            "\t\t\t\tif (a[i].hasClass('adjusted')) continue;\n",
            "\t\t\t\tvar w = a[i].getSize().x, m = 0 - Math.floor(w / 2) + 'px', h = a[i].getScrollSize().y;\n",
            "\t\t\t\tvar s = {'margin-left': m, 'height': h};\n",
            "\t\t\t\tif (h > 400) s.overflow = 'auto';\n",
            "\t\t\t\ta[i].setStyles(s).addClass('adjusted');\n",
            "\t\t\t\t//check if need to open upwards\n",
            "\t\t\t\tvar p = $$('.paginate_article').getParent();\n",
            "\t\t\t\tif (p.length > 0) {\n",
            "\t\t\t\t\tvar mh = (h > maxh ? maxh : h);\n",
            "\t\t\t\t\tvar rh = a[i].getPosition(p[0]).y + mh;\n",
            "\t\t\t\t\tif (rh > p[0].getScrollSize().y) {\n",
            "\t\t\t\t\t\ta[i].addClass('inverted');\n",
            "\t\t\t\t\t}\n",
            "\t\t\t\t}\n",
            "\t\t\t}\n",
            "\n",
            "\t\t\t$$('.paginate_article .jumptitle').addEvent('click', function(e){\n",
            "\t\t\t\te.stopPropagation();\n",
            "\t\t\t\tvar a = $$('.paginate_article .jumplist');\n",
            "\t\t\t\tvar o = $(this).getSiblings('.jumplist');\n",
            "\t\t\t\tif (a.length == 0 || o.length == 0) return;\n",
            "\t\t\t\to = o[0];\n",
            "\t\t\t\tfor(var i=0;i<a.length;i++) {\n",
            "\t\t\t\t\tif (a[i] == o) o.toggleClass('hide');\n",
            "\t\t\t\t\telse if (!a[i].hasClass('hide')) a[i].addClass('hide');\n",
            "\t\t\t\t}\n",
            "\t\t\t}).addEvent('keydown', function(e) { if (e.key == 'esc') $$('.paginate_article .jumplist').addClass('hide'); });\n",
            "\t\t\t$$('.paginate_article .jumplist a').addEvent('click', function(e){ e.stopPropagation(); });\n",
            "\t\t\t$$('body').addEvent('click', function(){\n",
            "\t\t\t\tvar a = $$('.paginate_article .jumplist');\n",
            "\t\t\t\tif (a.length == 0) return;\n",
            "\t\t\t\tfor(var i=0;i<a.length;i++) if (!a[i].hasClass('hide')) a[i].addClass('hide');\n",
            "\t\t\t});\n",
            "\t\t})();\n",
            " \n",
            "\t});\n",
            "//]]>\n",
            "</script>\n",
            "\t\n",
            "<style type=\"text/css\">\n",
            "/*<![CDATA[*/\n",
            "\n",
            "\t.paginate_article { background:#fff; border:1px solid #eee; height:36px; font:normal 16px/36px 'Source Sans Pro', Arial, sans-serif; clear:both; }\n",
            "\t.paginate_article ul { padding:0; margin:0; position:relative; height:36px; }\n",
            "\t.paginate_article li { list-style:none; padding:0; margin:0; height:36px; }\n",
            "\t.paginate_article .prev, .paginate_article .next {\n",
            "\t\ttext-transform:uppercase;\n",
            "\t\tbackground:#eee;\n",
            "\t\tposition:absolute; top:0;\n",
            "\t\theight:36px;\n",
            "\t\tline-height:36px;\n",
            "\t\tcolor #333;\n",
            "\t\tfont-size:18px;\n",
            "\t\tz-index: 5;\n",
            "\t}\n",
            "\t.paginate_article a { color:#333; }\n",
            "\t.paginate_article a:hover { color:#000; }\n",
            "\t.paginate_article .prev a,\n",
            "\t.paginate_article .next a,\n",
            "\t.paginate_article .prev span,\n",
            "\t.paginate_article .next span {\n",
            "\t\tdisplay:block;\n",
            "\t\theight:36px;\n",
            "\t\tline-height:36px;\n",
            "\t\tcolor: #333;\n",
            "\t\tfont-size:16px;\n",
            "\t\tpadding:0 20px;\n",
            "\t}\n",
            "\t.paginate_article .prev a:hover,\n",
            "\t.paginate_article .next a:hover { color:#000; }\n",
            "\t.paginate_article .prev span,\n",
            "\t.paginate_article .next span { color: #ccc; cursor:default; }\n",
            "\t.paginate_article .prev { left:0; }\n",
            "\t.paginate_article .prev:after {\n",
            "\t\tcontent: \"\";\n",
            "\t\tdisplay: block;\n",
            "\t\twidth: 0;\n",
            "\t\theight: 0;\n",
            "\t\tborder: 1px solid #eee;\n",
            "\t\tborder-width: 18px 0 18px;\n",
            "\t\tposition: absolute;\n",
            "\t\ttop: 0;\n",
            "\t\tright: -9px;\n",
            "\t\tborder-right: 9px solid #fff;\n",
            "\t}\n",
            "\t.paginate_article .next { right:0; }\n",
            "\t.paginate_article .next:before {\n",
            "\t\tcontent: \"\";\n",
            "\t\tdisplay: block;\n",
            "\t\twidth: 0;\n",
            "\t\theight: 0;\n",
            "\t\tborder: 1px solid #eee;\n",
            "\t\tborder-width: 18px 0 18px;\n",
            "\t\tposition: absolute;\n",
            "\t\ttop: 0;\n",
            "\t\tleft: -9px;\n",
            "\t\tborder-left: 9px solid #fff;\n",
            "\t}\n",
            "\t.paginate_article .jump { z-index: 10; }\n",
            "\t.paginate_article .jumplist {\n",
            "\t\tborder:1px solid #eee;\n",
            "\t\tposition:absolute;\n",
            "\t\ttop: 36px;\n",
            "\t\tleft:0;\n",
            "\t\tmax-width:75%;\n",
            "\t\tpadding:0 30px;\n",
            "\t\tborder-width:0px 1px 1px;\n",
            "\t\tbackground:#fff;\n",
            "\t\toverflow:hidden;\n",
            "\t\t-webkit-transition: height 250ms ease;\n",
            "\t\t-moz-transition: height 250ms ease;\n",
            "\t\t-o-transition: height 250ms ease;\n",
            "\t\ttransition: height 250ms ease;\n",
            "\t \tmax-height:400px;\n",
            "\t \tz-index:50;\n",
            "\t}\n",
            "\t.paginate_article .jumplist.adjusted { left:50%; }\n",
            "\t.paginate_article .jumplist.inverted { bottom:36px; top:auto; border-width:1px 1px 0px; }\n",
            "\t.paginate_article .jumplist.hide { height:0px !important; overflow:hidden; }\n",
            "\t.paginate_article .jumplist a { display:block; line-height:20px; padding:10px 0 10px 2em; text-indent:-2em; position:relative; }\n",
            "\t/*.paginate_article .jumplist a.current:before { content:\"\"; display:block; position:absolute; width:0; height:0; border: 1px solid #fff; border-width: 5px 0px 5px 5px; border-left: 5px solid #333; left:-10px; top:15px; }*/\n",
            "\t.paginate_article .jumptitle { display:block; text-align:center; margin:0 auto; max-width:75%; overflow:hidden; white-space:nowrap; text-overflow:ellipsis; cursor:default; }\n",
            "\t.paginate_article .jumptitle:focus { text-shadow:none; }\n",
            "\t.paginate_article .jumptitle span { position:relative; }\n",
            "\t.paginate_article .jumptitle span:before { content:\"\"; display:block; width:10px; height:10px; background:transparent url(/img/core/buttons/page_arrow.png) no-repeat 50% 50%; position:absolute; top:8px; left:-15px; }\n",
            "\n",
            "/*]]>*/\n",
            "</style>\n",
            "\n",
            "\t<script type=\"text/javascript\">\n",
            "//<![CDATA[\n",
            "\twindow.addEvent ('domready', function ()\n",
            "\t{\n",
            " \n",
            "var xContent = $('hwz-news');\n",
            "var tables = xContent.getElements('.content.resizeable table');\n",
            "var youtubes = xContent.getElements('.content.resizeable iframe');\n",
            "\n",
            "var uWrapper = wrapper = null;\n",
            "\n",
            "\n",
            "tables.each(function(table, i){\n",
            "  wrapper = new Element('div', {'class': 'xclusives-view-table-wrapper side-nav-scroll-style'}).wraps(table);\n",
            "\twrapper.grab(table);\n",
            "});\n",
            "\n",
            "youtubes.each(function(youtube, j){\n",
            "\tif(youtube.get('src')){\n",
            "\t\tif(youtube.get('src').indexOf('youtube') !== -1 ){\n",
            "\t\t\tuWrapper = new Element('div', {'class': 'vid-embed-youtube'}).wraps(youtube);\n",
            "\t\t\tuWrapper.grab(youtube);\n",
            "\t\t}\n",
            "\t}\n",
            "});\n",
            "\n",
            " \n",
            "\t});\n",
            "//]]>\n",
            "</script><script src=\"/js/ads/display.js?0805\" type=\"text/javascript\"></script><script src=\"/js/hwzgtm.js?0805\" type=\"text/javascript\"></script><!-- HWZ-Ad-header --> \n",
            "<script>\n",
            "var _hwz_ga = window._hwz_ga || {};\n",
            "if (window.HWZ && HWZ.customURL) _hwz_ga.page = HWZ.customURL;\n",
            "if (!_hwz_ga.dimension1 && !_hwz_ga.metric1) _hwz_ga.metric1 = 1;\n",
            "</script>\n",
            "<!-- 9GJzUFlXkjDj-kIiIZjQ1I7ct8Q  --><!-- Random Num for DFP -->\n",
            "<script language=\"JavaScript\" type=\"text/javascript\">\n",
            "//<![CDATA[\n",
            "ord=Math.random()*10000000000000000;\n",
            "//]]>\n",
            "</script><meta content=\"jzly85i9htyvrn3cpm8zaun1feehss\" name=\"facebook-domain-verification\"/>\n",
            "<!-- /HWZ-Ad-header --> \n",
            "<meta content=\"gs_entertain_music,gs_tech_phones,gs_tech_computing\" id=\"grapeshot\" name=\"grapeshot_tag\"/>\n",
            "<script type=\"text/javascript\">\n",
            "\twindow.gpt_grapeshots = [\"gs_entertain_music\",\"gs_tech_phones\",\"gs_tech_computing\"];\n",
            "</script>\n",
            "<script type=\"text/javascript\">\n",
            "var ScarabQueue = ScarabQueue || [];\n",
            "(function(id) {\n",
            "\tvar _hwz_scarabqueue = window._hwz_scarabqueue || {};\t\n",
            "\tvar a = ['content_title','content_url','content_category','content_tag'];\n",
            "\tfor(var i=0;i<a.length;i++) if (typeof(_hwz_scarabqueue[a[i]]) != 'string') return;\n",
            "\n",
            "\tif (document.getElementById(id)) return;\n",
            "\tvar js = document.createElement('script'); js.id = id;\n",
            "\tjs.src = '//cdn.scarabresearch.com/js/1C993F299CB568ED/scarab-v2.js';\n",
            "\tvar fs = document.getElementsByTagName('script')[0];\n",
            "\tfs.parentNode.insertBefore(js, fs);\n",
            "})('scarab-js-api');\n",
            "\n",
            "(function(){\n",
            "\tvar _hwz_scarabqueue = window._hwz_scarabqueue || {};\t\n",
            "\tvar a = ['content_title','content_url','content_category','content_tag'];\n",
            "\tfor(var i=0;i<a.length;i++) if (typeof(_hwz_scarabqueue[a[i]]) != 'string') return;\n",
            "\n",
            "\t//ScarabQueue.push(['testMode']);\n",
            "\tScarabQueue.push(['tag', 'content_pageview', _hwz_scarabqueue]);\n",
            "\tScarabQueue.push(['go']);\n",
            "})();\n",
            "</script>\n",
            "<script src=\"/js/sphmoverlay.js?0805\" type=\"text/javascript\"></script>\n",
            "<link href=\"/css/sphmoverlay.css?0805\" rel=\"stylesheet\" type=\"text/css\"/>\n",
            "<script src=\"/js/hwz_gam.js?0805\" type=\"text/javascript\"></script><link href=\"https://tags.crwdcntrl.net\" rel=\"preconnect\"/>\n",
            "<link href=\"https://bcp.crwdcntrl.net\" rel=\"preconnect\"/>\n",
            "<link href=\"https://tags.crwdcntrl.net\" rel=\"dns-prefetch\"/>\n",
            "<link href=\"https://bcp.crwdcntrl.net\" rel=\"dns-prefetch\"/>\n",
            "<script>\n",
            "!function() {\n",
            "  // Immediately load audiences and id from local storage\n",
            "  try {\n",
            "        var storedAuds = window.localStorage.getItem('lotame_4761_auds') || '';\n",
            "        if (storedAuds) {\n",
            "          googletag.cmd.push(function() {\n",
            "            window.googletag.pubads().setTargeting('audid', storedAuds.split(','));\n",
            "          });\n",
            "        }\n",
            "\n",
            "        var localStoragePid = window.localStorage.getItem('_cc_id') || '';\n",
            "        if (localStoragePid) {\n",
            "          googletag.cmd.push(function() {\n",
            "              window.googletag.pubads().setTargeting('dfp_cc_id', localStoragePid);\n",
            "          });\n",
            "        }\n",
            "      } catch(e) {\n",
            "   }\n",
            "\n",
            "  // Callback when targeting audience is ready to push latest audience data\n",
            "  var audienceReadyCallback = function (profile) {\n",
            "        // Get audiences as an array\n",
            "        var lotameAudiences = profile.getAudiences() || [];\n",
            "\n",
            "        // Set the new target audiences for call to Google\n",
            "        googletag.cmd.push(function() {\n",
            "          window.googletag.pubads().setTargeting('audid', lotameAudiences);\n",
            "        });\n",
            "\n",
            "        var lotamePid = profile.getProfileId() || '';\n",
            "        if (lotamePid) {\n",
            "          googletag.cmd.push(function() {\n",
            "            window.googletag.pubads().setTargeting('dfp_cc_id', lotamePid);\n",
            "          });\n",
            "        }\n",
            "   };\n",
            "\n",
            "  // Lotame config\n",
            "      var lotameClientId = '4761';\n",
            "      var lotameTagInput = {\n",
            "          data: {},\n",
            "          config: {\n",
            "            clientId: Number(lotameClientId),\n",
            "            // audiences will write to localStorage under the key lotame_4761_auds\n",
            "            audienceLocalStorage: true,\n",
            "            onProfileReady: audienceReadyCallback\n",
            "          }\n",
            "      };\n",
            "\n",
            "      // Lotame initialization\n",
            "      var lotameConfig = lotameTagInput.config || {};\n",
            "      var namespace = window['lotame_' + lotameConfig.clientId] = {};\n",
            "      namespace.config = lotameConfig;\n",
            "      namespace.data = lotameTagInput.data || {};\n",
            "      namespace.cmd = namespace.cmd || [];\n",
            "    } ();\n",
            "</script>\n",
            "\n",
            "<script async=\"\" src=\"https://tags.crwdcntrl.net/lt/c/4761/lt.min.js\"></script>\n",
            "\t\n",
            "\t<!--[if IE 6]><link rel=\"stylesheet\" type=\"text/css\" href=\"/css/ie6.css\" /><![endif]-->\n",
            "\t<!--[if IE 7]><link rel=\"stylesheet\" type=\"text/css\" href=\"/css/ie7.css\" /><![endif]-->\n",
            "\t<script src=\"/js/header2020.js?0805\" type=\"text/javascript\"></script>\n",
            "<link href=\"/css/navigation-bar.css?0805\" rel=\"stylesheet\" type=\"text/css\"/>\n",
            "</head>\n",
            "\n",
            "<body>\n",
            "\t<div id=\"sphm_overlay\"><div id=\"sphm_overlay_continue\"></div><div class=\"lds-ring\"><div></div><div></div><div></div><div></div></div></div>\n",
            "\t<script>(function(){if(typeof(SPHMoverlay)=='undefined')return;SPHMoverlay.initcheck()})();</script>\n",
            "\n",
            "\t<!-- Google Tag Manager (noscript) -->\n",
            "\t<noscript><iframe height=\"0\" src=\"https://www.googletagmanager.com/ns.html?id=GTM-N58WWMC\" style=\"display:none;visibility:hidden\" width=\"0\"></iframe></noscript>\n",
            "\t<!-- End Google Tag Manager (noscript) -->\n",
            "\n",
            "\t\n",
            "\t\n",
            "<header class=\"nav-header\">\n",
            "\t<nav class=\"nav-above\" id=\"nav-above\">\n",
            "\t\t<ul class=\"nav-top-bar\" role=\"navigation\">\n",
            "\t\t\t<li class=\"nav-menu-logo-ham-content\">\n",
            "\n",
            "\t\t\t\t<a class=\"nav-logo-link\" href=\"/home\"></a>\n",
            "\t\t\t\t<a class=\"ham-menu-link\" href=\"javascript:openDkSideNav()\"></a>\n",
            "\t\t\t</li>\n",
            "\n",
            "\t\t\t<li class=\"nav-top-followus-link nav-top-li-right\">\n",
            "\t\t\t\t<a href=\"/newsletters/subscribe\" title=\"Follow Us\">Follow Us</a>\t\t\t</li>\n",
            "\n",
            "\t\t\t\n",
            "\t\t\t<li class=\"nav-top-hwzcoupons-link nav-top-li-right\">\n",
            "\t\t\t\t<a href=\"https://coupons.hardwarezone.com.sg/\" title=\"HWZ Coupons\">HWZ Coupons</a>\t\t\t\t<div class=\"nav-top-hwwccoupons-sub\">\n",
            "\t\t\t\t\t<div><a href=\"https://coupons.hardwarezone.com.sg/lazada-coupons\">Lazada</a></div>\n",
            "\t\t\t\t\t<div><a href=\"https://coupons.hardwarezone.com.sg/shopee-promo-code\">Shopee</a></div>\n",
            "\t\t\t\t\t<div><a href=\"https://coupons.hardwarezone.com.sg/grab-food-voucher-code\">GrabFood</a></div>\n",
            "\t\t\t\t\t<div><a href=\"https://coupons.hardwarezone.com.sg/foodpanda-voucher\">Foodpanda</a></div>\n",
            "\t\t\t\t</div>\n",
            "\t\t\t</li>\n",
            "\n",
            "\t\t\t<li class=\"nav-top-techshows-link nav-top-li-right\">\n",
            "\t\t\t\t<a href=\"https://www.hardwarezone.com.sg/tech-show-brochures/\" target=\"_blank\" title=\"Tech Shows\">Tech Shows</a>\t\t\t</li>\n",
            "\n",
            "\t\t\t<li class=\"nav-top-shopping-link nav-top-li-right\">\n",
            "\t\t\t\t\t\t\t<a href=\"https://forums.hardwarezone.com.sg/categories/marketplace.250/\" target=\"_blank\" title=\"Market Place\">Market Place</a>\t\t\t\t\t\t</li>\n",
            "\n",
            "\t\t\t<li class=\"nav-top-shopping-link nav-top-li-right\">\n",
            "\t\t\t\t<a href=\"/priceLists\" title=\"Price List Downloads\">Price Lists</a>\t\t\t</li>\n",
            "\n",
            "\t\t\t<li class=\"nav-top-forums-link nav-top-li-right\">\n",
            "\t\t\t\t<a href=\"https://forums.hardwarezone.com.sg\" target=\"_blank\" title=\"HWZ Forums\">Forums</a>\t\t\t</li>\n",
            "\n",
            "\t\t\t\t\t</ul>\n",
            "\t</nav>\n",
            "\t<nav class=\"nav\" id=\"floating-nav-bar\">\n",
            "\t\t<ul class=\"nav-main-bar\">\n",
            "\n",
            "\t\t\t\n",
            "\t\t\t<li class=\"nav-main-menu-container\">\n",
            "\n",
            "\t\t\t\t<ul class=\"nav-main-menu\">\n",
            "\t\t\t\t\t<li>\n",
            "\t\t\t\t\t\t<a href=\"/tech-news/list\">News</a>\t\t\t\t\t</li>\n",
            "\n",
            "\t\t\t\t\t<li>\n",
            "\t\t\t\t\t\t<a href=\"/reviews\">Reviews</a>\t\t\t\t\t</li>\n",
            "\n",
            "\t\t\t\t\t<li>\n",
            "\t\t\t\t\t\t<a href=\"/hwz-tv\">Videos</a>\t\t\t\t\t</li>\n",
            "\n",
            "\t\t\t\t\t<li class=\"nav-main-drop-down-caret\">\n",
            "\t\t\t\t\t\t<a class=\"nav-main-menu-topics-link nav-main-menu-dropdown-link\" href=\"/product-guide\" id=\"nav-main-menu-topics-link-id\"><span>Topics</span><span class=\"nav-main-menu-caret-text\"></span></a>\n",
            "\t\t\t\t\t\t<div class=\"main-menu-dropdown-content\" id=\"topics-dropdown\">\n",
            "\t\t\t\t\t\t<a href=\"/product-guide/47825-smartphones-tablets/home\" tabindex=\"50\">Smartphones &amp; Tablets</a><div class=\"menu-together\"><a class=\"\" href=\"/product-guide/47826-networking-telco/home\">Networking &amp; Telco</a><div class=\"menu-submenu\"><a class=\"\" href=\"/product-guide/213-networking/home\">Networking</a><a class=\"\" href=\"/product-guide/47833-telco/home\">Telco</a></div></div><a href=\"/product-guide/154-notebooks/home\" tabindex=\"50\">Notebooks</a><a href=\"/product-guide/206-headphones/home\" tabindex=\"50\">Headphones</a><a href=\"/product-guide/23923-wearables/home\" tabindex=\"50\">Wearables</a><a href=\"/product-guide/203-photography/home\" tabindex=\"50\">Photography</a><a href=\"/product-guide/403-apps-software/home\" tabindex=\"50\">Apps &amp; Software</a><a href=\"/product-guide/404-internet-cloud-ecommerce/home\" tabindex=\"50\">Internet, Cloud, eCommerce</a><div class=\"menu-together\"><a class=\"\" href=\"/product-guide/47827-computing/home\">Computing</a><div class=\"menu-submenu\"><a class=\"\" href=\"/product-guide/202-desktop-systems/home\">Desktop Systems</a><a class=\"\" href=\"/product-guide/154-notebooks/home\">Notebooks</a><a class=\"\" href=\"/product-guide/212-input-devices/home\">Input Devices</a><a class=\"\" href=\"/product-guide/214-monitors/home\">Monitors</a><a class=\"\" href=\"/product-guide/263-printers/home\">Printers</a><a class=\"\" href=\"/product-guide/197-storage/home\">Storage</a></div></div><div class=\"menu-together\"><a class=\"\" href=\"/product-guide/262-pc-components/home\">PC Components</a><div class=\"menu-submenu\"><a class=\"\" href=\"/product-guide/261-casings/home\">Casings</a><a class=\"\" href=\"/product-guide/211-coolers/home\">Coolers</a><a class=\"\" href=\"/product-guide/194-cpu/home\">CPU</a><a class=\"\" href=\"/product-guide/196-graphics-cards/home\">Graphics Cards</a><a class=\"\" href=\"/product-guide/210-memory/home\">Memory</a><a class=\"\" href=\"/product-guide/195-motherboard/home\">Motherboard</a><a class=\"\" href=\"/product-guide/6578-power-supply-units/home\">Power Supply Units</a></div></div><div class=\"menu-together\"><a class=\"\" href=\"/product-guide/204-audio-visual/home\">Audio &amp; Visual</a><div class=\"menu-submenu\"><a class=\"\" href=\"/product-guide/207-av-systems/home\">AV Systems</a><a class=\"\" href=\"/product-guide/206-headphones/home\">Headphones</a><a class=\"\" href=\"/product-guide/209-media-streamers-and-hubs/home\">Media Streamers and Hubs</a><a class=\"\" href=\"/product-guide/6580-projectors/home\">Projectors</a><a class=\"\" href=\"/product-guide/205-speakers/home\">Speakers</a><a class=\"\" href=\"/product-guide/215-televisions/home\">Televisions</a></div></div><div class=\"menu-together\"><a class=\"\" href=\"/product-guide/47835-gaming-entertainment-culture/home\">Gaming &amp; Entertainment Culture</a><div class=\"menu-submenu\"><a class=\"\" href=\"/product-guide/13192-games-gear/home\">Games &amp; Gear</a><a class=\"\" href=\"/product-guide/47828-esports/home\">Esports</a><a class=\"\" href=\"/product-guide/47829-toys-collectibles/home\">Toys &amp; Collectibles</a><a class=\"\" href=\"/product-guide/47830-movies-shows/home\">Movies &amp; Shows</a></div></div><div class=\"menu-together\"><a class=\"\" href=\"/product-guide/49275-smart-living-lifestyle/home\">Smart Living &amp; Lifestyle</a><div class=\"menu-submenu\"><a class=\"\" href=\"/product-guide/47836-smart-living/home\">Smart Living</a><a class=\"\" href=\"/product-guide/6582-automotive-tech/home\">Automotive Tech</a><a class=\"\" href=\"/product-guide/47831-science-tech/home\">Science &amp; Tech</a><a class=\"\" href=\"/product-guide/47832-travel-aviation/home\">Travel &amp; Aviation</a></div></div>\t\t\t\t\t\t</div>\n",
            "\n",
            "\t\t\t\t\t</li>\n",
            "\n",
            "\t\t\t\t\t\n",
            "\n",
            "\t\t\t\t\t\n",
            "\t\t\t\t\t\n",
            "\t\t\t\t\t\n",
            "\t\t\t\t\t\t\t\t\t\t<li id=\"nav-menu-deals\">\n",
            "\t\t\t\t\t\t<a href=\"/deals\">\n",
            "\t\t\t\t\t\t<span>Deals</span>\n",
            "\t\t\t\t\t\t</a>\n",
            "\t\t\t\t\t</li>\n",
            "\t\t\t\t\t\n",
            "\t\t\t\t\t\n",
            "\t\t\t\t\t\t\t\t\t\t\t\t\t\t\t<li id=\"nav-menu-gaming\">\n",
            "\t\t\t\t\t\t<a href=\"/product-guide/47835-gaming-entertainment-culture/home\">\n",
            "\t\t\t\t\t\t<span>Gaming</span>\n",
            "\t\t\t\t\t\t</a>\n",
            "\t\t\t\t\t</li>\n",
            "\t\t\t\t\t\n",
            "\t\t\t\t\t<li id=\"nav-menu-lifestyle\">\n",
            "\t\t\t\t\t\t<a href=\"/lifestyle\">\n",
            "\t\t\t\t\t\t<span>Lifestyle</span>\n",
            "\t\t\t\t\t\t</a>\n",
            "\t\t\t\t\t</li>\n",
            "\n",
            "\t\t\t\t\t\t\t\t\t\t\t\t\t\t\t<li id=\"nav-menu-biztech\">\n",
            "\t\t\t\t\t\t<a href=\"/product-guide/49271-biz-sme-tech/home\">\n",
            "\t\t\t\t\t\t<span>Biz &amp; SME Tech</span>\n",
            "\t\t\t\t\t\t</a>\n",
            "\t\t\t\t\t</li>\n",
            "\t\t\t\t\t\n",
            "\t\t\t\t\t\n",
            "\t\t\t\t\t<!-- start /elements/hwz-presents.ctp -->\n",
            "\t\t<!-- end /elements/hwz-presents.ctp -->\n",
            "\n",
            "\t\t\t\t\t\n",
            "\n",
            "\t\t\t\t</ul>\n",
            "\n",
            "\t\t\t</li>\n",
            "\n",
            "\t\t\t<li class=\"main-menu-action-container\">\n",
            "\n",
            "\t\t\t\t<ul class=\"nav-main-actions-btns\">\n",
            "\t\t\t\t\t<li id=\"search-nav-wrapper\">\n",
            "\t\t\t\t\t\t<div class=\"lg-panel-search \" id=\"panel_tmp_search-bar\">\n",
            "\t\t\t\t\t\t\t\t<!-- start /elements/panel-search.ctp -->\n",
            "\t\n",
            "\t<form action=\"/search\" id=\"PageSearchForm\" method=\"post\"><fieldset style=\"display:none;\"><input name=\"_method\" type=\"hidden\" value=\"POST\"/></fieldset>\t\t<fieldset>\n",
            "\t\t\t<input id=\"PageContext\" name=\"data[Page][context]\" type=\"hidden\" value=\"all\"/>\t\t\t<div class=\"search-bar-wrapper\">\n",
            "\t\t\t\t<input class=\"text\" id=\"PageQ\" name=\"data[Page][q]\" placeholder=\"Type and hit return\" title=\"Type and hit return\" type=\"text\" value=\"\"/>\t\t\t\t<a class=\"search-menu-link\" href=\"javascript:void(0)\" id=\"search-opt-id\">All Content</a>\t\t\t</div>\n",
            "\t\t\t<div class=\"main-menu-dropdown-content\" id=\"search-tiny-dropdown\">\n",
            "\t\t\t\t\t\t\t<label for=\"search-opt-item-all\">All Content</label><input checked=\"\" id=\"search-opt-item-all\" name=\"data[Page][context]\" type=\"radio\" value=\"all\"/>\n",
            "\t\t\t\t\t\t\t<label for=\"search-opt-item-tag\">By Tag</label><input id=\"search-opt-item-tag\" name=\"data[Page][context]\" type=\"radio\" value=\"tag\"/>\n",
            "\t\t\t\t\t\t</div>\n",
            "\t\t\t\t\t</fieldset>\n",
            "\t</form>\n",
            "\n",
            "\t<script language=\"Javascript\" type=\"text/javascript\">\n",
            "\t//<![CDATA[\n",
            "\t\t//define custom contexts here\n",
            "\n",
            "\t\tdocument.id(window).addEvent('domready', function() {\n",
            "\t\t\tdocument.id('PageQ').set('autocomplete', 'off');\n",
            "\n",
            "\n",
            "\t\t\tvar searchDropDownParent = null;\n",
            "\t\t\tsearchDropDownParent = document.id('search-opt-id').getParent('div');\n",
            "\n",
            "\t\t\tdocument.id('search-opt-id').addEvent('click', function(){\n",
            "\t\t\t\tdocument.id('search-tiny-dropdown').toggleClass('main-menu-dropdown-show');\n",
            "\n",
            "\t\t\t\tif( !document.id('panel_tmp_search-bar').hasClass('make-visible') ){\n",
            "\t\t\t\t\tdocument.id('panel_tmp_search-bar').addClass('make-visible');\n",
            "\t\t\t\t}\n",
            "\n",
            "\t\t\t});\n",
            "\n",
            "\n",
            "\t\t\t//clear popups\n",
            "\t\t\tdocument.id(document.body).addEvent('click', function(e){\n",
            "\t\t\t\tif (!document.id(e.target) || typeof(document.id(e.target).getParents) == 'undefined') return;\n",
            "\t\t\t\tif(searchDropDownParent && !e.target || !document.id(e.target).getParents().contains(searchDropDownParent)){\n",
            "\t\t\t\t\tdocument.id('search-tiny-dropdown').removeClass('main-menu-dropdown-show');\n",
            "\n",
            "\t\t\t\t\tif( document.id('panel_tmp_search-bar').hasClass('make-visible') ){\n",
            "\t\t\t\t\t\tdocument.id('panel_tmp_search-bar').removeClass('make-visible');\n",
            "\t\t\t\t\t}\n",
            "\n",
            "\t\t\t\t}\n",
            "\n",
            "\t\t\t});\n",
            "\n",
            "\t\t\tif (!!document.id('search-opt-item-all')) {\n",
            "\t\t\t\tdocument.id('search-opt-item-all').addEvent('click', function(e){\n",
            "\t\t\t\t\tdocument.id('search-opt-id').set('text', 'All Content');\n",
            "\t\t\t\t});\n",
            "\t\t\t}\n",
            "\t\t\tif (!!document.id('search-opt-item-tag')) {\n",
            "\t\t\t\tdocument.id('search-opt-item-tag').addEvent('click', function(e){\n",
            "\t\t\t\t\tdocument.id('search-opt-id').set('text', 'By Tag');\n",
            "\t\t\t\t});\n",
            "\t\t\t}\n",
            "\n",
            "\t\t});\n",
            "\n",
            "\n",
            "\t//]]>\n",
            "\t</script>\n",
            "\t<!-- end /elements/panel-search.ctp -->\n",
            "\t\t\t\t\t\t</div>\n",
            "\t\t\t\t\t\t<a class=\"search-btn\" href=\"javascript:lgSearchShow()\"><span>SEARCH</span></a>\t\t\t\t\t</li>\n",
            "\n",
            "\t\t\t\t\t\t\t\t\t\t<li class=\"nav-main-drop-down-caret\" id=\"login-nav-wrapper\">\n",
            "\t\t\t\t\t\t<a class=\"login-alter-btn\" href=\"https://forums.hardwarezone.com.sg/login/\"><span>LOGIN</span></a>\n",
            "\t\t\t\t\t</li>\n",
            "\t\t\t\t\t\n",
            "\t\t\t\t\t\t\t\t\t</ul>\n",
            "\n",
            "\t\t\t</li>\n",
            "\n",
            "\t\t</ul>\n",
            "\n",
            "\t</nav>\n",
            "\n",
            "\t\n",
            "<div class=\"dk-side-nav side-nav-scroll-style\" id=\"dkSideNav\">\n",
            "\n",
            "\t\t<div class=\"dk-side-nav-logo-container\">\n",
            "\n",
            "\t\t\t<a class=\"side-nav-logo-link\" href=\"/home\"><img alt=\"Hardware Zone Singapore\" height=\"65\" id=\"hwz-sidenav-logo\" src=\"/img/hwz_logo.png\" title=\"Hardware Zone Singapore\" width=\"128\"/></a>\n",
            "\t\t\t<a class=\"dk-side-closebtn\" href=\"javascript:void(0)\" onclick=\"closeDkSideNav()\">×</a>\n",
            "\n",
            "\t\t</div>\n",
            "\n",
            "\t\t<!-- <li>\n",
            "\t\t\t<a href=\"/product-guide\">Product Guide</a>\t\t</li> -->\n",
            "\n",
            "\n",
            "\t\t<div id=\"dk-side-nav-menu\">\n",
            "\t\t\t<div id=\"accordion_wrap\">\n",
            "\t\t\t<a class=\"accordion-toggler\">Topics</a> <div class=\"accordion-panel\"><a class=\"accordion_links\" href=\"/product-guide/47825-smartphones-tablets/home\">Smartphones &amp; Tablets</a><a class=\"sub-accordion-toggler accordion_links got-sub-link\" href=\"#\">Networking &amp; Telco</a><div class=\"sub-accordion-panel\" data-items=\"2\"><a class=\"accordion_links accordion_link-sub-link\" href=\"/product-guide/213-networking/home\">Networking</a><a class=\"accordion_links accordion_link-sub-link\" href=\"/product-guide/47833-telco/home\">Telco</a></div><a class=\"accordion_links\" href=\"/product-guide/154-notebooks/home\">Notebooks</a><a class=\"accordion_links\" href=\"/product-guide/206-headphones/home\">Headphones</a><a class=\"accordion_links\" href=\"/product-guide/23923-wearables/home\">Wearables</a><a class=\"accordion_links\" href=\"/product-guide/203-photography/home\">Photography</a><a class=\"accordion_links\" href=\"/product-guide/403-apps-software/home\">Apps &amp; Software</a><a class=\"accordion_links\" href=\"/product-guide/404-internet-cloud-ecommerce/home\">Internet, Cloud, eCommerce</a><a class=\"sub-accordion-toggler accordion_links got-sub-link\" href=\"#\">Computing</a><div class=\"sub-accordion-panel\" data-items=\"6\"><a class=\"accordion_links accordion_link-sub-link\" href=\"/product-guide/202-desktop-systems/home\">Desktop Systems</a><a class=\"accordion_links accordion_link-sub-link\" href=\"/product-guide/154-notebooks/home\">Notebooks</a><a class=\"accordion_links accordion_link-sub-link\" href=\"/product-guide/212-input-devices/home\">Input Devices</a><a class=\"accordion_links accordion_link-sub-link\" href=\"/product-guide/214-monitors/home\">Monitors</a><a class=\"accordion_links accordion_link-sub-link\" href=\"/product-guide/263-printers/home\">Printers</a><a class=\"accordion_links accordion_link-sub-link\" href=\"/product-guide/197-storage/home\">Storage</a></div><a class=\"sub-accordion-toggler accordion_links got-sub-link\" href=\"#\">PC Components</a><div class=\"sub-accordion-panel\" data-items=\"7\"><a class=\"accordion_links accordion_link-sub-link\" href=\"/product-guide/261-casings/home\">Casings</a><a class=\"accordion_links accordion_link-sub-link\" href=\"/product-guide/211-coolers/home\">Coolers</a><a class=\"accordion_links accordion_link-sub-link\" href=\"/product-guide/194-cpu/home\">CPU</a><a class=\"accordion_links accordion_link-sub-link\" href=\"/product-guide/196-graphics-cards/home\">Graphics Cards</a><a class=\"accordion_links accordion_link-sub-link\" href=\"/product-guide/210-memory/home\">Memory</a><a class=\"accordion_links accordion_link-sub-link\" href=\"/product-guide/195-motherboard/home\">Motherboard</a><a class=\"accordion_links accordion_link-sub-link\" href=\"/product-guide/6578-power-supply-units/home\">Power Supply Units</a></div><a class=\"sub-accordion-toggler accordion_links got-sub-link\" href=\"#\">Audio &amp; Visual</a><div class=\"sub-accordion-panel\" data-items=\"6\"><a class=\"accordion_links accordion_link-sub-link\" href=\"/product-guide/207-av-systems/home\">AV Systems</a><a class=\"accordion_links accordion_link-sub-link\" href=\"/product-guide/206-headphones/home\">Headphones</a><a class=\"accordion_links accordion_link-sub-link\" href=\"/product-guide/209-media-streamers-and-hubs/home\">Media Streamers and Hubs</a><a class=\"accordion_links accordion_link-sub-link\" href=\"/product-guide/6580-projectors/home\">Projectors</a><a class=\"accordion_links accordion_link-sub-link\" href=\"/product-guide/205-speakers/home\">Speakers</a><a class=\"accordion_links accordion_link-sub-link\" href=\"/product-guide/215-televisions/home\">Televisions</a></div><a class=\"sub-accordion-toggler accordion_links got-sub-link\" href=\"#\">Gaming &amp; Entertainment Culture</a><div class=\"sub-accordion-panel\" data-items=\"4\"><a class=\"accordion_links accordion_link-sub-link\" href=\"/product-guide/13192-games-gear/home\">Games &amp; Gear</a><a class=\"accordion_links accordion_link-sub-link\" href=\"/product-guide/47828-esports/home\">Esports</a><a class=\"accordion_links accordion_link-sub-link\" href=\"/product-guide/47829-toys-collectibles/home\">Toys &amp; Collectibles</a><a class=\"accordion_links accordion_link-sub-link\" href=\"/product-guide/47830-movies-shows/home\">Movies &amp; Shows</a></div><a class=\"sub-accordion-toggler accordion_links got-sub-link\" href=\"#\">Smart Living &amp; Lifestyle</a><div class=\"sub-accordion-panel\" data-items=\"4\"><a class=\"accordion_links accordion_link-sub-link\" href=\"/product-guide/47836-smart-living/home\">Smart Living</a><a class=\"accordion_links accordion_link-sub-link\" href=\"/product-guide/6582-automotive-tech/home\">Automotive Tech</a><a class=\"accordion_links accordion_link-sub-link\" href=\"/product-guide/47831-science-tech/home\">Science &amp; Tech</a><a class=\"accordion_links accordion_link-sub-link\" href=\"/product-guide/47832-travel-aviation/home\">Travel &amp; Aviation</a></div></div>\n",
            "\t<a class=\"accordion-toggler side-nav-single-link\" href=\"/hwz-tv\">Videos</a>\t<div class=\"accordion-panel\"></div>\n",
            "\n",
            "\t<a class=\"accordion-toggler\">Reviews &amp; Articles</a><div class=\"accordion-panel\"><a class=\"accordion_links\" href=\"/product-guide/all/reviews\">Reviews</a><a class=\"accordion_links\" href=\"/features/list/235-shootouts\">Shootouts</a><a class=\"accordion_links\" href=\"/features/list/1363-tech-guides\">Tech Guides</a><a class=\"accordion_links\" href=\"/features/list/58-feature-articles\">Feature Articles</a><a class=\"accordion_links\" href=\"/features/list/59-event-coverage\">Event Coverage</a><a class=\"accordion_links\" href=\"/features/list/30161-gallery\">Gallery</a><a class=\"accordion_links\" href=\"/features/list/37763-deals\">Deals</a><a class=\"accordion_links\" href=\"/blogs\">Blogs</a></div>\n",
            "\t\n",
            "\t<a class=\"accordion-toggler\">Shopping</a>\n",
            "\t<div class=\"accordion-panel\">\n",
            "\t<a class=\"accordion_links\" href=\"/priceLists\">Price List Downloads</a><a class=\"accordion_links\" href=\"/features/list/37763-deals\">Deals</a><a class=\"accordion_links\" href=\"https://coupons.hardwarezone.com.sg/\">HWZ Coupons</a>\t</div>\n",
            "\n",
            "\t\n",
            "\t\n",
            "\t<a class=\"accordion-toggler\">Forums</a>\n",
            "\t<div class=\"accordion-panel\">\n",
            "\t<a class=\"accordion_links\" href=\"https://forums.hardwarezone.com.sg/forumdisplay.php?f=111\">Special Events</a><a class=\"accordion_links\" href=\"https://forums.hardwarezone.com.sg/forumdisplay.php?f=1\">Infotech Clinic</a><a class=\"accordion_links\" href=\"https://forums.hardwarezone.com.sg/forumdisplay.php?f=225\">Digital Entertainment Lifestyle Hub</a><a class=\"accordion_links\" href=\"https://forums.hardwarezone.com.sg/forumdisplay.php?f=7\">Special Interest Groups</a><a class=\"accordion_links\" href=\"https://forums.hardwarezone.com.sg/forumdisplay.php?f=250\">Marketplace</a><a class=\"accordion_links\" href=\"https://forums.hardwarezone.com.sg/forumdisplay.php?f=15\">Lifestyle</a><a class=\"accordion_links\" href=\"https://forums.hardwarezone.com.sg/forumdisplay.php?f=66\">Academic Concerns</a><a class=\"accordion_links\" href=\"https://forums.hardwarezone.com.sg/forumdisplay.php?f=39\">Feedback Channels</a><a class=\"accordion_links\" href=\"https://forums.hardwarezone.com.sg/forumdisplay.php?f=23\">Others</a>\t</div>\n",
            "\n",
            "\t\n",
            "\t<a class=\"accordion-toggler side-nav-single-link\" href=\"/lifestyle\">Lifestyle</a>\t<div class=\"accordion-panel\"></div>\n",
            "\n",
            "\t\n",
            "\t\n",
            "\t\n",
            "\t\t<a class=\"accordion-toggler side-nav-single-link\" href=\"https://forums.hardwarezone.com.sg/categories/marketplace.250/\">Marketplace</a>\t<div class=\"accordion-panel\"></div>\n",
            "\t\t\t</div>\n",
            "\n",
            "\t\t<div class=\"dk-side-nav-ads\">\n",
            "\t\t\t<a href=\"https://www.mynewsstand.online/product/hwm-singapore/?utm_source=HARDWAREMAG&amp;utm_medium=button&amp;utm_content=homepage\" target=\"_blank\"><img alt=\"\" src=\"/img/logos/hwm_ad.png\"/></a>\t\t</div>\n",
            "\n",
            "\t\t<div class=\"dk-side-nav-summary\">\n",
            "\t\t\tThe authoritative voice on technology trends, gadget shootouts, and geeky life hacks you never knew you could live without.\t\t</div>\n",
            "\n",
            "\t\t</div>\n",
            "\n",
            "</div>\n",
            "\n",
            "<div class=\"dk-overlay\" id=\"dkCanvasNav\" onclick=\"closeOffcanvas()\"></div>\n",
            "\n",
            "\t\n",
            "<nav class=\"nav-mobile\" id=\"nav-mb-main\">\n",
            "\n",
            "\t<ul class=\"nav-mb-bar\">\n",
            "\n",
            "\t\t<li class=\"nav-mb-logo\">\n",
            "\t\t\t<a class=\"mb-nav-logo-link\" href=\"/home\"></a>\n",
            "\t\t</li>\n",
            "\n",
            "\n",
            "\t\t<li class=\"main-menu-action-container\">\n",
            "\n",
            "\t\t\t<ul class=\"nav-main-actions-btns\">\n",
            "\t\t\t\t<li>\n",
            "\t\t\t\t\t<a class=\"search-btn\" href=\"javascript:mbSearchShow()\"><span>SEARCH</span></a>\t\t\t\t</li>\n",
            "\n",
            "\t\t\t\t\t\t\t\t<li class=\"nav-main-drop-down-caret\" id=\"login-nav-wrapper\">\n",
            "\t\t\t\t\t<a class=\"login-alter-btn\" href=\"https://forums.hardwarezone.com.sg/login/\"><span>LOGIN</span></a>\n",
            "\t\t\t\t</li>\n",
            "\t\t\t\t\n",
            "\t\t\t\t\t\t\t</ul>\n",
            "\n",
            "\t\t</li>\n",
            "\n",
            "\t\t<li class=\"nav-mb-hamburger\" id=\"nav-mb-hamburger-id\">\n",
            "\n",
            "\t\t\t<a class=\"mb-hamburger-menu-wrapper\" href=\"#\" id=\"nav-mob-toggle\">\n",
            "\t\t\t\t<span></span>\n",
            "\t\t\t\t<span></span>\n",
            "\t\t\t\t<span></span>\n",
            "\t\t\t</a>\n",
            "\n",
            "\t\t</li>\n",
            "\n",
            "\n",
            "\t</ul>\n",
            "\n",
            "\n",
            "\t<div class=\"nav-mob\">\n",
            "\t\t\n",
            "\t\t\n",
            "\t\t<div class=\"mb-nav-links-wrapper side-nav-scroll-style\">\n",
            "\t\t\t<ul class=\"nav-mob-linkbar\">\n",
            "\t\t\t\t<li class=\"nav-mob-forums-link\">\n",
            "\t\t\t\t\t<a href=\"https://forums.hardwarezone.com.sg\" target=\"_blank\" title=\"HWZ Forums\">Forums</a>\t\t\t\t</li>\n",
            "\n",
            "\t\t\t\t<li class=\"nav-mob-shopping-link\">\n",
            "\t\t\t\t\t<a href=\"/priceLists\" title=\"Price List Downloads\">Price Lists</a>\t\t\t\t</li>\n",
            "\n",
            "\t\t\t\t\t\t\t\t<li class=\"nav-mob-techshows-link\">\n",
            "\t\t\t\t\t<a href=\"https://www.hardwarezone.com.sg/tech-show-brochures/\" target=\"_blank\" title=\"Tech Shows\">Tech Shows</a>\t\t\t\t</li>\n",
            "\t\t\t\t\n",
            "\t\t\t\t<li class=\"nav-mob-hwzcoupons-link\">\n",
            "\t\t\t\t\t<a href=\"https://coupons.hardwarezone.com.sg/\" target=\"_blank\" title=\"HWZ Coupons\">HWZ Coupons</a>\t\t\t\t</li>\n",
            "\n",
            "\t\t\t\t\n",
            "\t\t\t\t<li class=\"nav-mob-followus-link\">\n",
            "\t\t\t\t\t<a href=\"/newsletters/subscribe\" title=\"Follow Us\">Follow Us</a>\t\t\t\t</li>\n",
            "\t\t\t</ul>\n",
            "\n",
            "\t\t\t<div class=\"mb-nav-links\">\n",
            "\n",
            "\n",
            "\t\t\t\t<a class=\"accordion-toggler side-nav-single-link\" href=\"/tech-news/list\">News</a>\t\t\t\t<div class=\"accordion-panel\"></div>\n",
            "\n",
            "\t\t\t\t<a class=\"accordion-toggler\">Topics</a> <div class=\"accordion-panel\"><a class=\"accordion_links\" href=\"/product-guide/47825-smartphones-tablets/home\">Smartphones &amp; Tablets</a><a class=\"sub-accordion-toggler accordion_links got-sub-link\" href=\"#\">Networking &amp; Telco</a><div class=\"sub-accordion-panel\" data-items=\"2\"><a class=\"accordion_links accordion_link-sub-link\" href=\"/product-guide/213-networking/home\">Networking</a><a class=\"accordion_links accordion_link-sub-link\" href=\"/product-guide/47833-telco/home\">Telco</a></div><a class=\"accordion_links\" href=\"/product-guide/154-notebooks/home\">Notebooks</a><a class=\"accordion_links\" href=\"/product-guide/206-headphones/home\">Headphones</a><a class=\"accordion_links\" href=\"/product-guide/23923-wearables/home\">Wearables</a><a class=\"accordion_links\" href=\"/product-guide/203-photography/home\">Photography</a><a class=\"accordion_links\" href=\"/product-guide/403-apps-software/home\">Apps &amp; Software</a><a class=\"accordion_links\" href=\"/product-guide/404-internet-cloud-ecommerce/home\">Internet, Cloud, eCommerce</a><a class=\"sub-accordion-toggler accordion_links got-sub-link\" href=\"#\">Computing</a><div class=\"sub-accordion-panel\" data-items=\"6\"><a class=\"accordion_links accordion_link-sub-link\" href=\"/product-guide/202-desktop-systems/home\">Desktop Systems</a><a class=\"accordion_links accordion_link-sub-link\" href=\"/product-guide/154-notebooks/home\">Notebooks</a><a class=\"accordion_links accordion_link-sub-link\" href=\"/product-guide/212-input-devices/home\">Input Devices</a><a class=\"accordion_links accordion_link-sub-link\" href=\"/product-guide/214-monitors/home\">Monitors</a><a class=\"accordion_links accordion_link-sub-link\" href=\"/product-guide/263-printers/home\">Printers</a><a class=\"accordion_links accordion_link-sub-link\" href=\"/product-guide/197-storage/home\">Storage</a></div><a class=\"sub-accordion-toggler accordion_links got-sub-link\" href=\"#\">PC Components</a><div class=\"sub-accordion-panel\" data-items=\"7\"><a class=\"accordion_links accordion_link-sub-link\" href=\"/product-guide/261-casings/home\">Casings</a><a class=\"accordion_links accordion_link-sub-link\" href=\"/product-guide/211-coolers/home\">Coolers</a><a class=\"accordion_links accordion_link-sub-link\" href=\"/product-guide/194-cpu/home\">CPU</a><a class=\"accordion_links accordion_link-sub-link\" href=\"/product-guide/196-graphics-cards/home\">Graphics Cards</a><a class=\"accordion_links accordion_link-sub-link\" href=\"/product-guide/210-memory/home\">Memory</a><a class=\"accordion_links accordion_link-sub-link\" href=\"/product-guide/195-motherboard/home\">Motherboard</a><a class=\"accordion_links accordion_link-sub-link\" href=\"/product-guide/6578-power-supply-units/home\">Power Supply Units</a></div><a class=\"sub-accordion-toggler accordion_links got-sub-link\" href=\"#\">Audio &amp; Visual</a><div class=\"sub-accordion-panel\" data-items=\"6\"><a class=\"accordion_links accordion_link-sub-link\" href=\"/product-guide/207-av-systems/home\">AV Systems</a><a class=\"accordion_links accordion_link-sub-link\" href=\"/product-guide/206-headphones/home\">Headphones</a><a class=\"accordion_links accordion_link-sub-link\" href=\"/product-guide/209-media-streamers-and-hubs/home\">Media Streamers and Hubs</a><a class=\"accordion_links accordion_link-sub-link\" href=\"/product-guide/6580-projectors/home\">Projectors</a><a class=\"accordion_links accordion_link-sub-link\" href=\"/product-guide/205-speakers/home\">Speakers</a><a class=\"accordion_links accordion_link-sub-link\" href=\"/product-guide/215-televisions/home\">Televisions</a></div><a class=\"sub-accordion-toggler accordion_links got-sub-link\" href=\"#\">Gaming &amp; Entertainment Culture</a><div class=\"sub-accordion-panel\" data-items=\"4\"><a class=\"accordion_links accordion_link-sub-link\" href=\"/product-guide/13192-games-gear/home\">Games &amp; Gear</a><a class=\"accordion_links accordion_link-sub-link\" href=\"/product-guide/47828-esports/home\">Esports</a><a class=\"accordion_links accordion_link-sub-link\" href=\"/product-guide/47829-toys-collectibles/home\">Toys &amp; Collectibles</a><a class=\"accordion_links accordion_link-sub-link\" href=\"/product-guide/47830-movies-shows/home\">Movies &amp; Shows</a></div><a class=\"sub-accordion-toggler accordion_links got-sub-link\" href=\"#\">Smart Living &amp; Lifestyle</a><div class=\"sub-accordion-panel\" data-items=\"4\"><a class=\"accordion_links accordion_link-sub-link\" href=\"/product-guide/47836-smart-living/home\">Smart Living</a><a class=\"accordion_links accordion_link-sub-link\" href=\"/product-guide/6582-automotive-tech/home\">Automotive Tech</a><a class=\"accordion_links accordion_link-sub-link\" href=\"/product-guide/47831-science-tech/home\">Science &amp; Tech</a><a class=\"accordion_links accordion_link-sub-link\" href=\"/product-guide/47832-travel-aviation/home\">Travel &amp; Aviation</a></div></div>\n",
            "\t<a class=\"accordion-toggler side-nav-single-link\" href=\"/hwz-tv\">Videos</a>\t<div class=\"accordion-panel\"></div>\n",
            "\n",
            "\t<a class=\"accordion-toggler\">Reviews &amp; Articles</a><div class=\"accordion-panel\"><a class=\"accordion_links\" href=\"/product-guide/all/reviews\">Reviews</a><a class=\"accordion_links\" href=\"/features/list/235-shootouts\">Shootouts</a><a class=\"accordion_links\" href=\"/features/list/1363-tech-guides\">Tech Guides</a><a class=\"accordion_links\" href=\"/features/list/58-feature-articles\">Feature Articles</a><a class=\"accordion_links\" href=\"/features/list/59-event-coverage\">Event Coverage</a><a class=\"accordion_links\" href=\"/features/list/30161-gallery\">Gallery</a><a class=\"accordion_links\" href=\"/features/list/37763-deals\">Deals</a><a class=\"accordion_links\" href=\"/blogs\">Blogs</a></div>\n",
            "\t\n",
            "\t\n",
            "\t<a class=\"accordion-toggler side-nav-single-link\" href=\"/lifestyle\">Lifestyle</a>\t<div class=\"accordion-panel\"></div>\n",
            "\n",
            "\t\n",
            "\t<a class=\"accordion-toggler side-nav-single-link\" href=\"/deals\">Deals</a>\t<div class=\"accordion-panel\"></div>\n",
            "\n",
            "\t\n",
            "\t\n",
            "\t\t<a class=\"accordion-toggler side-nav-single-link\" href=\"/product-guide/47835-gaming-entertainment-culture/home\">Gaming</a>\t<div class=\"accordion-panel\"></div>\n",
            "\n",
            "\t\n",
            "\t\n",
            "\t\t<a class=\"accordion-toggler side-nav-single-link\" href=\"/product-guide/49271-biz-sme-tech/home\">Biz &amp; SME Tech</a>\t<div class=\"accordion-panel\"></div>\n",
            "\n",
            "\t\n",
            "\t\t<a class=\"accordion-toggler side-nav-single-link\" href=\"https://forums.hardwarezone.com.sg/categories/marketplace.250/\">Marketplace</a>\t<div class=\"accordion-panel\"></div>\n",
            "\t\n",
            "\n",
            "\t\t\t\t\n",
            "\t\t\t\t\n",
            "\t\t\t\t<!-- start /elements/hwz-presents.ctp -->\n",
            "\t\t<!-- end /elements/hwz-presents.ctp -->\n",
            "\n",
            "\t\t\t\t\n",
            "\t\t\t</div>\n",
            "\t\t</div>\n",
            "\n",
            "\t</div>\n",
            "\n",
            "\t<div class=\"mb-panel-search \" id=\"panel_tmp_mb\">\n",
            "\t  \t<!-- start /elements/panel-search.ctp -->\n",
            "\t\n",
            "\t<form action=\"/search\" id=\"PageSearchForm\" method=\"post\"><fieldset style=\"display:none;\"><input name=\"_method\" type=\"hidden\" value=\"POST\"/></fieldset>\t\t<fieldset>\n",
            "\t\t\t<input id=\"PageContext\" name=\"data[Page][context]\" type=\"hidden\" value=\"all\"/>\t\t\t<div class=\"search-bar-wrapper\">\n",
            "\t\t\t\t<input class=\"text\" id=\"PageQ\" name=\"data[Page][q]\" placeholder=\"Search...\" title=\"Type and hit return\" type=\"text\" value=\"\"/>\t\t\t\t<div class=\"mb-search-actions\">\n",
            "\t\t\t\t\t\t<a class=\"search-menu-link\" href=\"javascript:void(0)\" id=\"mb-search-opt-id\">All Content</a>\t\t\t\t\t\t<input class=\"submit\" src=\"/img/icons/icon-search.png\" title=\"Search\" type=\"image\"/>\t\t\t\t</div>\n",
            "\t\t\t</div>\n",
            "\t\t\t<div class=\"main-menu-dropdown-content\" id=\"mb-search-tiny-dropdown\">\n",
            "\t\t\t\t<label for=\"mb-search-opt-item-all\">All Content</label><input checked=\"\" id=\"mb-search-opt-item-all\" name=\"data[Page][context]\" type=\"radio\" value=\"all\"/>\n",
            "\t\t\t\t<label for=\"mb-search-opt-item-tag\">By Tag</label><input id=\"mb-search-opt-item-tag\" name=\"data[Page][context]\" type=\"radio\" value=\"tag\"/>\n",
            "\t\t\t</div>\n",
            "\n",
            "\t\t</fieldset>\n",
            "\t</form>\n",
            "\t<script language=\"Javascript\" type=\"text/javascript\">\n",
            "\t//<![CDATA[\n",
            "\t\t//define custom contexts here\n",
            "\n",
            "\t\tdocument.id(window).addEvent('domready', function() {\n",
            "\t\t\tdocument.id('PageQ').set('autocomplete', 'off');\n",
            "\n",
            "\t\t\tvar mbsearchDropDownParent = null;\n",
            "\t\t\tmbsearchDropDownParent = document.id('mb-search-opt-id').getParent('div');\n",
            "\n",
            "\t\t\tdocument.id('mb-search-opt-id').addEvent('click', function(){\n",
            "\t\t\t\tdocument.id('mb-search-tiny-dropdown').toggleClass('main-menu-dropdown-show');\n",
            "\t\t\t});\n",
            "\n",
            "\t\t\t//clear popups\n",
            "\t\t\tdocument.id(document.body).addEvent('click', function(e){\n",
            "\t\t\t\tif (!document.id(e.target) || typeof(document.id(e.target).getParents) == 'undefined') return;\n",
            "\t\t\t\tif(mbsearchDropDownParent && !e.target || !document.id(e.target).getParents().contains(mbsearchDropDownParent)){\n",
            "\t\t\t\t\tdocument.id('mb-search-tiny-dropdown').removeClass('main-menu-dropdown-show');\n",
            "\t\t\t\t}\n",
            "\n",
            "\t\t\t});\n",
            "\n",
            "\t\t\tdocument.id('mb-search-opt-item-all').addEvent('click', function(e){\n",
            "\t\t\t\t//console.log('all');\n",
            "\t\t\t\tdocument.id('mb-search-opt-id').set('text', 'All Content');\n",
            "\t\t\t});\n",
            "\n",
            "\t\t\tdocument.id('mb-search-opt-item-tag').addEvent('click', function(e){\n",
            "\t\t\t\t//console.log('tag');\n",
            "\t\t\t\tdocument.id('mb-search-opt-id').set('text', 'By Tag');\n",
            "\t\t\t});\n",
            "\n",
            "\t\t});\n",
            "\n",
            "\n",
            "\t//]]>\n",
            "\t</script>\n",
            "\t<!-- end /elements/panel-search.ctp -->\n",
            "\t</div>\n",
            "\n",
            "</nav>\n",
            "\n",
            "</header>\n",
            "<a class=\"\" href=\"javascript:scrolltoTop()\" id=\"back_to_top\">\n",
            "\t<span></span>\n",
            "</a>\n",
            "\n",
            "<!-- start /elements/nonmember-subscription-popup.ctp -->\n",
            "<!-- end /elements/nonmember-subscription-popup.ctp -->\n",
            "\t\n",
            "\n",
            "\t\t<div id=\"ads-ex-leaderboard\">\n",
            "\t<!-- HWZ-Ad-pushdown --> \n",
            "<div class=\"gpt-ad gpt-ad-prestitial\" id=\"div-gpt-ad-prestitial\"></div>\n",
            "<div class=\"gpt-ad gpt-ad-skinning\" id=\"div-gpt-ad-skinning\"></div>\n",
            "<div class=\"gpt-ad gpt-ad-pushdown\" id=\"div-gpt-ad-pushdown\"></div>\n",
            "<div class=\"gpt-ad gpt-ad-catfish\" id=\"div-gpt-ad-catfish\"></div>\n",
            "<div class=\"gpt-ad gpt-ad-midarticlespecial\" id=\"div-gpt-ad-midarticlespecial\"></div><!-- /HWZ-Ad-pushdown --> \n",
            "\t</div>\n",
            "\t<div class=\"fixed\" id=\"canvas\">\n",
            "\t\t\t\t<div id=\"masthead\">\n",
            "\n",
            "\t\t\t<script type=\"text/javascript\">hwz_show_logo_skinning(\"https://www.hardwarezone.com.sg\", \"sub\");</script>\n",
            "\t\t\t<div id=\"ads-leaderboard\">\n",
            "\t<div class=\"inner\" id=\"ads-leaderboard-inner\">\n",
            "\t<!-- HWZ-Ad-leaderboard --> \n",
            "<div class=\"gpt-ad gpt-ad-lb1\" id=\"div-gpt-ad-lb1\"></div><!-- /HWZ-Ad-leaderboard --> \n",
            "\t</div>\n",
            "</div>\n",
            "\n",
            "\t\t</div>\n",
            "\n",
            "\t\t<div id=\"container\">\n",
            "\t\t\t<div id=\"inner-container\">\n",
            "\t\t\t\t<div class=\"font-medium\" id=\"page\">\n",
            "\t\t\t\t\t\n",
            "\t\t\t\t\t\t\t\t\t\t\t\t\t\t\t\t\t\n",
            "\n",
            "\t\t\t\t\t\n",
            "\t\t\t\t\t<div id=\"content\">\n",
            "\t\t\t\t\t\t<div class=\"inner\">\n",
            "\t\t\t\t\t\t\t<!-- start /news/view.ctp -->\n",
            "<script type=\"application/ld+json\">\n",
            "{\"@context\":\"http:\\/\\/schema.org\",\"@type\":\"NewsArticle\",\"headline\":\"Apple\\u2019s third-generation AirPods features spatial audio, longer battery life, and reimagined design (Updated)\",\"image\":{\"@type\":\"ImageObject\",\"url\":\"https:\\/\\/www.hardwarezone.com.sg\\/thumbs\\/695646\\/b.jpg\",\"width\":500,\"height\":316},\"mainEntityOfPage\":{\"@type\":\"WebPage\",\"@id\":\"https:\\/\\/www.hardwarezone.com.sg\\/tech-news-apple-third-generation-airpods-3-2021-pricing-availability-singapore-pre-order\"},\"description\":\"In a nutshell, the new buds tap on many of Apple\\u2019s audio advances, offering features like Spatial Audio, while also improving its overall robustness with longer battery life and an improved design. \\r\\n\",\"datePublished\":\"2021-10-23\",\"dateModified\":\"2021-10-23\",\"author\":[{\"@type\":\"Person\",\"name\":\"Liu Hongzuo\"}],\"publisher\":{\"@type\":\"Organization\",\"name\":\"HardwareZone Singapore\",\"logo\":{\"@type\":\"ImageObject\",\"url\":\"https:\\/\\/www.hardwarezone.com.sg\\/img\\/sg\\/hwz-og-logo.png\",\"width\":100,\"height\":60}}}</script>\n",
            "\n",
            "\n",
            "<section class=\"listing-top\">\n",
            "</section>\n",
            "\n",
            "<section class=\"content-border list-top-padding\">\n",
            "\n",
            "\t\n",
            "\n",
            " <div class=\"hwz_trending\">\n",
            " \t<div class=\"hwz-trending-title\">Trending</div>\n",
            "\t<div class=\"hwz_trending_content\">\n",
            "\t\t<a class=\"hwz_trending_article\" href=\"/tech-news-apple-new-14-and-16-inch-macbook-pro-m1-pro-and-m1-max-singapore-price\">\n",
            "\t\t\t<div class=\"hwz_trending_image\">\n",
            "\t\t\t\t<img alt=\"Apple announces new 14 and 16-inch MacBook Pro, powered by new M1 Pro and M1 Max chips (Updated)\" src=\"/thumbs/695648/a.jpg\"/>\t\t\t</div>\n",
            "\t\t\t<div class=\"hwz_trending_title\">Apple announces new 14 and 16-inch MacBook Pro, powered by new M1 Pro and M1 Max chips (Updated)</div>\n",
            "\t\t</a><a class=\"hwz_trending_article\" href=\"/tech-news-apple-third-generation-airpods-3-2021-pricing-availability-singapore-pre-order\">\n",
            "\t\t\t<div class=\"hwz_trending_image\">\n",
            "\t\t\t\t<img alt=\"Apple’s third-generation AirPods features spatial audio, longer battery life, and reimagined design (Updated)\" src=\"/thumbs/695646/a.jpg\"/>\t\t\t</div>\n",
            "\t\t\t<div class=\"hwz_trending_title\">Apple’s third-generation AirPods features spatial audio, longer battery life, and reimagined design (Updated)</div>\n",
            "\t\t</a><a class=\"hwz_trending_article\" href=\"/review-tecware-b68-65-bluetooth-mechanical-keyboard-review-wireless-budget\">\n",
            "\t\t\t<div class=\"hwz_trending_image\">\n",
            "\t\t\t\t<img alt=\"Tecware B68 Wireless Bluetooth Mechanical Keyboard review\" src=\"/thumbs/694862/a.jpg\"/>\t\t\t</div>\n",
            "\t\t\t<div class=\"hwz_trending_title\">Tecware B68 65% Bluetooth Mechanical Keyboard review: Wireless on a budget</div>\n",
            "\t\t</a>\t</div>\n",
            "</div>\n",
            "\n",
            "\n",
            "<script type=\"text/javascript\">\n",
            "(function() {\n",
            "\tif (typeof(hwz_ga) == 'undefined') return;\n",
            "\t$$('.hwz_trending_content .hwz_trending_article').each(function(o,i){\n",
            "\t\to.addEvent('click', function(e){\n",
            "\t\t\tif (typeof(hwz_ga) == 'undefined') return;\n",
            "\t\t\tvar sTitle = $(this).getElement('.hwz_trending_title').get('text');\n",
            "\t\t\tvar aLabel = {\n",
            "\t\t\t\t'SectionName': 'Top Trending',\n",
            "\t\t\t\t'SectionTitle': 'Trending',\n",
            "\t\t\t\t'ArticleName': sTitle,\n",
            "\t\t\t\t'Position': i + 1\n",
            "\t\t\t};\n",
            "\t\t\thwz_ga('send', 'event', 'Content-Engagement', 'Click', JSON.stringify(aLabel), { data:{ ux_element_type:'Articles Suggestion', ux_element_name:'Trending Articles' } });\n",
            "\t\t});\n",
            "\t});\n",
            "})();\n",
            "</script>\n",
            "\n",
            "\t<section class=\"listing-breadcrumb\">\n",
            "\t\t<span class=\"breadcrumb-item\"><a href=\"/tech-news/list\">News</a></span>\n",
            "\t\t<div class=\"news-list-select-wrapper\">\n",
            "<a class=\"news-list-dropdown-link\" href=\"javascript:void(0)\" id=\"newslist-dropdown-select\"><span class=\"news-list-dropdown-text\">News Categories</span><span class=\"news-list-dropdown-text-caret\"></span></a><div class=\"newslist-dropdown-content side-nav-scroll-style\" id=\"newslist-dropdown-content-id\">\n",
            "\t<div class=\"newslist-dropdown-content-inner\">\n",
            "\t<a class=\"\" href=\"https://www.hardwarezone.com.sg/product-guide/207-av-systems/news\">AV Systems</a><a class=\"\" href=\"https://www.hardwarezone.com.sg/product-guide/6579-bluetooth-headsets/news\">Bluetooth Headsets</a><a class=\"\" href=\"https://www.hardwarezone.com.sg/product-guide/261-casings/news\">Casings</a><a class=\"\" href=\"https://www.hardwarezone.com.sg/product-guide/211-coolers/news\">Coolers</a><a class=\"\" href=\"https://www.hardwarezone.com.sg/product-guide/194-cpu/news\">CPU</a><a class=\"\" href=\"https://www.hardwarezone.com.sg/product-guide/47834-digital-payments/news\">Digital Payments</a><a class=\"\" href=\"https://www.hardwarezone.com.sg/product-guide/199-external-storage/news\">External Storage</a><a class=\"\" href=\"https://www.hardwarezone.com.sg/product-guide/13192-games-gear/news\">Games &amp; Gear</a><a class=\"\" href=\"https://www.hardwarezone.com.sg/product-guide/196-graphics-cards/news\">Graphics Cards</a><a class=\"\" href=\"https://www.hardwarezone.com.sg/product-guide/198-hard-disk-drives/news\">Hard Disk Drives</a><a class=\"\" href=\"https://www.hardwarezone.com.sg/product-guide/206-headphones/news\">Headphones</a><a class=\"\" href=\"https://www.hardwarezone.com.sg/product-guide/151-inkjet-printers/news\">Inkjet Printers</a><a class=\"\" href=\"https://www.hardwarezone.com.sg/product-guide/264-laser-printers/news\">Laser Printers</a><a class=\"\" href=\"https://www.hardwarezone.com.sg/product-guide/209-media-streamers-and-hubs/news\">Media Streamers and Hubs</a><a class=\"\" href=\"https://www.hardwarezone.com.sg/product-guide/210-memory/news\">Memory</a><a class=\"\" href=\"https://www.hardwarezone.com.sg/product-guide/217-mobile-phones/news\">Mobile Phones</a><a class=\"\" href=\"https://www.hardwarezone.com.sg/product-guide/195-motherboard/news\">Motherboard</a><a class=\"\" href=\"https://www.hardwarezone.com.sg/product-guide/200-nas/news\">NAS</a><a class=\"\" href=\"https://www.hardwarezone.com.sg/product-guide/213-networking/news\">Networking</a><a class=\"\" href=\"https://www.hardwarezone.com.sg/product-guide/201-optical-drives/news\">Optical Drives</a><a class=\"\" href=\"https://www.hardwarezone.com.sg/product-guide/208-portable-media-players/news\">Portable Media Players</a><a class=\"\" href=\"https://www.hardwarezone.com.sg/product-guide/6578-power-supply-units/news\">Power Supply Units</a><a class=\"\" href=\"https://www.hardwarezone.com.sg/product-guide/6580-projectors/news\">Projectors</a><a class=\"\" href=\"https://www.hardwarezone.com.sg/product-guide/47825-smartphones-tablets/news\">Smartphones &amp; Tablets</a><a class=\"\" href=\"https://www.hardwarezone.com.sg/product-guide/260-solid-state-drives/news\">Solid State Drives</a><a class=\"\" href=\"https://www.hardwarezone.com.sg/product-guide/205-speakers/news\">Speakers</a><a class=\"\" href=\"https://www.hardwarezone.com.sg/product-guide/6583-tablets/news\">Tablets</a><a class=\"\" href=\"https://www.hardwarezone.com.sg/product-guide/47833-telco/news\">Telco</a><a class=\"\" href=\"https://www.hardwarezone.com.sg/product-guide/215-televisions/news\">Televisions</a><a class=\"\" href=\"https://www.hardwarezone.com.sg/product-guide/202-desktop-systems/news\">Desktop Systems</a><a class=\"\" href=\"https://www.hardwarezone.com.sg/product-guide/47828-esports/news\">Esports</a><a class=\"\" href=\"https://www.hardwarezone.com.sg/product-guide/47826-networking-telco/news\">Networking &amp; Telco</a><a class=\"\" href=\"https://www.hardwarezone.com.sg/product-guide/154-notebooks/news\">Notebooks</a><a class=\"\" href=\"https://www.hardwarezone.com.sg/product-guide/47829-toys-collectibles/news\">Toys &amp; Collectibles</a><a class=\"\" href=\"https://www.hardwarezone.com.sg/product-guide/23923-wearables/news\">Wearables</a><a class=\"\" href=\"https://www.hardwarezone.com.sg/product-guide/212-input-devices/news\">Input Devices</a><a class=\"\" href=\"https://www.hardwarezone.com.sg/product-guide/214-monitors/news\">Monitors</a><a class=\"\" href=\"https://www.hardwarezone.com.sg/product-guide/47830-movies-shows/news\">Movies &amp; Shows</a><a class=\"\" href=\"https://www.hardwarezone.com.sg/product-guide/203-photography/news\">Photography</a><a class=\"\" href=\"https://www.hardwarezone.com.sg/product-guide/263-printers/news\">Printers</a><a class=\"\" href=\"https://www.hardwarezone.com.sg/product-guide/197-storage/news\">Storage</a><a class=\"\" href=\"https://www.hardwarezone.com.sg/product-guide/403-apps-software/news\">Apps &amp; Software</a><a class=\"\" href=\"https://www.hardwarezone.com.sg/product-guide/404-internet-cloud-ecommerce/news\">Internet, Cloud, eCommerce</a><a class=\"\" href=\"https://www.hardwarezone.com.sg/product-guide/47827-computing/news\">Computing</a><a class=\"\" href=\"https://www.hardwarezone.com.sg/product-guide/262-pc-components/news\">PC Components</a><a class=\"\" href=\"https://www.hardwarezone.com.sg/product-guide/204-audio-visual/news\">Audio &amp; Visual</a><a class=\"\" href=\"https://www.hardwarezone.com.sg/product-guide/47835-gaming-entertainment-culture/news\">Gaming &amp; Entertainment Culture</a><a class=\"\" href=\"https://www.hardwarezone.com.sg/product-guide/252-blu-ray-players/news\">Blu-ray Players</a><a class=\"\" href=\"https://www.hardwarezone.com.sg/product-guide/47836-smart-living/news\">Smart Living</a><a class=\"\" href=\"https://www.hardwarezone.com.sg/product-guide/49275-smart-living-lifestyle/news\">Smart Living &amp; Lifestyle</a><a class=\"\" href=\"https://www.hardwarezone.com.sg/product-guide/6582-automotive-tech/news\">Automotive Tech</a><a class=\"\" href=\"https://www.hardwarezone.com.sg/product-guide/47831-science-tech/news\">Science &amp; Tech</a><a class=\"\" href=\"https://www.hardwarezone.com.sg/product-guide/47832-travel-aviation/news\">Travel &amp; Aviation</a><a class=\"\" href=\"https://www.hardwarezone.com.sg/product-guide/49271-biz-sme-tech/news\">Biz &amp; SME Tech</a><a class=\"\" href=\"https://www.hardwarezone.com.sg/product-guide/218-others/news\">Others</a>\t</div>\n",
            "</div>\n",
            "\n",
            "<script type=\"text/javascript\">\n",
            "\twindow.addEvent('domready', function() {\n",
            "\t\tvar newslistDropDown = null;\n",
            "\t\tnewslistDropDown = $('newslist-dropdown-select');\n",
            "\n",
            "\t\t$('newslist-dropdown-select').addEvent('click', function(){\n",
            "\t\t\t$('newslist-dropdown-content-id').toggleClass('country-list-show');\n",
            "\t\t\t$('newslist-dropdown-select').toggleClass('arrow-animate-up-down');\n",
            "\t\t});\n",
            "\n",
            "\t\t$(document.body).addEvent('click', function(e){\n",
            "\t\t\tif (!$(e.target) || typeof($(e.target).getParents) == 'undefined') return;\n",
            "\t\t\tif(newslistDropDown && !e.target || !$(e.target).getParents().contains(newslistDropDown)){\n",
            "\t\t\t\t$('newslist-dropdown-content-id').removeClass('country-list-show');\n",
            "\t\t\t\t$('newslist-dropdown-select').removeClass('arrow-animate-up-down');\n",
            "\t\t\t}\n",
            "\n",
            "\t\t});\n",
            "\t});\n",
            "</script>\n",
            "</div>\t</section>\n",
            "\n",
            "\n",
            "\t<section class=\"content-wrapper\">\n",
            "\n",
            "\t\t<div class=\"col-g\" id=\"content-wide\">\n",
            "\n",
            "\t\t\t<div class=\"inner\">\n",
            "\n",
            "\t\t\t\t<div id=\"article-highlights\">\n",
            "\n",
            "\t\t\t\t\t<div class=\"article \" id=\"hwz-news\">\n",
            "\n",
            "\t\t\t\t\t\t<div id=\"header-wrap\">\n",
            "\n",
            "\t\t\t\t\t\t\t<div class=\"article-view-info\">\n",
            "\t\t\t\t\t\t\t\t<h2 class=\"article-view-title\">Apple’s third-generation AirPods features spatial audio, longer battery life, and reimagined design (Updated)</h2>\n",
            "\t\t\t\t\t\t\t\t\n",
            "\t\t\t\t\t\t\t\t\t<div class=\"article-view-time-user-center clear-float\">\n",
            "\t\t\t\t\t\t\t\t\t\t\t<!-- start of authors list -->\n",
            "\t<div class=\"author-list-with-avatar\">\n",
            "\t\t<a class=\"article-avatar-img-link\" href=\"/profile/157-liu-hongzuo\"><img alt=\"\" class=\"article-avatar-img-center\" src=\"https://assets.hardwarezone.com/useravatar/157/big/liu-hongzuo-160px-sq.jpg\"/></a> By <span class=\"article-view-author-name\"><a href=\"/profile/157-liu-hongzuo\">Liu Hongzuo</a></span><span class=\"article-view-timestamp\"> - on 23 Oct 2021, 11:08am</span>\n",
            "\t</div>\n",
            "\t<!-- end of authors list -->\n",
            "\n",
            "\t\t\t\t\t\t\t\t\t\t<div class=\"share-bar clear-float\">\n",
            "\t\t\t\t\t\t\t\t\t\t\t<div class=\"share\">\n",
            "\t\n",
            "\t<div addthis:title=\"Apple’s third-generation AirPods features spatial audio, longer battery life, and reimagined design (Updated)\" addthis:url=\"https://www.hardwarezone.com.sg/tech-news-apple-third-generation-airpods-3-2021-pricing-availability-singapore-pre-order\" class=\"hwz_addthis addthis_inline_share_toolbox_d1m5\" id=\"addthis_div_6174b05b6d712\">\n",
            "\t\t\t\t\t</div>\n",
            "</div>\n",
            "<script type=\"text/javascript\">\n",
            "//<![CDATA[\n",
            "\twindow.addEvent ('domready', function ()\n",
            "\t{\n",
            " \t\t$$('.share .bookmark:not(.js) form').each (function (form)\n",
            "\t\t{\n",
            "\t\t\tvar bookmark = form.getParent (),\n",
            "\t\t\t\thiddenTitle = form.getElement ('input[name=\"data[Bookmark][title]\"]'),\n",
            "\t\t\t\ttitle = new Element ('input', { 'class': 'text', 'type': 'text', 'value': hiddenTitle.get ('value') }),\n",
            "\t\t\t\tbtnSave = new Element ('input', { 'class': 'button submitbutton', 'type': 'submit', 'value': 'Save' }),\n",
            "\t\t\t\tbtnClose = new Element ('input', { 'class': 'button closebutton', 'type': 'button', 'value': '\\u00d7' }),\n",
            "\t\t\t\tpopup = new Element ('form', { 'class': 'popup' })\n",
            "\t\t\t\t\t.grab (new Element ('fieldset').adopt (title, btnSave).adopt (title, btnClose))\n",
            "\t\t\t\t\t.inject (bookmark, 'bottom')\n",
            "\t\t\t;\n",
            "\n",
            "\t\t\t// Tag as JS-hooked\n",
            "\t\t\tbookmark.addClass ('js');\n",
            "\n",
            "\t\t\t// Add events\n",
            "\t\t\tbtnClose.addEvent ('click', function(e) { togglePopup(e, true); });\n",
            "\t\t\tpopup.addEvent ('submit', saveBookmark);\n",
            "\t\t\ttitle.addEvent ('keydown', function (e) {\n",
            "\t\t\t\tif (e.key == 'esc') togglePopup (e, true);\n",
            "\t\t\t});\n",
            "\t\t\tform.addEvent ('submit', togglePopup);\n",
            "\n",
            "\t\t\tfunction togglePopup(e, forceclose) {\n",
            "\t\t\t\te.stop ();\n",
            "\n",
            "\t\t\t\tpopup.set('morph', { 'duration': 'short' });\n",
            "\n",
            "\t\t\t\tif (popup.getStyle('visibility') == 'hidden') {\n",
            "\t\t\t\t\t//already closed, don't open anymore\n",
            "\t\t\t\t\tif (!!forceclose) {\n",
            "\t\t\t\t\t\treturn;\n",
            "\t\t\t\t\t}\n",
            "\n",
            "\t\t\t\t\t// already saved\n",
            "\t\t\t\t\tif (bookmark.hasClass('saved')) return;\n",
            "\n",
            "\t\t\t\t\t// Shows popup to confirm title\n",
            "\t\t\t\t\tpopup.setStyle('opacity', 0).setStyle('visibility', 'visible');\n",
            "\t\t\t\t\tbtnSave.set ('value', 'Save');\n",
            "\t\t\t\t\tpopup.morph ({\n",
            "\t\t\t\t\t\t'opacity': 1,\n",
            "\t\t\t\t\t\t'onComplete': function ()\n",
            "\t\t\t\t\t\t{\n",
            "\t\t\t\t\t\t\ttitle.focus ();\n",
            "\t\t\t\t\t\t\ttitle.selectRange.attempt ([0, title.get ('value').length], title);\n",
            "\t\t\t\t\t\t}\n",
            "\t\t\t\t\t});\n",
            "\n",
            "\t\t\t\t} else {\n",
            "\t\t\t\t\t// Cancels popup (& bookmarking)\n",
            "\t\t\t\t\tbtnSave.set ('value', 'Cancelled');\n",
            "\t\t\t\t\tpopup.morph ({\n",
            "\t\t\t\t\t\t'opacity': 0\n",
            "\t\t\t\t\t});\n",
            "\t\t\t\t\tpopup.setStyle('visibility', 'hidden');\n",
            "\n",
            "\t\t\t\t}\n",
            "\t\t\t}\n",
            "\n",
            "\t\t\t// Submits form to save bookmark\n",
            "\t\t\tfunction saveBookmark (e)\n",
            "\t\t\t{\n",
            "\t\t\t\te.stop ();\n",
            "\n",
            "\t\t\t\thiddenTitle.set ('value', title.get ('value'));\n",
            "\n",
            "\t\t\t\t//title.set ('disabled', 'disabled');\n",
            "\t\t\t\tbtnSave.set ('value', 'Saving...');\n",
            "\n",
            "\t\t\t\tform.set ('send', {\n",
            "\t\t\t\t\t'onComplete': function (response)\n",
            "\t\t\t\t\t{\n",
            "\t\t\t\t\t\tvar response = JSON.decode (response);\n",
            "\n",
            "\t\t\t\t\t\tif (response && response.success)\n",
            "\t\t\t\t\t\t{\n",
            "\t\t\t\t\t\t\ttitle.set ('disabled', 'disabled');\n",
            "\t\t\t\t\t\t\tbtnSave.set ('value', 'Saved')\n",
            "\t\t\t\t\t\t\tbookmark.addClass ('saved');\n",
            "\t\t\t\t\t\t}\n",
            "\t\t\t\t\t\telse {\n",
            "\t\t\t\t\t\t\t//console.log(response);\n",
            "\t\t\t\t\t\t\tbtnSave.set ('value', 'Failed')\n",
            "\t\t\t\t\t\t}\n",
            "\n",
            "\t\t\t\t\t\tpopup.set ('morph', { 'duration': 'long' }).morph ({ 'opacity': 0 });\n",
            "\t\t\t\t\t}\n",
            "\t\t\t\t}).send ();\n",
            "\t\t\t}\n",
            "\t\t});\n",
            "\n",
            "\t\t//AddThis thing\n",
            "\t\taddthis_share = window.addthis_share || {};\n",
            "\t\taddthis_share.url_transforms = {\n",
            "\t\t\tadd: {\n",
            "\t\t\t\tutm_source: 'addthis',\n",
            "\t\t\t\tutm_medium: '{{code}}',\n",
            "\t\t\t\tutm_campaign: 'addthis'\n",
            "\t\t\t}\n",
            "\t\t}\n",
            "\n",
            "\t\taddthis_config = window.addthis_config || {};\n",
            "\t\taddthis_config.data_track_clickback = true;\n",
            "\t\t//addthis_config.data_ga_property = 'UA-166763-2';\n",
            "\t\t//window.addthis && addthis.toolbox (\".addthis_toolbox\");\n",
            "\t\twindow.addthis && addthis.toolbox (\"#addthis_div_6174b05b6d712\", addthis_config, Object.merge(addthis_share, { url: \"https:\\/\\/www.hardwarezone.com.sg\\/tech-news-apple-third-generation-airpods-3-2021-pricing-availability-singapore-pre-order\", title: \"Apple\\u2019s third-generation AirPods features spatial audio, longer battery life, and reimagined design (Updated)\",  url_transforms: { add: { utm_content: \"Apple\\u2019s third-generation AirPods features spatial audio, longer battery life, and reimagined design (Updated)\" } } })); \n",
            "\t});\n",
            "//]]>\n",
            "</script>\t\t\t\t\t\t\t\t\t\t</div>\n",
            "\n",
            "\t\t\t\t\t\t\t\t\t</div>\n",
            "\n",
            "\t\t\t\t\t\t\t\t\n",
            "\t\t\t\t\t\t\t\t\t\t\t\t\t\t\t\t\n",
            "\t\t\t\t\t\t\t</div>\n",
            "\n",
            "\t\t\t\t\t\t</div>\n",
            "\n",
            "\t\t\t\t\t\t\t<div class=\"paginate_article\" style=\"display:none;\">\n",
            "\t\t<ul>\n",
            "\n",
            "\t\t\t<li class=\"prev\">\n",
            "\t\t\t\t<span class=\"disabled-pagination-alter\">&lt; Prev</span>\t\t\t</li>\n",
            "\n",
            "\t\t\t<li class=\"jump\">\n",
            "\t\t\t\t<div class=\"jumplist hide\">\n",
            "\t\t\t\t<b><a class=\"current\" href=\"/tech-news-apple-third-generation-airpods-3-2021-pricing-availability-singapore-pre-order\">Page 1 of 1 - Apple’s third-generation AirPods features spatial audio, longer battery life, and reimagined design (Updated)</a></b>\t\t\t\t</div>\n",
            "\t\t\t\t<a class=\"jumptitle\" tabindex=\"1\"><span>Page 1 of 1 - <b>Apple’s third-generation AirPods features spatial audio, longer battery life, and reimagined design (Updated)</b></span></a>\n",
            "\n",
            "\t\t\t\t<div class=\"pagination-mobile-alter is-mobile\">\n",
            "\t\t\t\t\t<div class=\"mb-rv-page-title mb-pagination-title-alter\"><span class=\"mb-pagination-select-wrapper\">Page 1 of 1</span> <span class=\"mb-pagination-select-wrapper-carret\"></span></div>\n",
            "\t\t\t\t\t<select class=\"mb-pagination-alter-select\">\n",
            "\t\t\t\t\t\t<option selected=\"\" value=\"/tech-news-apple-third-generation-airpods-3-2021-pricing-availability-singapore-pre-order\">Page 1 of 1 - Apple’s third-generation AirPods features spatial audio, longer battery life, and reimagined design (Updated)</option>\t\t\t\t\t</select>\n",
            "\t\t\t\t</div>\n",
            "\n",
            "\t\t\t</li>\n",
            "\n",
            "\t\t\t<li class=\"next\">\n",
            "\t\t\t\t<span class=\"disabled-pagination-alter\">Next &gt;</span>\t\t\t</li>\n",
            "\n",
            "\t\t</ul>\n",
            "\t</div>\n",
            "\n",
            "<script type=\"text/javascript\">\n",
            "//<![CDATA[\n",
            "\twindow.addEvent ('domready', function ()\n",
            "\t{\n",
            " \n",
            "\t$$('.paginate_article .mb-pagination-alter-select').addEvent('change', function(){\n",
            "\t\tif( this.get('value') )\n",
            "\t\twindow.location = this.get('value');\n",
            "\t});\n",
            " \n",
            "\t});\n",
            "//]]>\n",
            "</script>\n",
            "\t\t\t\t\t\t<div class=\"content resizeable\" id=\"content-section\">\n",
            "\t\t\t\t\t\t\t\t\t\t\t\t\t\t<div class=\"page\" id=\"page-1\">\n",
            "\t\t\t\t\t\t\t\t<h2 class=\"page-title\">Apple’s third-generation AirPods features spatial audio, longer battery life, and reimagined design (Updated)</h2>\n",
            "\t\t\t\t\t\t\t\t\t\t\t\t\t\t\t\t<p><em><strong>Note: </strong>This article was first published on 19 October 2021 and was updated on 20 October 2021 with local availability information.</em></p>\n",
            "\n",
            "<p class=\"rtecenter\"><img alt=\"Apple's third-generation AirPods.\" src=\"https://assets.hardwarezone.com/img/2021/10/apple-event-11.jpg\" style=\"height:414px; width:650px\" title=\"Apple's third-generation AirPods.\"/></p>\n",
            "\n",
            "<p>At the 18 October 2021 Apple Event keynote earlier today, the tech firm announced its<strong> third-generation Apple AirPods</strong> (colloquially AirPods 3) true wireless earbuds. </p>\n",
            "\n",
            "<p>In a nutshell, the new buds tap on many of Apple’s audio advances, offering features like Spatial Audio, while also improving its overall robustness with longer battery life and an improved design. </p>\n",
            "\n",
            "<p>The third-generation AirPods comes with new contours for better fit and better funnelling of audio directly into your ears. The <strong>stem is now shorter</strong> than its predecessor, and both the earbuds and its charging case now pack IPX4-certified resistance against water droplets and perspiration.</p>\n",
            "\n",
            "<p class=\"rtecenter\"><img alt=\"\" src=\"https://assets.hardwarezone.com/img/2021/10/apple-event-12.jpg\" style=\"height:414px; width:650px\"/></p>\n",
            "\n",
            "<p>The custom driver in each earbud comes with a high dynamic range amplifier, covering the entire audible frequency range (from bass to high treble notes). AirPods also come with an acoustic wind filter mesh on their microphones. According to Apple, the buds now use <strong>AAC-ELD</strong>, a speech codec offering “full HD voice quality” for voice calls.</p>\n",
            "\n",
            "<p class=\"rtecenter\"><img alt=\"\" src=\"https://assets.hardwarezone.com/img/2021/10/apple-event-13.jpg\" style=\"height:414px; width:650px\"/></p>\n",
            "\n",
            "<p>Another new feature in these AirPods is <strong>Adaptive EQ</strong>. The AirPods now tune sound in real-time by basing it on the user’s ear fit. An inward-facing microphone monitors for sounds, while Adaptive EQ uses computational audio to tune and compensate based on the user’s hearing preferences and limitations. </p>\n",
            "\n",
            "<p><strong>Spatial audio</strong> - Apple’s much-vaunted surround sound technology - creates a 3D, theatre-like audio experience. It also <a href=\"https://www.hardwarezone.com.sg/tech-news-apple-music-spatial-audio-dolby-atmos-will-also-work-non-apple-headphones\">works with tracks and shows with Dolby Atmos metadata</a> to maximise its Spatial Audio capabilities.</p>\n",
            "\n",
            "<p>Returning features include its<strong> one-touch setup</strong> (where your devices automatically detect a new pair of AirPods), and auto-pausing of playback when AirPods are removed. While it doesn’t feature active noise-cancellation (that would be for its Pro lineup), Apple said that the third-gen AirPods have beamforming microphones to block out ambient noises and help focus on user voice. Expectedly, AirPods also work with Apple’s voice assistant, <strong>Siri</strong>.</p>\n",
            "\n",
            "<p class=\"rtecenter\"><img alt=\"\" src=\"https://assets.hardwarezone.com/img/2021/10/apple-event-15.jpg\" style=\"height:414px; width:650px\"/></p>\n",
            "\n",
            "<p>Finally, Apple <strong>extended the AirPods battery life </strong>with up to six hours of listening time and four hours of talk time, longer than <a href=\"https://www.hardwarezone.com.sg/tech-news-apple-unveils-new-airpods-featuring-new-h1-chip-and-optional-wireless-charging-case\">2019’s AirPods</a>. The new buds also can use <strong>Magsafe wireless charging</strong>. </p>\n",
            "\n",
            "<p>If you are on <a href=\"https://www.hardwarezone.com.sg/tech-news-apple-ios-15-ipados-15-20-september-availability\">iOS 15 and iPadOS 15</a>, <strong>Spatial audio works with Group FaceTime calls</strong>. It makes other callers sound like they are coming from the direction based on the caller's position on your screen (only on iPhone and iPads with A12 Bionic chipset or later). <strong>AirPods are also a part of the Find My network</strong>, in case you misplace it.</p>\n",
            "\n",
            "<p class=\"rtecenter\"><img alt=\"Prices seen here are in USD, as taken from Apple Event.\" src=\"https://assets.hardwarezone.com/img/2021/10/apple-event-16.jpg\" style=\"height:414px; width:650px\" title=\"Prices seen here are in USD, as taken from Apple Event.\"/></p>\n",
            "\n",
            "<p>The third-generation AirPods officially retail at <strong>S$269</strong>, and are <a href=\"https://www.apple.com/sg/shop/product/MME73ZA/A\">available <s>for pre-order \"soon</s>\" to order now  at Apple’s online store</a>. They will be available in stores on <strong>26 October</strong>.</p>\n",
            "\t\t\t\t\t\t\t</div>\n",
            "\t\t\t\t\t\t</div>\n",
            "\n",
            "\t\t\t\t\t\t\t<div class=\"paginate_article\" style=\"display:none;\">\n",
            "\t\t<ul>\n",
            "\n",
            "\t\t\t<li class=\"prev\">\n",
            "\t\t\t\t<span class=\"disabled-pagination-alter\">&lt; Prev</span>\t\t\t</li>\n",
            "\n",
            "\t\t\t<li class=\"jump\">\n",
            "\t\t\t\t<div class=\"jumplist hide\">\n",
            "\t\t\t\t<b><a class=\"current\" href=\"/tech-news-apple-third-generation-airpods-3-2021-pricing-availability-singapore-pre-order\">Page 1 of 1 - Apple’s third-generation AirPods features spatial audio, longer battery life, and reimagined design (Updated)</a></b>\t\t\t\t</div>\n",
            "\t\t\t\t<a class=\"jumptitle\" tabindex=\"1\"><span>Page 1 of 1 - <b>Apple’s third-generation AirPods features spatial audio, longer battery life, and reimagined design (Updated)</b></span></a>\n",
            "\n",
            "\t\t\t\t<div class=\"pagination-mobile-alter is-mobile\">\n",
            "\t\t\t\t\t<div class=\"mb-rv-page-title mb-pagination-title-alter\"><span class=\"mb-pagination-select-wrapper\">Page 1 of 1</span> <span class=\"mb-pagination-select-wrapper-carret\"></span></div>\n",
            "\t\t\t\t\t<select class=\"mb-pagination-alter-select\">\n",
            "\t\t\t\t\t\t<option selected=\"\" value=\"/tech-news-apple-third-generation-airpods-3-2021-pricing-availability-singapore-pre-order\">Page 1 of 1 - Apple’s third-generation AirPods features spatial audio, longer battery life, and reimagined design (Updated)</option>\t\t\t\t\t</select>\n",
            "\t\t\t\t</div>\n",
            "\n",
            "\t\t\t</li>\n",
            "\n",
            "\t\t\t<li class=\"next\">\n",
            "\t\t\t\t<span class=\"disabled-pagination-alter\">Next &gt;</span>\t\t\t</li>\n",
            "\n",
            "\t\t</ul>\n",
            "\t</div>\n",
            "\n",
            "<script type=\"text/javascript\">\n",
            "//<![CDATA[\n",
            "\twindow.addEvent ('domready', function ()\n",
            "\t{\n",
            " \n",
            "\t$$('.paginate_article .mb-pagination-alter-select').addEvent('change', function(){\n",
            "\t\tif( this.get('value') )\n",
            "\t\twindow.location = this.get('value');\n",
            "\t});\n",
            " \n",
            "\t});\n",
            "//]]>\n",
            "</script>\n",
            "\t\t\t\t\t\t\t\t\t\t\t\t<section class=\"fixed-wrapper\">\n",
            "\t\t\t\t\t\t\t<div class=\"telegram-liner\">Join <a class=\"hwz-general-link\" href=\"https://t.me/HardwareZoneSG\" target=\"_blank\">HWZ's Telegram channel here</a> and catch all the latest tech news!</div>\n",
            "\t\t\t\t\t\t</section>\n",
            "\t\t\t\t\t\t\n",
            "\t\t\t\t\t\t\t\t\t\t\t\t<div class=\"footer\">\n",
            "\t\t\t\t\t\t<!-- start /elements/list-tags.ctp -->\n",
            "<div class=\"tags\" style=\"\">\n",
            "\t<span class=\"label\" style=\"display:none;\">Tags:</span> <a href=\"/home/tagged/83-apple\" title=\"Articles tagged apple\">apple</a> <a href=\"/home/tagged/4542-magsafe\" title=\"Articles tagged magsafe\">magsafe</a> <a href=\"/home/tagged/12559-dolby-atmos\" title=\"Articles tagged dolby atmos\">dolby atmos</a> <a href=\"/home/tagged/33757-airpods\" title=\"Articles tagged airpods\">airpods</a> <a href=\"/home/tagged/34699-true-wireless-earphones\" title=\"Articles tagged true wireless earphones\">true wireless earphones</a> <a href=\"/home/tagged/44559-true-wireless-earbuds\" title=\"Articles tagged true wireless earbuds\">true wireless earbuds</a> <a href=\"/home/tagged/45399-spatial-audio\" title=\"Articles tagged spatial audio\">spatial audio</a> <a href=\"/home/tagged/45930-airpods-3\" title=\"Articles tagged airpods 3\">airpods 3</a> <a href=\"/home/tagged/47945-tws\" title=\"Articles tagged tws\">tws</a> <a href=\"/home/tagged/51778-airpods-2021\" title=\"Articles tagged airpods 2021\">airpods 2021</a> <a href=\"/home/tagged/51779-third-generation-airpods\" title=\"Articles tagged third-generation airpods\">third-generation airpods</a> <a href=\"/home/tagged/51780-apple-unleashed-2021\" title=\"Articles tagged apple unleashed 2021\">apple unleashed 2021</a></div>\n",
            "<!-- end /elements/list-tags.ctp -->\n",
            "\t\t\t\t\t\t<div class=\"share\">\n",
            "\t\n",
            "\t<div addthis:title=\"Apple’s third-generation AirPods features spatial audio, longer battery life, and reimagined design (Updated)\" addthis:url=\"https://www.hardwarezone.com.sg/tech-news-apple-third-generation-airpods-3-2021-pricing-availability-singapore-pre-order\" class=\"hwz_addthis addthis_inline_share_toolbox_d1m5\" id=\"addthis_div_6174b05b81047\">\n",
            "\t\t\t\t\t</div>\n",
            "</div>\n",
            "<script type=\"text/javascript\">\n",
            "//<![CDATA[\n",
            "\twindow.addEvent ('domready', function ()\n",
            "\t{\n",
            " \t\t$$('.share .bookmark:not(.js) form').each (function (form)\n",
            "\t\t{\n",
            "\t\t\tvar bookmark = form.getParent (),\n",
            "\t\t\t\thiddenTitle = form.getElement ('input[name=\"data[Bookmark][title]\"]'),\n",
            "\t\t\t\ttitle = new Element ('input', { 'class': 'text', 'type': 'text', 'value': hiddenTitle.get ('value') }),\n",
            "\t\t\t\tbtnSave = new Element ('input', { 'class': 'button submitbutton', 'type': 'submit', 'value': 'Save' }),\n",
            "\t\t\t\tbtnClose = new Element ('input', { 'class': 'button closebutton', 'type': 'button', 'value': '\\u00d7' }),\n",
            "\t\t\t\tpopup = new Element ('form', { 'class': 'popup' })\n",
            "\t\t\t\t\t.grab (new Element ('fieldset').adopt (title, btnSave).adopt (title, btnClose))\n",
            "\t\t\t\t\t.inject (bookmark, 'bottom')\n",
            "\t\t\t;\n",
            "\n",
            "\t\t\t// Tag as JS-hooked\n",
            "\t\t\tbookmark.addClass ('js');\n",
            "\n",
            "\t\t\t// Add events\n",
            "\t\t\tbtnClose.addEvent ('click', function(e) { togglePopup(e, true); });\n",
            "\t\t\tpopup.addEvent ('submit', saveBookmark);\n",
            "\t\t\ttitle.addEvent ('keydown', function (e) {\n",
            "\t\t\t\tif (e.key == 'esc') togglePopup (e, true);\n",
            "\t\t\t});\n",
            "\t\t\tform.addEvent ('submit', togglePopup);\n",
            "\n",
            "\t\t\tfunction togglePopup(e, forceclose) {\n",
            "\t\t\t\te.stop ();\n",
            "\n",
            "\t\t\t\tpopup.set('morph', { 'duration': 'short' });\n",
            "\n",
            "\t\t\t\tif (popup.getStyle('visibility') == 'hidden') {\n",
            "\t\t\t\t\t//already closed, don't open anymore\n",
            "\t\t\t\t\tif (!!forceclose) {\n",
            "\t\t\t\t\t\treturn;\n",
            "\t\t\t\t\t}\n",
            "\n",
            "\t\t\t\t\t// already saved\n",
            "\t\t\t\t\tif (bookmark.hasClass('saved')) return;\n",
            "\n",
            "\t\t\t\t\t// Shows popup to confirm title\n",
            "\t\t\t\t\tpopup.setStyle('opacity', 0).setStyle('visibility', 'visible');\n",
            "\t\t\t\t\tbtnSave.set ('value', 'Save');\n",
            "\t\t\t\t\tpopup.morph ({\n",
            "\t\t\t\t\t\t'opacity': 1,\n",
            "\t\t\t\t\t\t'onComplete': function ()\n",
            "\t\t\t\t\t\t{\n",
            "\t\t\t\t\t\t\ttitle.focus ();\n",
            "\t\t\t\t\t\t\ttitle.selectRange.attempt ([0, title.get ('value').length], title);\n",
            "\t\t\t\t\t\t}\n",
            "\t\t\t\t\t});\n",
            "\n",
            "\t\t\t\t} else {\n",
            "\t\t\t\t\t// Cancels popup (& bookmarking)\n",
            "\t\t\t\t\tbtnSave.set ('value', 'Cancelled');\n",
            "\t\t\t\t\tpopup.morph ({\n",
            "\t\t\t\t\t\t'opacity': 0\n",
            "\t\t\t\t\t});\n",
            "\t\t\t\t\tpopup.setStyle('visibility', 'hidden');\n",
            "\n",
            "\t\t\t\t}\n",
            "\t\t\t}\n",
            "\n",
            "\t\t\t// Submits form to save bookmark\n",
            "\t\t\tfunction saveBookmark (e)\n",
            "\t\t\t{\n",
            "\t\t\t\te.stop ();\n",
            "\n",
            "\t\t\t\thiddenTitle.set ('value', title.get ('value'));\n",
            "\n",
            "\t\t\t\t//title.set ('disabled', 'disabled');\n",
            "\t\t\t\tbtnSave.set ('value', 'Saving...');\n",
            "\n",
            "\t\t\t\tform.set ('send', {\n",
            "\t\t\t\t\t'onComplete': function (response)\n",
            "\t\t\t\t\t{\n",
            "\t\t\t\t\t\tvar response = JSON.decode (response);\n",
            "\n",
            "\t\t\t\t\t\tif (response && response.success)\n",
            "\t\t\t\t\t\t{\n",
            "\t\t\t\t\t\t\ttitle.set ('disabled', 'disabled');\n",
            "\t\t\t\t\t\t\tbtnSave.set ('value', 'Saved')\n",
            "\t\t\t\t\t\t\tbookmark.addClass ('saved');\n",
            "\t\t\t\t\t\t}\n",
            "\t\t\t\t\t\telse {\n",
            "\t\t\t\t\t\t\t//console.log(response);\n",
            "\t\t\t\t\t\t\tbtnSave.set ('value', 'Failed')\n",
            "\t\t\t\t\t\t}\n",
            "\n",
            "\t\t\t\t\t\tpopup.set ('morph', { 'duration': 'long' }).morph ({ 'opacity': 0 });\n",
            "\t\t\t\t\t}\n",
            "\t\t\t\t}).send ();\n",
            "\t\t\t}\n",
            "\t\t});\n",
            "\n",
            "\t\t//AddThis thing\n",
            "\t\taddthis_share = window.addthis_share || {};\n",
            "\t\taddthis_share.url_transforms = {\n",
            "\t\t\tadd: {\n",
            "\t\t\t\tutm_source: 'addthis',\n",
            "\t\t\t\tutm_medium: '{{code}}',\n",
            "\t\t\t\tutm_campaign: 'addthis'\n",
            "\t\t\t}\n",
            "\t\t}\n",
            "\n",
            "\t\taddthis_config = window.addthis_config || {};\n",
            "\t\taddthis_config.data_track_clickback = true;\n",
            "\t\t//addthis_config.data_ga_property = 'UA-166763-2';\n",
            "\t\t//window.addthis && addthis.toolbox (\".addthis_toolbox\");\n",
            "\t\twindow.addthis && addthis.toolbox (\"#addthis_div_6174b05b81047\", addthis_config, Object.merge(addthis_share, { url: \"https:\\/\\/www.hardwarezone.com.sg\\/tech-news-apple-third-generation-airpods-3-2021-pricing-availability-singapore-pre-order\", title: \"Apple\\u2019s third-generation AirPods features spatial audio, longer battery life, and reimagined design (Updated)\",  url_transforms: { add: { utm_content: \"Apple\\u2019s third-generation AirPods features spatial audio, longer battery life, and reimagined design (Updated)\" } } })); \n",
            "\t});\n",
            "//]]>\n",
            "</script>\n",
            "\t\t\t\t\t\t</div>\n",
            "\t\t\t\t\t\t\n",
            "\t\t\t\t\t\t<section class=\"fixed-wrapper\">\n",
            "\t\t\t\t\t\t\t<div class=\"affiliate-declare\">Our articles may contain affiliate links. If you buy through these links, we may earn a small commission.</div>\n",
            "\t\t\t\t\t\t</section>\n",
            "\n",
            "\t\t\t\t\t\t\t\t\t\t\t\t<div class=\"news-continue\" id=\"hwz_news_continue_6174b05b843cc\">\n",
            "\t\t\t\t\t\t\t<div class=\"news-continue-container\">\n",
            "\t\t\t\t\t\t\t<a class=\"news-continue-prev\" href=\"/tech-news-apple-new-14-and-16-inch-macbook-pro-m1-pro-and-m1-max-singapore-price\"><div class=\"news-continue-head\">Previous Story</div><div class=\"news-continue-title\">Apple announces new 14 and 16-inch MacBook Pro, powered by new M1 Pro and M1 Max chips (Updated)</div></a><a class=\"news-continue-next\" href=\"/tech-news-apple-tv-plus-renewed-mythic-quest-season-3-and-4\"><div class=\"news-continue-head\">Next Story</div><div class=\"news-continue-title\">Apple TV+ has renewed Mythic Quest for Seasons 3 and 4</div></a>\t\t\t\t\t\t\t</div>\n",
            "\t\t\t\t\t\t</div>\n",
            "\t\t\t\t\t\t<script type=\"text/javascript\">\n",
            "\t\t\t\t\t\t(function(){\n",
            "\t\t\t\t\t\t\tvar o = document.id('hwz_news_continue_6174b05b843cc');\n",
            "\t\t\t\t\t\t\tif (!o) return;\n",
            "\t\t\t\t\t\t\tvar a = o.getElements('a');\n",
            "\t\t\t\t\t\t\tif (a.length < 1) return;\n",
            "\t\t\t\t\t\t\ta.addEvent('click', function(e){\n",
            "\t\t\t\t\t\t\t\tif (typeof(hwz_ga) != 'undefined') {\n",
            "\t\t\t\t\t\t\t\t\tvar sTitle = document.id(this).getElement('.news-continue-title').get('text');\n",
            "\t\t\t\t\t\t\t\t\tvar sAction = document.id(this).getElement('.news-continue-head').get('text').replace(' Story', '');\n",
            "\t\t\t\t\t\t\t\t\thwz_ga('send', 'event', 'Read NextPrev', 'Read ' + sAction, sTitle);\n",
            "\t\t\t\t\t\t\t\t}\n",
            "\t\t\t\t\t\t\t});\n",
            "\t\t\t\t\t\t})();\n",
            "\t\t\t\t\t\t</script>\n",
            "\n",
            "\t\t\t\t\t\t<script type=\"text/javascript\">\n",
            "(function() {\n",
            "\t\n",
            "\tfunction setAttributes(o, a) { for(var i in a) o.setAttribute(i, a[i]); }\n",
            "\tvar url = 'https://www.hardwarezone.com.sg/tech-news-apple-third-generation-airpods-3-2021-pricing-availability-singapore-pre-order';\n",
            "\tvar o = document.getElementById('hwz-news');\n",
            "\tvar obd2 = document.createElement('div');\n",
            "\tvar obd3 = document.createElement('div');\n",
            "\tsetAttributes(obd2, { 'class':'OUTBRAIN appendix', 'data-src':url, 'data-widget-id':'AR_2', 'data-ob-template':'Hardwarezone' });\n",
            "\tsetAttributes(obd3, { 'class':'OUTBRAIN appendix', 'data-src':url, 'data-widget-id':'AR_3', 'data-ob-template':'Hardwarezone' });\n",
            "\n",
            "\tobd2.addEvent('click:relay(a.item-link-container)', function(e){\n",
            "\t\tif (typeof(ga) == 'undefined') return;\n",
            "\t\tvar oText = document.id(this).getElement('.ob-text-content .strip-rec-link-title');\n",
            "\t\tvar sTitle = (!!oText ? oText.get('text').trim() : 'article');\n",
            "\t\tga('send', 'event', 'Outbrain', 'Click', sTitle);\n",
            "\t});\n",
            "\t\n",
            "\t//insert in reverse order\n",
            "\to.parentNode.insertBefore(obd3, o.nextSibling);//insertAfter\n",
            "\to.parentNode.insertBefore(obd2, o.nextSibling);//insertAfter\n",
            "\t\n",
            "\tvar obs = document.createElement('script');\n",
            "\tsetAttributes(obs, { 'type':'text/javascript', 'src':'https://widgets.outbrain.com/outbrain.js' });\n",
            "\tobs.async = true;\n",
            "\tobd3.parentNode.insertBefore(obs, obd3.nextSibling);//insertAfter\n",
            "})();\n",
            "</script>\n",
            "\n",
            "\t\t\t\t\t\t<div class=\"news-comments\" id=\"comments\"></div>\n",
            "\n",
            "\t\t\t\t\t</div><!-- /hwz-news -->\n",
            "\n",
            "\t\t\t\t\t<hr class=\"article-top-border paginate-bar\"/>\n",
            "\n",
            "\t\t\t\t</div> <!-- end of news hightlight div -->\n",
            "\n",
            "\t\t\t</div> <!-- end of inner div -->\n",
            "\n",
            "\n",
            "\t\t\t<div class=\"content-margin-top\"></div>\n",
            "\n",
            "\t\t</div>  <!-- end of content-wide div -->\n",
            "\n",
            "\t\t<div class=\"col-g\" id=\"content-narrow\">\n",
            "\t\t\t<div class=\"inner\">\n",
            "\n",
            "\t\t\t\t<!-- HWZ-Ad-med-rect --> \n",
            "<div class=\"panel ad side-bar-margin-bottom\">\n",
            "\t<div class=\"gpt-ad gpt-ad-imu1\" id=\"div-gpt-ad-imu1\"></div>\n",
            "</div>\n",
            "<!-- /HWZ-Ad-med-rect --> \n",
            "<!-- start /elements/panel-facebook.ctp -->\n",
            "\t<div class=\"panel-black side-bar-margin-bottom\" id=\"panel-facebook-recommendations\">\n",
            "\t\t<div id=\"fb-root\"></div>\n",
            "\t\t<script>(function(d, s, id) {\n",
            "\t\t  var js, fjs = d.getElementsByTagName(s)[0];\n",
            "\t\t  if (d.getElementById(id)) return;\n",
            "\t\t  js = d.createElement(s); js.id = id;\n",
            "\t\t  js.src = \"//connect.facebook.net/en_GB/sdk.js#xfbml=1&version=v2.9&appId=760722013968055\";\n",
            "\t\t  fjs.parentNode.insertBefore(js, fjs);\n",
            "\t\t}(document, 'script', 'facebook-jssdk'));</script>\n",
            "\n",
            "\t\t<div class=\"fb-page\" data-adapt-container-width=\"true\" data-hide-cover=\"false\" data-hide-cta=\"true\" data-href=\"https://www.facebook.com/hardwarezone\" data-show-facepile=\"true\" data-small-header=\"false\" data-width=\"300\">\n",
            "\t\t\t<blockquote cite=\"https://www.facebook.com/hardwarezone\" class=\"fb-xfbml-parse-ignore\"><a href=\"https://www.facebook.com/hardwarezone\"></a></blockquote>\n",
            "\t\t</div>\n",
            "\t</div>\n",
            "<!-- end /elements/panel-facebook.ctp -->\n",
            "<!-- Start: related-sidebar.ctp -->\n",
            "<!-- 695725,695664,695276,695654,687418 --><div class=\"panel-related-articles hwz-fancy-block side-bar-margin-bottom\" id=\"related-articles-6174b05be5c04272a60118510aab7a11\">\n",
            "\n",
            "\t<div class=\"related-sidebar-header\">\n",
            "\n",
            "\t<h3>Suggested Reads\t\t\t\t\t<a class=\"sidepanel-more\" href=\"/tech-news/list\">» More</a>\t\n",
            "\t</h3><span class=\"fancy-caret\"></span>\n",
            "\t</div>\n",
            "\n",
            "\t\n",
            "\t<div class=\"content\">\n",
            "\t<ul>\n",
            "\n",
            "\t\n",
            "\t\t\t\t\t<li class=\"link-clickable\">\n",
            "\t\t\t\t\t<div class=\"thumb\">\n",
            "\t\t\t\t\t<img alt=\"True wireless earbuds at S$49: Xiaomi launches Redmi Buds 3 in SG\" src=\"/thumbs/695725/a.jpg\"/>\t\t\t\t\t</div>\n",
            "\t\t\t\t\t<div class=\"header\">\n",
            "\t\t\t\t\t\t<a data-vars-event-label=\"True wireless earbuds at S$49: Xiaomi launches Redmi Buds 3 in SG\" href=\"/tech-news-xiaom-redmi-buds-3-singapore-pricing-availability-where-to-buy\">True wireless earbuds at S$49: Xiaomi launches Redmi Buds 3 in SG</a>\t\t\t\t\t\t<div class=\"byline\">21 Oct 2021  /  By Liu Hongzuo</div>\n",
            "\t\t\t\t\t</div>\n",
            "\t\t\t\t</li>\n",
            "\t\t\t\t\t\t<li class=\"link-clickable\">\n",
            "\t\t\t\t\t<div class=\"thumb\">\n",
            "\t\t\t\t\t<img alt=\"Apple also quietly launched a MagSafe charging case for its AirPods Pro\" src=\"/thumbs/695664/a.jpg\"/>\t\t\t\t\t</div>\n",
            "\t\t\t\t\t<div class=\"header\">\n",
            "\t\t\t\t\t\t<a data-vars-event-label=\"Apple also quietly launched a MagSafe charging case for its AirPods Pro\" href=\"/tech-news-apple-quietly-launched-magsafe-charging-case-airpods-pro\">Apple also quietly launched a MagSafe charging case for its AirPods Pro</a>\t\t\t\t\t\t<div class=\"byline\">19 Oct 2021  /  By Aaron Yip</div>\n",
            "\t\t\t\t\t</div>\n",
            "\t\t\t\t</li>\n",
            "\t\t\t\t\t\t<li class=\"link-clickable\">\n",
            "\t\t\t\t\t<div class=\"thumb\">\n",
            "\t\t\t\t\t<img alt=\"Sony promises immersive audio with its new SRS-NS7 wireless neckband speaker (Updated)\" src=\"/thumbs/695276/a.jpg\"/>\t\t\t\t\t</div>\n",
            "\t\t\t\t\t<div class=\"header\">\n",
            "\t\t\t\t\t\t<a data-vars-event-label=\"Sony promises immersive audio with its new SRS-NS7 wireless neckband speaker (Updated)\" href=\"/tech-news-sony-srs-ns7-wireless-neckband-speaker-singapore-price\">Sony promises immersive audio with its new SRS-NS7 wireless neckband speaker (Updated)</a>\t\t\t\t\t\t<div class=\"byline\">19 Oct 2021  /  By Glenn Chua</div>\n",
            "\t\t\t\t\t</div>\n",
            "\t\t\t\t</li>\n",
            "\t\t\t\t\t\t<li class=\"link-clickable\">\n",
            "\t\t\t\t\t<div class=\"thumb\">\n",
            "\t\t\t\t\t<img alt=\"Apple adds some spice to the HomePod Mini by adding a splash of colour \" src=\"/thumbs/695654/a.jpg\"/>\t\t\t\t\t</div>\n",
            "\t\t\t\t\t<div class=\"header\">\n",
            "\t\t\t\t\t\t<a data-vars-event-label=\"Apple adds some spice to the HomePod Mini by adding a splash of colour \" href=\"/tech-news-apple-homepod-mini-new-colours-singapore-price\">Apple adds some spice to the HomePod Mini by adding a splash of colour </a>\t\t\t\t\t\t<div class=\"byline\">19 Oct 2021  /  By Ken Wong</div>\n",
            "\t\t\t\t\t</div>\n",
            "\t\t\t\t</li>\n",
            "\t\t\t\t\t\t<li class=\"link-clickable\">\n",
            "\t\t\t\t\t<div class=\"thumb\">\n",
            "\t\t\t\t\t<img alt=\"Apple launches AirPods Pro service program for sound issues (Updated)\" src=\"/thumbs/687418/a.jpg\"/>\t\t\t\t\t</div>\n",
            "\t\t\t\t\t<div class=\"header\">\n",
            "\t\t\t\t\t\t<a data-vars-event-label=\"Apple launches AirPods Pro service program for sound issues (Updated)\" href=\"/tech-news-apple-launches-airpods-pro-service-program-sound-issues-updated\">Apple launches AirPods Pro service program for sound issues (Updated)</a>\t\t\t\t\t\t<div class=\"byline\">14 Oct 2021  /  By Cookie Monster</div>\n",
            "\t\t\t\t\t</div>\n",
            "\t\t\t\t</li>\n",
            "\t\t\t</ul>\n",
            "\t</div>\n",
            "</div>\n",
            "<script type=\"text/javascript\">\n",
            "//<![CDATA[\n",
            "(function(){\n",
            "\tvar relArtHref = $('related-articles-6174b05be5c04272a60118510aab7a11').getElement('.content');\n",
            "\trelArtHref.getElements('li.link-clickable').each(function(o, i) {\n",
            "\t\t$(o).addEvent('click', function(e) {\n",
            "\t\t\tvar oLink = $(this).getElement(\".header a\");\n",
            "\t\t\t//if (typeof(hwz_ga) != 'undefined') hwz_ga('send', 'event', 'Suggested Reads', 'Click', oLink.get('text'));\n",
            "\t\t\tvar nPos = ~~(i || 0) + 1\n",
            "\t\t\tif (typeof(hwz_ga) != 'undefined') {\n",
            "\t\t\t\tvar oLabel = {'SectionName':'Suggested Reads', 'SectionTitle':'Suggested Reads', 'ArticleName':oLink.get('text').trim(),'Position':nPos};\n",
            "\t\t\t\thwz_ga('send', 'event', 'Content-Engagement', 'Click', JSON.stringify(oLabel), {'data':{'ux_element_name':'Suggested Reads','ux_element_type':'related articles'}});\n",
            "\t\t\t}\n",
            "\t\t\tlocation.href = oLink.get('href');\n",
            "\t\t});\n",
            "\t\t$(o).getElements('.header a').addEvent('click', function(e){\n",
            "\t\t\te.preventDefault();\n",
            "\t\t});\n",
            "\t});\n",
            "\n",
            "\tif (typeof(hwz_ga) != 'undefined') {\n",
            "\t\trelArtHref.getElements('li.link-clickable').each(function(o,i){\n",
            "\t\t\tvar nPos = ~~(i || 0) + 1\n",
            "\t\t\tvar sTitle = $(o).getElement('a').get('text').trim();\n",
            "\t\t\tvar oLabel = {'SectionName':'Suggested Reads', 'SectionTitle':'Suggested Reads', 'ArticleName':sTitle,'Position':nPos};\n",
            "\t\t\thwz_ga_lazy(o, 'Content-Engagement', 'Impression', JSON.stringify(oLabel), {'data':{'ux_element_name':'Suggested Reads','ux_element_type':'related articles'}});\n",
            "\t\t});\n",
            "\t}\n",
            "\n",
            "\t$('related-articles-6174b05be5c04272a60118510aab7a11').getElements('.sidepanel-more').addEvent('click', function(e){\n",
            "\t\tvar oLabel = {'SectionName':'Suggested Reads', 'SectionTitle':'View More'};\n",
            "\t\thwz_ga('send', 'event', 'Content-Engagement', 'Click', JSON.stringify(oLabel), {'data':{'ux_element_name':'View More','ux_element_type':'more articles'}});\n",
            "\t});\n",
            "})();\n",
            "//]]>\n",
            "</script>\n",
            "<!-- End: related-sidebar.ctp -->\n",
            "<!-- HWZ-Ad-bottom-med-rect --> \n",
            "<div class=\"panel ad side-bar-margin-bottom\">\n",
            "\t<div class=\"gpt-ad gpt-ad-imu2\" id=\"div-gpt-ad-imu2\"></div>\n",
            "</div>\n",
            "<!-- /HWZ-Ad-bottom-med-rect --> \n",
            "<div class=\"panel-related-articles gameaxis side-bar-margin-bottom\" id=\"from-gameaxis-6174a3b5d8ac4fdcb4cd0e760aab7a11\">\n",
            "\t<h3>From <span style=\"color:#1d70b7;\">Game</span><span style=\"color:#565655;\">Axis</span> <a class=\"sidepanel-more\" href=\"/product-guide/47835-gaming-entertainment-culture/home\" target=\"_blank\">» More</a> </h3><span class=\"fancy-caret\"></span>\n",
            "\t<div class=\"content\">\n",
            "\t<ul>\n",
            "\t\t\t\t<li class=\"link-clickable\">\n",
            "\t\t\t\t\t\t\t<img alt=\"Razer launches new lineup Kraken V3 headsets, some with HyperSense haptics\" class=\"thumb\" src=\"https://www.hardwarezone.com.sg/thumbs/695694/a.jpg\"/>\t\t\t\t\t\t<div class=\"header\">\n",
            "\t\t\t\t<a href=\"https://www.hardwarezone.com.sg/tech-news-razer-new-lineup-kraken-v3-headset\" target=\"_blank\">Razer launches new lineup Kraken V3 headsets, some with HyperSense haptics</a>\t\t\t</div>\n",
            "\t\t\t</li>\n",
            "\t\t\t\t<li class=\"link-clickable\">\n",
            "\t\t\t\t\t\t\t<img alt=\"The Razer Zephyr Wearable Air Purifier and mask is finally here\" class=\"thumb\" src=\"https://www.hardwarezone.com.sg/thumbs/695698/a.jpg\"/>\t\t\t\t\t\t<div class=\"header\">\n",
            "\t\t\t\t<a href=\"https://www.hardwarezone.com.sg/tech-news-razer-zephyr-wearable-air-purifier-and-mask\" target=\"_blank\">The Razer Zephyr Wearable Air Purifier and mask is finally here</a>\t\t\t</div>\n",
            "\t\t\t</li>\n",
            "\t\t\t\t<li class=\"link-clickable\">\n",
            "\t\t\t\t\t\t\t<img alt=\"Razer enters the PC component space with a new case fan, AIO cooler and PSU\" class=\"thumb\" src=\"https://www.hardwarezone.com.sg/thumbs/695700/a.jpg\"/>\t\t\t\t\t\t<div class=\"header\">\n",
            "\t\t\t\t<a href=\"https://www.hardwarezone.com.sg/tech-news-razer-pc-component-case-fan-aio-cooler-and-psu\" target=\"_blank\">Razer enters the PC component space with a new case fan, AIO cooler and PSU</a>\t\t\t</div>\n",
            "\t\t\t</li>\n",
            "\t\t</ul>\n",
            "\t</div>\n",
            "</div>\n",
            "<script type=\"text/javascript\">\n",
            "//<![CDATA[\n",
            "(function(){\n",
            "\tvar relArtHref = $('from-gameaxis-6174a3b5d8ac4fdcb4cd0e760aab7a11').getChildren('div.content')[0];\n",
            "\trelArtHref.getChildren('ul li.link-clickable').addEvent('click', function(e) {\n",
            "\t\tvar o = $(this).getChildren(\".header a\")[0];\n",
            "\t\tif (o.get('target') == '_blank') window.open(o.get('href'));\n",
            "\t\telse location.href = o.get('href');\n",
            "\t});\n",
            "\trelArtHref.getChildren('ul li.link-clickable a').addEvent('click', function(e) { e.stopPropagation(); });\n",
            "})();\n",
            "//]]>\n",
            "</script>\n",
            "<!-- sposnored no -->\n",
            "<style>\n",
            ".crowdy-recommend {width:100%;overflow:hidden;text-align:left;}\n",
            ".crowdy-recommend .cn {width:100%;}\n",
            ".crowdy-recommend .cn.hlist .text h2 {text-align:left;}\n",
            "</style>\n",
            "<script type=\"text/javascript\">\n",
            "(function(){\n",
            "\tvar a = $$('.panel-related-articles');\n",
            "\tif (a.length < 1) return;\n",
            "\tvar o = new Element('div', {'data-cn-project':'hardwarezone', 'class':'crowdy-recommend side-bar-margin-bottom'});\n",
            "\to.inject(a[0], 'before');\n",
            "\tvar j = new Element('script', {'src':'https://recirculate.crowdynews.com/loader/hardwarezone'});\n",
            "\tj.inject(o, 'top');\n",
            "})();\n",
            "</script>\n",
            "\n",
            "\n",
            "\t\t\t</div>\n",
            "\t\t</div>\n",
            "\n",
            "\t</section> <!-- content wrapper -->\n",
            "\n",
            "</section>\n",
            "\n",
            "<!-- end /news/view.ctp -->\n",
            "\n",
            "\n",
            "<script>\n",
            "(function(){\n",
            "\tif (!HWZ) return;\n",
            "\tHWZ.fn.autoCaption ();\n",
            "})();\n",
            "</script>\n",
            "\n",
            "<script async=\"\" src=\"https://s.skimresources.com/js/157725X1624231.skimlinks.js\" type=\"text/javascript\"></script>\n",
            "\n",
            "<script data-cfasync=\"false\" src=\"https://static.vidy.com/embed.min.js\" type=\"text/javascript\"></script>\n",
            "<script>\n",
            "//VIDY\n",
            "window.addEvent('domready', function() {\n",
            "\tvar s = \"#hwz-news #content-section\";\n",
            "\tvar o = $$(s);\n",
            "\tif (!o || !o.length) return;\n",
            "\tvar vidy = new Vidy({\n",
            "\t\tappid: 'ac30e75c-391b-4c3b-9a51-ee2e93056b62',\n",
            "\t\tpostid: 'hwz-695646',\n",
            "\t\tcontent: s,\n",
            "\t\tautoload: true\n",
            "\t});\n",
            "});\n",
            "</script>\n",
            "\n",
            "\n",
            "\t\t\t\t\t\t</div>\n",
            "\t\t\t\t\t</div>\n",
            "\n",
            "\t\t\t\t\t\n",
            "\t<!-- start /elements/panel-sponsored-links.ctp -->\n",
            "<section class=\"content-border\">\n",
            "\t<section class=\"content-wrapper content-margin-bottom\" id=\"sponsored-links-alt\">\n",
            "\t\t<div class=\"home-fancy-title feature-home \">\n",
            "\t\t\t<a class=\"hwz-fancy-title block-heading home-feature-head\">Sponsored Links</a>\n",
            "\t\t\t<span class=\"fancy-caret\"></span>\n",
            "\t\t</div>\n",
            "\n",
            "\t\t<div id=\"links\">\n",
            "\t\t\t<ul class=\"treading-list\">\n",
            "\t\t\t\t\t\t<li>\n",
            "\t\t\t\t\t<a class=\"sponsored-links-anchor\" href=\"https://pubads.g.doubleclick.net/gampad/clk?id=5808588474&amp;iu=/5908/project\" target=\"_blank\">Snag the new iPhone 13 with StarHub</a>\t\t\t\t\t<p class=\"treading-list-summary\">No upfront, no interest - check out StarHub’s new EasyGo option!</p>\n",
            "\t\t\t\t</li>\n",
            "\t\t\t\t\t</ul>\n",
            "\t\t</div>\n",
            "\t</section>\n",
            "\n",
            "\t<script>\n",
            "\t(function(){\n",
            "\t\tif (typeof(hwz_ga) == 'undefined') return;\n",
            "\t\tvar aLink = $$('a.sponsored-links-anchor');\n",
            "\t\tif (!aLink .length) return;\n",
            "\t\tfor(var i=0;i<aLink.length;i++) {\n",
            "\t\t\tvar sTitle = aLink[i].get('text').trim();\n",
            "\t\t\thwz_ga_lazy(aLink[i], 'STL', 'Impression', sTitle, { nonInteraction: true, position:(i+1) });\n",
            "\t\t\thwz_ga_click(aLink[i], 'STL', 'Click', sTitle, { position:(i+1) });\n",
            "\t\t}\n",
            "\t})();\n",
            "\t</script>\n",
            "\n",
            "<section>\n",
            "\t<!-- end /elements/panel-sponsored-links.ctp -->\n",
            "\t\t\t\t</section></section></div>\n",
            "\t\t\t</div>\n",
            "\t\t</div>\n",
            "\t</div>\n",
            "\t\n",
            "\t<footer class=\"footer\" id=\"hwz-footer\">\n",
            "\n",
            "\t\t<div class=\"footer-top-wrapper\">\n",
            "\t\t\t<div class=\"footer-top\">\n",
            "\n",
            "\t\t\t\t<ul class=\"nav-bottom-bar\" role=\"navigation\">\n",
            "\n",
            "\t\t\t\t\t<li class=\"nav-bottom-coupons-link\">\n",
            "\t\t\t\t\t\t<a href=\"https://coupons.hardwarezone.com.sg/\" target=\"_blank\" title=\"Download HWZ APP\">HWZ Coupons</a>\t\t\t\t\t</li>\n",
            "\n",
            "\t\t\t\t\t\n",
            "\t\t\t\t\t<li class=\"nav-top-social-icons bottom-bar-social\">\n",
            "\t\t\t\t\t\t<span>Connect with us</span>\n",
            "\t\t\t\t\t\t<ul>\n",
            "\t\t\t\t\t\t\t\t<li><a href=\"https://twitter.com/hardwarezone\" target=\"_blank\" title=\"Follow us on Twitter\"><i class=\"nav-top-sprite-social sprite-social-twitter\"></i></a></li>\n",
            "\t<li><a href=\"https://www.facebook.com/hardwarezone\" target=\"_blank\" title=\"Find us on Facebook\"><i class=\"nav-top-sprite-social sprite-social-facebook\"></i></a></li>\n",
            "\t<li><a href=\"https://www.youtube.com/user/hardwarezonecom\" target=\"_blank\" title=\"Watch us on YouTube\"><i class=\"nav-top-sprite-social sprite-social-youtube\"></i></a></li>\n",
            "\t<li><a href=\"/feeds\" target=\"_blank\" title=\"Subscribe to HWZ RSS Feeds\"><i class=\"nav-top-sprite-social sprite-social-rss\"></i></a></li>\n",
            "\t\t\t\t\t\t</ul>\n",
            "\t\t\t\t\t</li>\n",
            "\n",
            "\t\t\t\t\t\n",
            "\t\t\t\t</ul>\n",
            "\n",
            "\n",
            "\t\t\t</div>\n",
            "\t\t</div>\n",
            "\n",
            "\t\t<div class=\"footer-bottom\">\n",
            "\n",
            "\t\t\t<div class=\"col-wrapper footer-topic-section\">\n",
            "\n",
            "\t\t\t\t<div class=\"col-g footer-topics\">\n",
            "\n",
            "\t\t\t\t\t<p class=\"footer-topics-heading\">Trending Topics</p>\n",
            "\n",
            "\t\t\t\t\t<ul class=\"footer-topics-links\">\n",
            "\t\t\t\t\t\t\t\t\t\t\t\t\t<li><a href=\"/product-guide/217-mobile-phones/home\">Mobile Phones</a></li>\n",
            "\t\t\t\t\t\t\t\t\t\t\t\t\t<li><a href=\"/product-guide/204-av-peripherals-and-systems/home\">AV Peripherals and Systems</a></li>\n",
            "\t\t\t\t\t\t\t\t\t\t\t\t\t<li><a href=\"/product-guide/203-digital-cameras/home\">Digital Cameras</a></li>\n",
            "\t\t\t\t\t\t\t\t\t\t\t\t\t<li><a href=\"/product-guide/154-notebooks/home\">Notebooks</a></li>\n",
            "\t\t\t\t\t\t\t\t\t\t\t\t\t<li><a href=\"/product-guide/196-graphics-cards/home\">Graphic Cards</a></li>\n",
            "\t\t\t\t\t\t\t\t\t\t\t</ul>\n",
            "\n",
            "\t\t\t\t</div>\n",
            "\n",
            "\n",
            "\t\t\t\t<div class=\"col-g footer-topics\">\n",
            "\n",
            "\t\t\t\t\t<p class=\"footer-topics-heading\">Our Sections</p>\n",
            "\n",
            "\t\t\t\t\t<ul class=\"footer-topics-links float-left\">\n",
            "\t\t\t\t\t\t<li><a href=\"/tech-news/list\">News</a></li>\n",
            "\t\t\t\t\t\t<li><a href=\"/product-guide\">Product Guide</a></li>\n",
            "\t\t\t\t\t\t<li><a href=\"/hwz-tv\">HWZ TV</a></li>\n",
            "\t\t\t\t\t\t<!-- <li><a href=\"#nogo\">HWZ Presents</a></li> -->\n",
            "\t\t\t\t\t\t<li><a href=\"/features\">Articles</a></li>\n",
            "\t\t\t\t\t\t<li><a href=\"/sitemap\">Site Map</a></li>\n",
            "\t\t\t\t\t</ul>\n",
            "\n",
            "\t\t\t\t</div>\n",
            "\n",
            "\t\t\t\t<div class=\"col-g footer-topics\">\n",
            "\n",
            "\t\t\t\t\t<p class=\"footer-topics-heading\"> </p>\n",
            "\n",
            "\t\t\t\t\t<ul class=\"footer-topics-links float-left\">\n",
            "\t\t\t\t\t\t<li><a href=\"https://forums.hardwarezone.com.sg\">Forums</a></li>\n",
            "\t\t\t\t\t\t<li><a href=\"/promos\">Price Lists</a></li>\n",
            "\t\t\t\t\t\t\t\t\t\t\t\t\t<li><a href=\"https://forums.hardwarezone.com.sg/categories/marketplace.250/\" target=\"_blank\">Market Place</a></li>\n",
            "\t\t\t\t\t\t\t\t\t\t\t\t\t\t\t\t\t\t<li>\n",
            "\t\t\t\t\t\t\t<a href=\"https://www.hardwarezone.com.sg/tech-show-brochures/\">Tech Show Portal</a>\n",
            "\t\t\t\t\t\t</li>\n",
            "\t\t\t\t\t\t\t\t\t\t\t\t<li><a href=\"https://coupons.hardwarezone.com.sg/\" target=\"_blank\" title=\"HWZ Coupons\">HWZ Coupons</a></li>\n",
            "\t\t\t\t\t</ul>\n",
            "\n",
            "\t\t\t\t</div>\n",
            "\n",
            "\n",
            "\t\t\t\t<div class=\"col-g float-right\">\n",
            "\t\t\t\t\t<iframe class=\"nm-subscribe-frame\" scrolling=\"no\" src=\"/newsletters/subscribefooter\"></iframe>\n",
            "\t\t\t\t</div>\n",
            "\n",
            "\t\t\t</div>\n",
            "\n",
            "\n",
            "\t\t\t<div class=\"col-wrapper footer-awards\">\n",
            "\n",
            "\n",
            "\t\t\t\t<div class=\"col-g text-center award-wrapper\">\n",
            "\t\t\t\t\t<p class=\"footer-topics-heading text-awards\">AWARDS &amp; ACCOLADES</p>\n",
            "\t\t\t\t\t<p class=\"awards-sub-text\">We thank all our supporters who have helped us garner these prestigious media awards in the industry!</p>\n",
            "\t\t\t\t</div>\n",
            "\n",
            "\t\t\t\t<div class=\"col-g float-right\">\n",
            "\n",
            "\t\t\t\t\t<div style=\"display:inline-block;width:100px;height:72px;position:relative;vertical-align:bottom;font-size:7px;color:#fff;\"><img alt=\"Marketing Media of The Year 2019\" class=\"award-logo\" src=\"/img/logos-legacy/awarded/moty-2019-1.png\" style=\"height:90px;margin:0;position:absolute;left:0;top:-34px;\"/><div style=\"position:absolute;bottom:-6px;left:4px\">Website/App of the Year for Consumer Tech Enthusiasts</div></div><div style=\"display:inline-block; width: 168px;font-size: 7px;text-align: center; color:#fff;position:relative;vertical-align:top;\"><img alt=\"Loyalty amp; Engagement Awards 2018 - Bronze Winner\" class=\"award-logo\" src=\"/img/logos-legacy/awarded/lea-2018-bronze.jpg\" style=\"height:52px;margin-bottom:0px;\"/><div style=\"position:absolute;\">Best Engagement Strategy by a Media Owner: Loyalty &amp; Engagement Awards 2018</div></div><div style=\"display:inline-block; width: 147px;font-size: 8px;text-align: center; color:#fff;\"><img alt=\"MPAS Magazine Awards 2017 - Consumer Review Media of the Year\" class=\"award-logo\" src=\"/img/logos-legacy/awarded/mpas-2017-awards.png\" style=\"height:52px;margin-bottom:0px;\"/><div style=\"\">Consumer Review Media of the Year</div></div><div style=\"display:inline-block; width: 134px;font-size: 8px;text-align: center; color:#fff;\"><img alt=\"MPAS Magazine Awards 2015 - Photography of the Year (Online)\" class=\"award-logo\" src=\"/img/logos-legacy/awarded/mpas-2015-awards.png\" style=\"height:52px;margin-bottom:0px;\"/><div style=\"\">Photography of the Year (Online)</div></div><img alt=\"Digital Media of the Year - Top Tech Category 2015 by Marketing Magazine\" class=\"award-logo\" src=\"/img/logos-legacy/awarded/digital-media-2015.png\" style=\"margin:0;\"/>\t\t\t\t</div>\n",
            "\n",
            "\t\t\t</div>\n",
            "\n",
            "\t\t\t<div class=\"col-wrapper copy-right\">\n",
            "\n",
            "\t\t\t\t<div>\n",
            "\n",
            "\t\t\t\t\t<a class=\"copy-right-link footer-copy-text\" href=\"https://advertising.hardwarezone.com/\" target=\"_blank\">Advertise on HWZ</a>\n",
            "\t\t\t\t\t<a class=\"copy-right-link footer-copy-text\" href=\"/feedback\" target=\"_blank\">Contact Us &amp; Feedback</a>\t\t\t\t\t\t\t\t\t\t<a class=\"copy-right-link footer-copy-text\" href=\"https://corporate.sph.com.sg/legal/website_tnc.html\" onclick=\"window.open(this.href, 'member_conditions', 'width=900,height=500,left=50,top=50,menubar=no,toolbar=no,scrollbars=yes');return false;\">Terms of Service</a>\n",
            "\t\t\t\t\t<a class=\"copy-right-link footer-copy-text\" href=\"https://corporate.sph.com.sg/legal/sph_privacy.html\" onclick=\"window.open(this.href, 'member_conditions', 'width=900,height=500,left=50,top=50,menubar=no,toolbar=no,scrollbars=yes');return false;\">Privacy Policy</a>\n",
            "\t\t\t\t\t<a class=\"copy-right-link footer-copy-text\" href=\"https://corporate.sph.com.sg/legal/pdpa.html\" onclick=\"window.open(this.href, 'member_conditions', 'width=900,height=500,left=50,top=50,menubar=no,toolbar=no,scrollbars=yes');return false;\">PDPA</a>\n",
            "\t\t\t\t\t<a class=\"copy-right-link footer-copy-text\" href=\"https://corporate.sph.com.sg/legal/member_conditions.html\" onclick=\"window.open(this.href, 'member_conditions', 'width=900,height=500,left=50,top=50,menubar=no,toolbar=no,scrollbars=yes');return false;\">Member Terms &amp; Conditions</a>\n",
            "\n",
            "\t\t\t\t</div>\n",
            "\n",
            "\n",
            "\n",
            "\t\t\t\t<div class=\"footer-copy-text\">\n",
            "\t\t\t\t\tCopyright © 2021 SPH Media Limited. Co. Regn. No. 202120748H. All rights reserved.\t\t\t\t</div>\n",
            "\n",
            "\t\t\t</div>\n",
            "\n",
            "\t\t</div>\n",
            "\t</footer>\n",
            "\n",
            "\t\t<script src=\"/ads/ad_site_notice.js?0805\" type=\"text/javascript\"></script><!-- HWZ-Ad-footer --> \n",
            "<!-- Begin comScore Tag -->\n",
            "<script type=\"text/javascript\">\n",
            "//<![CDATA[\n",
            "var _comscore = _comscore || [];\n",
            "_comscore.push({ c1: \"2\", c2: \"6288331\" });\n",
            "(function() {\n",
            "var s = document.createElement(\"script\"), el = document.getElementsByTagName(\"script\")[0]; s.async = true;\n",
            "s.src = (document.location.protocol == \"https:\" ? \"https://sb\" : \"http://b\") + \".scorecardresearch.com/beacon.js\";\n",
            "el.parentNode.insertBefore(s, el);\n",
            "})();\n",
            "//]]>\n",
            "</script>\n",
            "<noscript>\n",
            "<img alt=\"\" src=\"https://sb.scorecardresearch.com/p?c1=2&amp;c2=6288331&amp;cv=2.0&amp;cj=1\"/>\n",
            "</noscript>\n",
            "<!-- End comScore Tag --><!-- <div id=\"div-gpt-ad-catfish\" class=\"gpt-ad gpt-ad-catfish\"></div> <div id=\"div-gpt-ad-prestitial\" class=\"gpt-ad gpt-ad-prestitial\"></div> <div id=\"div-gpt-ad-midarticlespecial\" class=\"gpt-ad gpt-ad-midarticlespecial\"></div> --><!-- /HWZ-Ad-footer --> \n",
            "\n",
            "<!--  Quantcast Tag -->\n",
            "<script type=\"text/javascript\">\n",
            "//var ezt = ezt ||[];\n",
            "var qcdata = qcdata || {};\n",
            "(function(){\n",
            "\tvar elem = document.createElement('script');\n",
            "\telem.src = (document.location.protocol == \"https:\" ? \"https://secure\" : \"http://pixel\") + \".quantserve.com/aquant.js?a=p-bqHs8BXTLMg88\";\n",
            "\telem.async = true;\n",
            "\telem.type = \"text/javascript\";\n",
            "\tvar scpt = document.getElementsByTagName('script')[0];\n",
            "\tscpt.parentNode.insertBefore(elem,scpt);\n",
            "}());\n",
            "//ezt.push({qacct: 'p-bqHs8BXTLMg88', uid: '02c8662b3c7b5a1218d176deeaf85afa'});\n",
            "qcdata = {qacct: 'p-bqHs8BXTLMg88', uid: '02c8662b3c7b5a1218d176deeaf85afa'};\n",
            "</script>\n",
            "<noscript><img alt=\"Quantcast\" border=\"0\" height=\"1\" src=\"//pixel.quantserve.com/pixel/p-bqHs8BXTLMg88.gif\" style=\"display: none;\" width=\"1\"/></noscript>\n",
            "<!-- End Quantcast Tag -->\n",
            "\n",
            "\n",
            "\t<script type=\"text/javascript\">\n",
            "\t(function(){\n",
            "\t\tif (typeof(hwz_ga) == 'undefined') return;\n",
            "\t\tvar o = document.id('article-highlights');\n",
            "\t\tif (!o) return;\n",
            "\t\tvar sContext = \"news\";\n",
            "\t\tvar aContext = ['home', 'products', 'videos', 'articles', 'news', 'techshow'];\n",
            "\t\tvar aSection = ['Home', 'Product Guide', 'Videos', 'Articles', 'News', 'Techshow'];\n",
            "\t\tvar nContext = aContext.indexOf(sContext);\n",
            "\t\tvar sSection = (nContext < 0 ? '' : aSection[nContext]);\n",
            "\t\tvar a = o.getElements('.highlights-hwzpresents');\n",
            "\t\tfor (var i=0; i<a.length; i++) {\n",
            "\t\t\tvar nPos = ~~(i || 0) + 1\n",
            "\t\t\tvar sTitle = $(a[i]).getElement('.article-title').get('text').trim();\n",
            "\t\t\tvar oLabel = {'SectionName':sSection, 'SectionTitle':'Native Inline', 'ArticleName':sTitle, 'Position':nPos};\n",
            "\t\t\t$(a[i]).set('data-label', JSON.stringify(oLabel));\n",
            "\t\t\thwz_ga_lazy(a[i], 'Content-Engagement', 'Impression', JSON.stringify(oLabel), {'data':{'ux_element_name':'Native Inline','ux_element_type':'Native Inline'}});\n",
            "\t\t\t$(a[i]).getElements('a').each(function(oLink,j){\n",
            "\t\t\t\tif (!!oLink.getParent('.cat-info')) return;\n",
            "\t\t\t\toLink.addEvent('click', function(e){\n",
            "\t\t\t\t\tvar oParent = this.getParent('.highlights-hwzpresents');\n",
            "\t\t\t\t\tif (!oParent || !oParent.get('data-label')) return;\n",
            "\t\t\t\t\thwz_ga('send', 'event', 'Content-Engagement', 'Click', oParent.get('data-label') + '', {'data':{'ux_element_name':'Native Inline','ux_element_type':'Native Inline'}});\n",
            "\t\t\t\t});\n",
            "\t\t\t});\n",
            "\t\t}\n",
            "\t})();\n",
            "\t</script>\n",
            "\n",
            "\t\n",
            "\n",
            "</body></html>\n"
          ]
        }
      ]
    },
    {
      "cell_type": "code",
      "metadata": {
        "colab": {
          "base_uri": "https://localhost:8080/"
        },
        "id": "PwD9aojTXm97",
        "outputId": "234a2b48-22eb-4313-e8ed-0589788c3e85"
      },
      "source": [
        "#script.decompose testing\n",
        "for script in soup([\"script\", \"style\"]):\n",
        "    script.decompose()\n",
        "print(' '.join(soup.stripped_strings))"
      ],
      "execution_count": null,
      "outputs": [
        {
          "output_type": "stream",
          "name": "stdout",
          "text": [
            "Apple’s third-generation AirPods features spatial audio, longer battery life, and reimagined design (Updated) - HardwareZone.com.sg Follow Us HWZ Coupons Lazada Shopee GrabFood Foodpanda Tech Shows Market Place Price Lists Forums News Reviews Videos Topics Smartphones & Tablets Networking & Telco Networking Telco Notebooks Headphones Wearables Photography Apps & Software Internet, Cloud, eCommerce Computing Desktop Systems Notebooks Input Devices Monitors Printers Storage PC Components Casings Coolers CPU Graphics Cards Memory Motherboard Power Supply Units Audio & Visual AV Systems Headphones Media Streamers and Hubs Projectors Speakers Televisions Gaming & Entertainment Culture Games & Gear Esports Toys & Collectibles Movies & Shows Smart Living & Lifestyle Smart Living Automotive Tech Science & Tech Travel & Aviation Deals Gaming Lifestyle Biz & SME Tech All Content All Content By Tag SEARCH LOGIN × Topics Smartphones & Tablets Networking & Telco Networking Telco Notebooks Headphones Wearables Photography Apps & Software Internet, Cloud, eCommerce Computing Desktop Systems Notebooks Input Devices Monitors Printers Storage PC Components Casings Coolers CPU Graphics Cards Memory Motherboard Power Supply Units Audio & Visual AV Systems Headphones Media Streamers and Hubs Projectors Speakers Televisions Gaming & Entertainment Culture Games & Gear Esports Toys & Collectibles Movies & Shows Smart Living & Lifestyle Smart Living Automotive Tech Science & Tech Travel & Aviation Videos Reviews & Articles Reviews Shootouts Tech Guides Feature Articles Event Coverage Gallery Deals Blogs Shopping Price List Downloads Deals HWZ Coupons Forums Special Events Infotech Clinic Digital Entertainment Lifestyle Hub Special Interest Groups Marketplace Lifestyle Academic Concerns Feedback Channels Others Lifestyle Marketplace The authoritative voice on technology trends, gadget shootouts, and geeky life hacks you never knew you could live without. SEARCH LOGIN Forums Price Lists Tech Shows HWZ Coupons Follow Us News Topics Smartphones & Tablets Networking & Telco Networking Telco Notebooks Headphones Wearables Photography Apps & Software Internet, Cloud, eCommerce Computing Desktop Systems Notebooks Input Devices Monitors Printers Storage PC Components Casings Coolers CPU Graphics Cards Memory Motherboard Power Supply Units Audio & Visual AV Systems Headphones Media Streamers and Hubs Projectors Speakers Televisions Gaming & Entertainment Culture Games & Gear Esports Toys & Collectibles Movies & Shows Smart Living & Lifestyle Smart Living Automotive Tech Science & Tech Travel & Aviation Videos Reviews & Articles Reviews Shootouts Tech Guides Feature Articles Event Coverage Gallery Deals Blogs Lifestyle Deals Gaming Biz & SME Tech Marketplace All Content All Content By Tag Trending Apple announces new 14 and 16-inch MacBook Pro, powered by new M1 Pro and M1 Max chips (Updated) Apple’s third-generation AirPods features spatial audio, longer battery life, and reimagined design (Updated) Tecware B68 65% Bluetooth Mechanical Keyboard review: Wireless on a budget News News Categories AV Systems Bluetooth Headsets Casings Coolers CPU Digital Payments External Storage Games & Gear Graphics Cards Hard Disk Drives Headphones Inkjet Printers Laser Printers Media Streamers and Hubs Memory Mobile Phones Motherboard NAS Networking Optical Drives Portable Media Players Power Supply Units Projectors Smartphones & Tablets Solid State Drives Speakers Tablets Telco Televisions Desktop Systems Esports Networking & Telco Notebooks Toys & Collectibles Wearables Input Devices Monitors Movies & Shows Photography Printers Storage Apps & Software Internet, Cloud, eCommerce Computing PC Components Audio & Visual Gaming & Entertainment Culture Blu-ray Players Smart Living Smart Living & Lifestyle Automotive Tech Science & Tech Travel & Aviation Biz & SME Tech Others Apple’s third-generation AirPods features spatial audio, longer battery life, and reimagined design (Updated) By Liu Hongzuo - on 23 Oct 2021, 11:08am < Prev Page 1 of 1 - Apple’s third-generation AirPods features spatial audio, longer battery life, and reimagined design (Updated) Page 1 of 1 - Apple’s third-generation AirPods features spatial audio, longer battery life, and reimagined design (Updated) Page 1 of 1 Page 1 of 1 - Apple’s third-generation AirPods features spatial audio, longer battery life, and reimagined design (Updated) Next > Apple’s third-generation AirPods features spatial audio, longer battery life, and reimagined design (Updated) Note: This article was first published on 19 October 2021 and was updated on 20 October 2021 with local availability information. At the 18 October 2021 Apple Event keynote earlier today, the tech firm announced its third-generation Apple AirPods (colloquially AirPods 3) true wireless earbuds. In a nutshell, the new buds tap on many of Apple’s audio advances, offering features like Spatial Audio, while also improving its overall robustness with longer battery life and an improved design. The third-generation AirPods comes with new contours for better fit and better funnelling of audio directly into your ears. The stem is now shorter than its predecessor, and both the earbuds and its charging case now pack IPX4-certified resistance against water droplets and perspiration. The custom driver in each earbud comes with a high dynamic range amplifier, covering the entire audible frequency range (from bass to high treble notes). AirPods also come with an acoustic wind filter mesh on their microphones. According to Apple, the buds now use AAC-ELD , a speech codec offering “full HD voice quality” for voice calls. Another new feature in these AirPods is Adaptive EQ . The AirPods now tune sound in real-time by basing it on the user’s ear fit. An inward-facing microphone monitors for sounds, while Adaptive EQ uses computational audio to tune and compensate based on the user’s hearing preferences and limitations. Spatial audio - Apple’s much-vaunted surround sound technology - creates a 3D, theatre-like audio experience. It also works with tracks and shows with Dolby Atmos metadata to maximise its Spatial Audio capabilities. Returning features include its one-touch setup (where your devices automatically detect a new pair of AirPods), and auto-pausing of playback when AirPods are removed. While it doesn’t feature active noise-cancellation (that would be for its Pro lineup), Apple said that the third-gen AirPods have beamforming microphones to block out ambient noises and help focus on user voice. Expectedly, AirPods also work with Apple’s voice assistant, Siri . Finally, Apple extended the AirPods battery life with up to six hours of listening time and four hours of talk time, longer than 2019’s AirPods . The new buds also can use Magsafe wireless charging . If you are on iOS 15 and iPadOS 15 , Spatial audio works with Group FaceTime calls . It makes other callers sound like they are coming from the direction based on the caller's position on your screen (only on iPhone and iPads with A12 Bionic chipset or later). AirPods are also a part of the Find My network , in case you misplace it. The third-generation AirPods officially retail at S$269 , and are available for pre-order \"soon \" to order now  at Apple’s online store . They will be available in stores on 26 October . < Prev Page 1 of 1 - Apple’s third-generation AirPods features spatial audio, longer battery life, and reimagined design (Updated) Page 1 of 1 - Apple’s third-generation AirPods features spatial audio, longer battery life, and reimagined design (Updated) Page 1 of 1 Page 1 of 1 - Apple’s third-generation AirPods features spatial audio, longer battery life, and reimagined design (Updated) Next > Join HWZ's Telegram channel here and catch all the latest tech news! Tags: apple magsafe dolby atmos airpods true wireless earphones true wireless earbuds spatial audio airpods 3 tws airpods 2021 third-generation airpods apple unleashed 2021 Our articles may contain affiliate links. If you buy through these links, we may earn a small commission. Previous Story Apple announces new 14 and 16-inch MacBook Pro, powered by new M1 Pro and M1 Max chips (Updated) Next Story Apple TV+ has renewed Mythic Quest for Seasons 3 and 4 Suggested Reads » More True wireless earbuds at S$49: Xiaomi launches Redmi Buds 3 in SG 21 Oct 2021  /  By Liu Hongzuo Apple also quietly launched a MagSafe charging case for its AirPods Pro 19 Oct 2021  /  By Aaron Yip Sony promises immersive audio with its new SRS-NS7 wireless neckband speaker (Updated) 19 Oct 2021  /  By Glenn Chua Apple adds some spice to the HomePod Mini by adding a splash of colour 19 Oct 2021  /  By Ken Wong Apple launches AirPods Pro service program for sound issues (Updated) 14 Oct 2021  /  By Cookie Monster From Game Axis » More Razer launches new lineup Kraken V3 headsets, some with HyperSense haptics The Razer Zephyr Wearable Air Purifier and mask is finally here Razer enters the PC component space with a new case fan, AIO cooler and PSU Sponsored Links Snag the new iPhone 13 with StarHub No upfront, no interest - check out StarHub’s new EasyGo option! HWZ Coupons Connect with us Trending Topics Mobile Phones AV Peripherals and Systems Digital Cameras Notebooks Graphic Cards Our Sections News Product Guide HWZ TV Articles Site Map Forums Price Lists Market Place Tech Show Portal HWZ Coupons AWARDS & ACCOLADES We thank all our supporters who have helped us garner these prestigious media awards in the industry! Website/App of the Year for Consumer Tech Enthusiasts Best Engagement Strategy by a Media Owner: Loyalty & Engagement Awards 2018 Consumer Review Media of the Year Photography of the Year (Online) Advertise on HWZ Contact Us & Feedback Terms of Service Privacy Policy PDPA Member Terms & Conditions Copyright © 2021 SPH Media Limited. Co. Regn. No. 202120748H. All rights reserved.\n"
          ]
        }
      ]
    },
    {
      "cell_type": "code",
      "metadata": {
        "colab": {
          "base_uri": "https://localhost:8080/"
        },
        "id": "PRFfB-YjXm97",
        "outputId": "61bfd8f0-6ac3-4f70-a898-1c082e6ebad3"
      },
      "source": [
        "article = soup.find_all(\"p\")\n",
        "for div in article:\n",
        "  print(div)"
      ],
      "execution_count": null,
      "outputs": [
        {
          "output_type": "stream",
          "name": "stdout",
          "text": [
            "<p><em><strong>Note: </strong>This article was first published on 19 October 2021 and was updated on 20 October 2021 with local availability information.</em></p>\n",
            "<p class=\"rtecenter\"><img alt=\"Apple's third-generation AirPods.\" src=\"https://assets.hardwarezone.com/img/2021/10/apple-event-11.jpg\" style=\"height:414px; width:650px\" title=\"Apple's third-generation AirPods.\"/></p>\n",
            "<p>At the 18 October 2021 Apple Event keynote earlier today, the tech firm announced its<strong> third-generation Apple AirPods</strong> (colloquially AirPods 3) true wireless earbuds. </p>\n",
            "<p>In a nutshell, the new buds tap on many of Apple’s audio advances, offering features like Spatial Audio, while also improving its overall robustness with longer battery life and an improved design. </p>\n",
            "<p>The third-generation AirPods comes with new contours for better fit and better funnelling of audio directly into your ears. The <strong>stem is now shorter</strong> than its predecessor, and both the earbuds and its charging case now pack IPX4-certified resistance against water droplets and perspiration.</p>\n",
            "<p class=\"rtecenter\"><img alt=\"\" src=\"https://assets.hardwarezone.com/img/2021/10/apple-event-12.jpg\" style=\"height:414px; width:650px\"/></p>\n",
            "<p>The custom driver in each earbud comes with a high dynamic range amplifier, covering the entire audible frequency range (from bass to high treble notes). AirPods also come with an acoustic wind filter mesh on their microphones. According to Apple, the buds now use <strong>AAC-ELD</strong>, a speech codec offering “full HD voice quality” for voice calls.</p>\n",
            "<p class=\"rtecenter\"><img alt=\"\" src=\"https://assets.hardwarezone.com/img/2021/10/apple-event-13.jpg\" style=\"height:414px; width:650px\"/></p>\n",
            "<p>Another new feature in these AirPods is <strong>Adaptive EQ</strong>. The AirPods now tune sound in real-time by basing it on the user’s ear fit. An inward-facing microphone monitors for sounds, while Adaptive EQ uses computational audio to tune and compensate based on the user’s hearing preferences and limitations. </p>\n",
            "<p><strong>Spatial audio</strong> - Apple’s much-vaunted surround sound technology - creates a 3D, theatre-like audio experience. It also <a href=\"https://www.hardwarezone.com.sg/tech-news-apple-music-spatial-audio-dolby-atmos-will-also-work-non-apple-headphones\">works with tracks and shows with Dolby Atmos metadata</a> to maximise its Spatial Audio capabilities.</p>\n",
            "<p>Returning features include its<strong> one-touch setup</strong> (where your devices automatically detect a new pair of AirPods), and auto-pausing of playback when AirPods are removed. While it doesn’t feature active noise-cancellation (that would be for its Pro lineup), Apple said that the third-gen AirPods have beamforming microphones to block out ambient noises and help focus on user voice. Expectedly, AirPods also work with Apple’s voice assistant, <strong>Siri</strong>.</p>\n",
            "<p class=\"rtecenter\"><img alt=\"\" src=\"https://assets.hardwarezone.com/img/2021/10/apple-event-15.jpg\" style=\"height:414px; width:650px\"/></p>\n",
            "<p>Finally, Apple <strong>extended the AirPods battery life </strong>with up to six hours of listening time and four hours of talk time, longer than <a href=\"https://www.hardwarezone.com.sg/tech-news-apple-unveils-new-airpods-featuring-new-h1-chip-and-optional-wireless-charging-case\">2019’s AirPods</a>. The new buds also can use <strong>Magsafe wireless charging</strong>. </p>\n",
            "<p>If you are on <a href=\"https://www.hardwarezone.com.sg/tech-news-apple-ios-15-ipados-15-20-september-availability\">iOS 15 and iPadOS 15</a>, <strong>Spatial audio works with Group FaceTime calls</strong>. It makes other callers sound like they are coming from the direction based on the caller's position on your screen (only on iPhone and iPads with A12 Bionic chipset or later). <strong>AirPods are also a part of the Find My network</strong>, in case you misplace it.</p>\n",
            "<p class=\"rtecenter\"><img alt=\"Prices seen here are in USD, as taken from Apple Event.\" src=\"https://assets.hardwarezone.com/img/2021/10/apple-event-16.jpg\" style=\"height:414px; width:650px\" title=\"Prices seen here are in USD, as taken from Apple Event.\"/></p>\n",
            "<p>The third-generation AirPods officially retail at <strong>S$269</strong>, and are <a href=\"https://www.apple.com/sg/shop/product/MME73ZA/A\">available <s>for pre-order \"soon</s>\" to order now  at Apple’s online store</a>. They will be available in stores on <strong>26 October</strong>.</p>\n",
            "<p class=\"treading-list-summary\">No upfront, no interest - check out StarHub’s new EasyGo option!</p>\n",
            "<p class=\"footer-topics-heading\">Trending Topics</p>\n",
            "<p class=\"footer-topics-heading\">Our Sections</p>\n",
            "<p class=\"footer-topics-heading\"> </p>\n",
            "<p class=\"footer-topics-heading text-awards\">AWARDS &amp; ACCOLADES</p>\n",
            "<p class=\"awards-sub-text\">We thank all our supporters who have helped us garner these prestigious media awards in the industry!</p>\n"
          ]
        }
      ]
    },
    {
      "cell_type": "code",
      "metadata": {
        "id": "J2kGIxzXXm97"
      },
      "source": [
        "# identified invalid tags and replace tags with their content in each item of soup\n",
        "\n",
        "invalid_tags = ['img','a','strong','em','s']\n",
        "for tag in invalid_tags: \n",
        "  for match in soup.findAll(tag):\n",
        "    match.replaceWithChildren()\n",
        "        "
      ],
      "execution_count": null,
      "outputs": []
    },
    {
      "cell_type": "code",
      "metadata": {
        "id": "nuu5ai82Xm97"
      },
      "source": [
        "# extract all text with the para tag from the soup\n",
        "\n",
        "article = soup.find_all(\"p\")#, class_=\"page_title\")\n",
        "main_content_hwz2 = []\n",
        "for tag in article:\n",
        "  for p_child in tag.children:\n",
        "    main_content_hwz2.append(p_child)"
      ],
      "execution_count": null,
      "outputs": []
    },
    {
      "cell_type": "code",
      "metadata": {
        "colab": {
          "base_uri": "https://localhost:8080/"
        },
        "id": "8Cy2c3rOYGut",
        "outputId": "d817f6ab-28a6-4bae-f3c9-68a0c89f54eb"
      },
      "source": [
        "print(main_content_hwz2)"
      ],
      "execution_count": null,
      "outputs": [
        {
          "output_type": "stream",
          "name": "stdout",
          "text": [
            "['Note: ', 'This article was first published on 19 October 2021 and was updated on 20 October 2021 with local availability information.', 'At the 18 October 2021 Apple Event keynote earlier today, the tech firm announced its', ' third-generation Apple AirPods', '\\xa0(colloquially AirPods 3) true wireless earbuds.\\xa0', 'In a nutshell, the new buds tap on many of Apple’s audio advances, offering features like Spatial Audio, while also improving its overall robustness with longer battery life and an improved design.\\xa0', 'The third-generation AirPods comes with new contours for better fit and better funnelling of audio directly into your ears. The ', 'stem is now shorter', ' than its predecessor, and both the earbuds and its charging case now pack IPX4-certified resistance against water droplets and perspiration.', 'The custom driver in each earbud comes with a high dynamic range amplifier, covering the entire audible frequency range (from bass to high treble notes). AirPods also come with an acoustic wind filter mesh on their microphones. According to Apple, the buds now use ', 'AAC-ELD', ', a speech codec offering “full HD voice quality” for voice calls.', 'Another new feature in these AirPods is ', 'Adaptive EQ', '. The AirPods now tune sound in real-time by basing it on the user’s ear fit. An inward-facing microphone monitors for sounds, while Adaptive EQ uses computational audio to tune and compensate based on the user’s hearing preferences and limitations.\\xa0', 'Spatial audio', ' - Apple’s much-vaunted surround sound technology - creates a 3D, theatre-like audio experience. It also ', 'works with tracks and shows with Dolby Atmos metadata', ' to maximise its Spatial Audio capabilities.', 'Returning features include its', ' one-touch setup', ' (where your devices automatically detect a new pair of AirPods), and auto-pausing of playback when AirPods are removed. While it doesn’t feature active noise-cancellation (that would be for its Pro lineup), Apple said that the third-gen AirPods have beamforming microphones to block out ambient noises and help focus on user voice. Expectedly, AirPods also work with Apple’s voice assistant, ', 'Siri', '.', 'Finally, Apple ', 'extended the AirPods battery life ', 'with up to six hours of listening time and four hours of talk time, longer than ', '2019’s AirPods', '. The new buds also can use ', 'Magsafe wireless charging', '.\\xa0', 'If you are on ', 'iOS 15 and iPadOS 15', ', ', 'Spatial audio works with Group FaceTime calls', \". It makes other callers sound like they are coming from the direction based on the caller's position on your screen (only on iPhone and iPads with A12 Bionic chipset or later). \", 'AirPods are also a part of the Find My network', ', in case you misplace it.', 'The third-generation AirPods officially retail at ', 'S$269', ', and are ', 'available ', 'for pre-order \"soon', '\" to order now\\xa0 at Apple’s online store', '. They will be available in stores on ', '26 October', '.', 'No upfront, no interest - check out StarHub’s new EasyGo option!', 'Trending Topics', 'Our Sections', '\\xa0', 'AWARDS & ACCOLADES', 'We thank all our supporters who have helped us garner these prestigious media awards in the industry!']\n"
          ]
        }
      ]
    },
    {
      "cell_type": "code",
      "metadata": {
        "colab": {
          "base_uri": "https://localhost:8080/"
        },
        "id": "716IptW-Xm97",
        "outputId": "38f27b70-390d-4452-cfba-8ac8ed32b1b8"
      },
      "source": [
        "main_content_hwz2 = ' '.join(main_content_hwz2)\n",
        "print(main_content_hwz2)"
      ],
      "execution_count": null,
      "outputs": [
        {
          "output_type": "stream",
          "name": "stdout",
          "text": [
            "Note:  This article was first published on 19 October 2021 and was updated on 20 October 2021 with local availability information. At the 18 October 2021 Apple Event keynote earlier today, the tech firm announced its  third-generation Apple AirPods  (colloquially AirPods 3) true wireless earbuds.  In a nutshell, the new buds tap on many of Apple’s audio advances, offering features like Spatial Audio, while also improving its overall robustness with longer battery life and an improved design.  The third-generation AirPods comes with new contours for better fit and better funnelling of audio directly into your ears. The  stem is now shorter  than its predecessor, and both the earbuds and its charging case now pack IPX4-certified resistance against water droplets and perspiration. The custom driver in each earbud comes with a high dynamic range amplifier, covering the entire audible frequency range (from bass to high treble notes). AirPods also come with an acoustic wind filter mesh on their microphones. According to Apple, the buds now use  AAC-ELD , a speech codec offering “full HD voice quality” for voice calls. Another new feature in these AirPods is  Adaptive EQ . The AirPods now tune sound in real-time by basing it on the user’s ear fit. An inward-facing microphone monitors for sounds, while Adaptive EQ uses computational audio to tune and compensate based on the user’s hearing preferences and limitations.  Spatial audio  - Apple’s much-vaunted surround sound technology - creates a 3D, theatre-like audio experience. It also  works with tracks and shows with Dolby Atmos metadata  to maximise its Spatial Audio capabilities. Returning features include its  one-touch setup  (where your devices automatically detect a new pair of AirPods), and auto-pausing of playback when AirPods are removed. While it doesn’t feature active noise-cancellation (that would be for its Pro lineup), Apple said that the third-gen AirPods have beamforming microphones to block out ambient noises and help focus on user voice. Expectedly, AirPods also work with Apple’s voice assistant,  Siri . Finally, Apple  extended the AirPods battery life  with up to six hours of listening time and four hours of talk time, longer than  2019’s AirPods . The new buds also can use  Magsafe wireless charging .  If you are on  iOS 15 and iPadOS 15 ,  Spatial audio works with Group FaceTime calls . It makes other callers sound like they are coming from the direction based on the caller's position on your screen (only on iPhone and iPads with A12 Bionic chipset or later).  AirPods are also a part of the Find My network , in case you misplace it. The third-generation AirPods officially retail at  S$269 , and are  available  for pre-order \"soon \" to order now  at Apple’s online store . They will be available in stores on  26 October . No upfront, no interest - check out StarHub’s new EasyGo option! Trending Topics Our Sections   AWARDS & ACCOLADES We thank all our supporters who have helped us garner these prestigious media awards in the industry!\n"
          ]
        }
      ]
    },
    {
      "cell_type": "code",
      "metadata": {
        "colab": {
          "base_uri": "https://localhost:8080/"
        },
        "id": "PK8BIiKdYhJr",
        "outputId": "56d76055-d312-4050-beb5-65c43411b5f9"
      },
      "source": [
        "# Number of sentences in article\n",
        "print('No. of sentences in this article: ',article_sentlength(main_content_hwz2))\n",
        "# Number of words in article\n",
        "print('No. of words in this article: ',article_wordlength(main_content_hwz2))"
      ],
      "execution_count": null,
      "outputs": [
        {
          "output_type": "stream",
          "name": "stdout",
          "text": [
            "No. of sentences in this article:  25\n",
            "No. of words in this article:  564\n"
          ]
        }
      ]
    },
    {
      "cell_type": "code",
      "metadata": {
        "colab": {
          "base_uri": "https://localhost:8080/"
        },
        "id": "v5B3sUMbYhJr",
        "outputId": "713b86ce-b6f8-4de1-f3ca-d66fef3689ec"
      },
      "source": [
        "print('Average number of words in a sentence: ',avg_wordcount(main_content_hwz2))"
      ],
      "execution_count": null,
      "outputs": [
        {
          "output_type": "stream",
          "name": "stdout",
          "text": [
            "Average number of words in a sentence:  22.56\n"
          ]
        }
      ]
    },
    {
      "cell_type": "code",
      "metadata": {
        "colab": {
          "base_uri": "https://localhost:8080/"
        },
        "id": "aKb1cha8YhJr",
        "outputId": "d2077fe4-b7df-47b7-d922-789ac09f7f5b"
      },
      "source": [
        "print('Average word length in each sentence: ')\n",
        "avg_sent_word(main_content_hwz2)"
      ],
      "execution_count": null,
      "outputs": [
        {
          "output_type": "stream",
          "name": "stdout",
          "text": [
            "Average word length in each sentence: \n",
            "Sentence  1 :  5.190476190476191\n",
            "Sentence  2 :  5.875\n",
            "Sentence  3 :  5.1875\n",
            "Sentence  4 :  5.526315789473684\n",
            "Sentence  5 :  5.6\n",
            "Sentence  6 :  5.16\n",
            "Sentence  7 :  5.166666666666667\n",
            "Sentence  8 :  4.6\n",
            "Sentence  9 :  4.4\n",
            "Sentence  10 :  4.066666666666666\n",
            "Sentence  11 :  6.166666666666667\n",
            "Sentence  12 :  6.333333333333333\n",
            "Sentence  13 :  5.235294117647059\n",
            "Sentence  14 :  5.958333333333333\n",
            "Sentence  15 :  5.424242424242424\n",
            "Sentence  16 :  5.7\n",
            "Sentence  17 :  4.615384615384615\n",
            "Sentence  18 :  4.4\n",
            "Sentence  19 :  3.7222222222222223\n",
            "Sentence  20 :  4.67741935483871\n",
            "Sentence  21 :  3.625\n",
            "Sentence  22 :  4.956521739130435\n",
            "Sentence  23 :  3.9\n",
            "Sentence  24 :  4.909090909090909\n",
            "Sentence  25 :  5.25\n"
          ]
        }
      ]
    },
    {
      "cell_type": "code",
      "metadata": {
        "colab": {
          "base_uri": "https://localhost:8080/"
        },
        "id": "kOvcsVmb2BMH",
        "outputId": "485218b5-5273-4e0e-cc96-151810fb34f8"
      },
      "source": [
        "total_stop = 0\n",
        "print('No. of stopwords in each sentence: ')\n",
        "total_ct = calc_stopwords(main_content_hwz2,total_stop)\n",
        "print('Total no of stopwords: ',total_ct)"
      ],
      "execution_count": null,
      "outputs": [
        {
          "output_type": "stream",
          "name": "stdout",
          "text": [
            "No. of stopwords in each sentence: \n",
            "Sentence  1 , No. of stopwords:  6\n",
            "['was', 'on', 'and', 'was', 'on', 'with']\n",
            "Sentence  2 , No. of stopwords:  3\n",
            "['the', 'the', 'its']\n",
            "Sentence  3 , No. of stopwords:  9\n",
            "['a', 'the', 'on', 'of', 'while', 'its', 'with', 'and', 'an']\n",
            "Sentence  4 , No. of stopwords:  6\n",
            "['with', 'for', 'and', 'of', 'into', 'your']\n",
            "Sentence  5 , No. of stopwords:  12\n",
            "['is', 'now', 'than', 'its', 'and', 'both', 'the', 'and', 'its', 'now', 'against', 'and']\n",
            "Sentence  6 , No. of stopwords:  6\n",
            "['in', 'each', 'with', 'a', 'the', 'to']\n",
            "Sentence  7 , No. of stopwords:  4\n",
            "['with', 'an', 'on', 'their']\n",
            "Sentence  8 , No. of stopwords:  5\n",
            "['to', 'the', 'now', 'a', 'for']\n",
            "Sentence  9 , No. of stopwords:  3\n",
            "['in', 'these', 'is']\n",
            "Sentence  10 , No. of stopwords:  6\n",
            "['now', 'in', 'by', 'it', 'on', 'the']\n",
            "Sentence  11 , No. of stopwords:  7\n",
            "['for', 'while', 'to', 'and', 'on', 'the', 'and']\n",
            "Sentence  12 , No. of stopwords:  1\n",
            "['a']\n",
            "Sentence  13 , No. of stopwords:  5\n",
            "['with', 'and', 'with', 'to', 'its']\n",
            "Sentence  14 , No. of stopwords:  8\n",
            "['its', 'your', 'a', 'of', 'and', 'of', 'when', 'are']\n",
            "Sentence  15 , No. of stopwords:  11\n",
            "['it', 'be', 'for', 'its', 'that', 'the', 'have', 'to', 'out', 'and', 'on']\n",
            "Sentence  16 , No. of stopwords:  1\n",
            "['with']\n",
            "Sentence  17 , No. of stopwords:  8\n",
            "['the', 'with', 'up', 'to', 'of', 'and', 'of', 'than']\n",
            "Sentence  18 , No. of stopwords:  1\n",
            "['can']\n",
            "Sentence  19 , No. of stopwords:  5\n",
            "['you', 'are', 'on', 'and', 'with']\n",
            "Sentence  20 , No. of stopwords:  13\n",
            "['other', 'they', 'are', 'from', 'the', 'on', 'the', 'on', 'your', 'on', 'and', 'with', 'or']\n",
            "Sentence  21 , No. of stopwords:  6\n",
            "['are', 'a', 'of', 'the', 'in', 'you']\n",
            "Sentence  22 , No. of stopwords:  7\n",
            "['at', 'and', 'are', 'for', 'to', 'now', 'at']\n",
            "Sentence  23 , No. of stopwords:  4\n",
            "['will', 'be', 'in', 'on']\n",
            "Sentence  24 , No. of stopwords:  2\n",
            "['no', 'out']\n",
            "Sentence  25 , No. of stopwords:  7\n",
            "['all', 'our', 'who', 'have', 'these', 'in', 'the']\n",
            "Total no of stopwords:  146\n"
          ]
        }
      ]
    },
    {
      "cell_type": "code",
      "metadata": {
        "colab": {
          "base_uri": "https://localhost:8080/"
        },
        "id": "vrO4e0dD2BMH",
        "outputId": "1c52c027-e11a-432d-8414-cf09b7b50e4d"
      },
      "source": [
        "# Ratio of number of stopwords to total number of words in the article\n",
        "perc_stop = total_ct/article_wordlength(main_content_hwz2)\n",
        "print('Percentage of total article occupied by stopwords: ',perc_stop*100)"
      ],
      "execution_count": null,
      "outputs": [
        {
          "output_type": "stream",
          "name": "stdout",
          "text": [
            "Percentage of total article occupied by stopwords:  25.886524822695034\n"
          ]
        }
      ]
    },
    {
      "cell_type": "code",
      "metadata": {
        "colab": {
          "base_uri": "https://localhost:8080/",
          "height": 295
        },
        "id": "xzcB77B91BGz",
        "outputId": "6e7f0a4e-fe6d-40ba-8e04-8e9d5bbeffc8"
      },
      "source": [
        "avgword_vs_stopwords(main_content_hwz2)"
      ],
      "execution_count": null,
      "outputs": [
        {
          "output_type": "display_data",
          "data": {
            "image/png": "[encoded data removed]",
            "text/plain": [
              "<Figure size 432x288 with 1 Axes>"
            ]
          },
          "metadata": {
            "needs_background": "light"
          }
        }
      ]
    },
    {
      "cell_type": "code",
      "metadata": {
        "colab": {
          "base_uri": "https://localhost:8080/"
        },
        "id": "OXWDuOQQYhJs",
        "outputId": "9426ebcc-a6a6-46b9-e454-52cb64b1c90d"
      },
      "source": [
        "print('No. of numerical words in each sentence: ')\n",
        "find_digs(main_content_hwz2)"
      ],
      "execution_count": null,
      "outputs": [
        {
          "output_type": "stream",
          "name": "stdout",
          "text": [
            "No. of numerical words in each sentence: \n",
            "Sentence  1  No. of numerical data:  4\n",
            "['19', '2021', '20', '2021']\n",
            "Sentence  2  No. of numerical data:  3\n",
            "['18', '2021', '3']\n",
            "Sentence  5  No. of numerical data:  1\n",
            "['4']\n",
            "Sentence  12  No. of numerical data:  1\n",
            "['3']\n",
            "Sentence  17  No. of numerical data:  1\n",
            "['2019']\n",
            "Sentence  19  No. of numerical data:  2\n",
            "['15', '15']\n",
            "Sentence  20  No. of numerical data:  1\n",
            "['12']\n",
            "Sentence  22  No. of numerical data:  1\n",
            "['269']\n",
            "Sentence  23  No. of numerical data:  1\n",
            "['26']\n"
          ]
        }
      ]
    },
    {
      "cell_type": "code",
      "metadata": {
        "colab": {
          "base_uri": "https://localhost:8080/"
        },
        "id": "avy937BTYhJs",
        "outputId": "5d016566-0604-4af7-8475-aeb719a45092"
      },
      "source": [
        "print('Capitalised / Uppercase words')\n",
        "uppercase(main_content_hwz2)"
      ],
      "execution_count": null,
      "outputs": [
        {
          "output_type": "stream",
          "name": "stdout",
          "text": [
            "Capitalised / Uppercase words\n",
            "UPPERCASE\n",
            "Sentence 8: AAC-ELD\n",
            "Sentence 8: HD\n",
            "Sentence 9: EQ\n",
            "Sentence 11: EQ\n",
            "Sentence 12: 3D,\n",
            "Sentence 20: A12\n",
            "Sentence 22: S$269\n",
            "Sentence 25: AWARDS\n",
            "Sentence 25: ACCOLADES\n",
            "CAPITALISED\n",
            "Sentence 1: Note:\n",
            "Sentence 1: This\n",
            "Sentence 1: October\n",
            "Sentence 1: October\n",
            "Sentence 2: At\n",
            "Sentence 2: October\n",
            "Sentence 2: Apple\n",
            "Sentence 2: Event\n",
            "Sentence 2: Apple\n",
            "Sentence 3: In\n",
            "Sentence 3: Apple’s\n",
            "Sentence 3: Spatial\n",
            "Sentence 3: Audio,\n",
            "Sentence 4: The\n",
            "Sentence 5: The\n",
            "Sentence 6: The\n",
            "Sentence 8: According\n",
            "Sentence 8: Apple,\n",
            "Sentence 9: Another\n",
            "Sentence 9: Adaptive\n",
            "Sentence 10: The\n",
            "Sentence 11: An\n",
            "Sentence 11: Adaptive\n",
            "Sentence 12: Spatial\n",
            "Sentence 12: Apple’s\n",
            "Sentence 13: It\n",
            "Sentence 13: Dolby\n",
            "Sentence 13: Atmos\n",
            "Sentence 13: Spatial\n",
            "Sentence 13: Audio\n",
            "Sentence 14: Returning\n",
            "Sentence 15: While\n",
            "Sentence 15: Pro\n",
            "Sentence 15: Apple\n",
            "Sentence 16: Expectedly,\n",
            "Sentence 16: Apple’s\n",
            "Sentence 16: Siri\n",
            "Sentence 17: Finally,\n",
            "Sentence 17: Apple\n",
            "Sentence 18: The\n",
            "Sentence 18: Magsafe\n",
            "Sentence 19: If\n",
            "Sentence 19: Spatial\n",
            "Sentence 19: Group\n",
            "Sentence 20: It\n",
            "Sentence 20: Bionic\n",
            "Sentence 21: Find\n",
            "Sentence 21: My\n",
            "Sentence 22: The\n",
            "Sentence 22: Apple’s\n",
            "Sentence 23: They\n",
            "Sentence 23: October\n",
            "Sentence 24: No\n",
            "Sentence 25: Trending\n",
            "Sentence 25: Topics\n",
            "Sentence 25: Our\n",
            "Sentence 25: Sections\n",
            "Sentence 25: We\n"
          ]
        }
      ]
    },
    {
      "cell_type": "markdown",
      "metadata": {
        "id": "c6oMeP8TGEvT"
      },
      "source": [
        "### Channel News Asia (CNA) Article #1\n",
        "<br> **Title**: Soaring prices dampen consumer mood in India's festival season"
      ]
    },
    {
      "cell_type": "markdown",
      "metadata": {
        "id": "krDA-0f9Vxun"
      },
      "source": [
        "\n",
        "\n",
        "```\n",
        "url3 = 'https://www.channelnewsasia.com/business/india-rising-prices-deepavali-diwali-festival-2258601'\n",
        "```\n",
        "\n"
      ]
    },
    {
      "cell_type": "code",
      "metadata": {
        "id": "XcYmkaRFN9Zr"
      },
      "source": [
        "article1 = 'NEW DELHI: For Delhi resident Suman Milind, rising prices in India are casting a long shadow this year over the upcoming Diwali festival of lights. The 33-year-old homemaker is tightening her purse strings and altering her spending habits, thanks to soaring costs of fuel, transport and many manufactured items, coupled with stagnant incomes due to the COVID-19 pandemic. \"Earlier we used to get four or five boxes of dry fruits during festivals, but now we hardly get one or two. Because of the high prices,\" said Milind, adding that her family has reduced spending on food too by cutting back on meat to just once a week compared to several times a week earlier. Millions of Indian households are facing similar strains on their budgets ahead of Diwali, which this year falls in early November and marks the country\\'s busiest shopping season for consumer goods. Many are foregoing big-ticket purchases such as television sets and jewellery this festive season, according to half a dozen people Reuters spoke to and a consumer survey by Mumbai-based consultancy Axis My India, threatening to slow an economy recovering strongly from the worst of COVID-19. Pump prices of petrol and diesel are up nearly 35 per cent from a year ago and cooking gas by more than 50 per cent, severely hitting more than three-quarters of households, economists said. \"The sky-rocketing prices of petrol, cooking gas are unbearable when our earnings are still down by nearly 30 per cent from the pre-pandemic period,\" said Sultan Singh Tomar, 53, who supplies incense sticks and kitchenware to shops in New Delhi on his scooter. He said his petrol bill was up by 600 rupees (US$8) from a year ago and refilling the cooking gas cylinder was costlier by 400 rupees. Tomar is among millions of people working in the informal sector who dipped into savings during the pandemic and are now forced to pare back household spending.For months India\\'s consumer-price-based inflation stayed above the central-bank\\'s comfort level of 6 per cent driven by a rise in food prices.In September the consumer price index eased to 4.35 per cent, helped by a softening of food prices which make up nearly half of the index. Economists said that painted a better picture than what households are actually facing.According to an October report by Axis My India on consumer spending trends, more than 88 per cent of respondents in a survey said they will not be buying air conditioners, televisions, washing machines or jewellery this festival season and nearly half said they will make low-ticket purchases such as clothes. There is not much that Prime Minister Narendra Modi\\'s government can do to alleviate the pain as global crude oil prices hit a three-year high at US$85 a barrel, piling up the pressure on a country that imports 80 per cent of its oil.Bidisha Ganguly, chief economist at industry chamber, Confederation of Indian Industries, said federal and state governments should cut fuel taxes, the highest among the major economies, as higher fuel prices posed a risk of building up of medium term inflationary pressures.\"(Otherwise) corporate earnings will be impacted in sectors where producers are unable to pass on the cost increases,\" she said, adding global shortages were already driving up commodity costs for many products.REDUCED FOOTFALLS Private economists have warned that annual wholesale-price-based inflation - a proxy for producers\\' prices - staying in double digits for sixth months in a row could further fuel inflationary pressures as companies pass on rising costs to consumers.Already some retailers said rising raw material costs were impacting their sales.\"Our sales are not even half of what we used to have during the festival period,\" said Kawaljit Singh, who sells utensils from a shop in Chandani Chowk in the old quarter of Delhi.He said a rise in prices of metals like steel and copper had pushed up prices of utensils, cookers, festival lighting and gift items by 15 per cent to 20 per cent in the last four to five months.Because of rising prices and other market uncertainties, Delhi-based company auditor Lalit Vats said his family had downgraded to non-branded products and visited the wholesale markets to hunt for bargains. \\\"Government can talk about easing of inflation, but people know that costs of every item has gone up,\\\" lamented his mother Anita Vats.Source: Reuters/ng'"
      ],
      "execution_count": null,
      "outputs": []
    },
    {
      "cell_type": "code",
      "metadata": {
        "colab": {
          "base_uri": "https://localhost:8080/"
        },
        "id": "ab2PmowoPWem",
        "outputId": "88f7b089-2e8f-46ee-cf17-4f5da1c8094e"
      },
      "source": [
        "sentences = sent_tokenize(article1)\n",
        "for sent in sentences:\n",
        "  print(sent)"
      ],
      "execution_count": null,
      "outputs": [
        {
          "output_type": "stream",
          "name": "stdout",
          "text": [
            "NEW DELHI: For Delhi resident Suman Milind, rising prices in India are casting a long shadow this year over the upcoming Diwali festival of lights.\n",
            "The 33-year-old homemaker is tightening her purse strings and altering her spending habits, thanks to soaring costs of fuel, transport and many manufactured items, coupled with stagnant incomes due to the COVID-19 pandemic.\n",
            "\"Earlier we used to get four or five boxes of dry fruits during festivals, but now we hardly get one or two.\n",
            "Because of the high prices,\" said Milind, adding that her family has reduced spending on food too by cutting back on meat to just once a week compared to several times a week earlier.\n",
            "Millions of Indian households are facing similar strains on their budgets ahead of Diwali, which this year falls in early November and marks the country's busiest shopping season for consumer goods.\n",
            "Many are foregoing big-ticket purchases such as television sets and jewellery this festive season, according to half a dozen people Reuters spoke to and a consumer survey by Mumbai-based consultancy Axis My India, threatening to slow an economy recovering strongly from the worst of COVID-19.\n",
            "Pump prices of petrol and diesel are up nearly 35 per cent from a year ago and cooking gas by more than 50 per cent, severely hitting more than three-quarters of households, economists said.\n",
            "\"The sky-rocketing prices of petrol, cooking gas are unbearable when our earnings are still down by nearly 30 per cent from the pre-pandemic period,\" said Sultan Singh Tomar, 53, who supplies incense sticks and kitchenware to shops in New Delhi on his scooter.\n",
            "He said his petrol bill was up by 600 rupees (US$8) from a year ago and refilling the cooking gas cylinder was costlier by 400 rupees.\n",
            "Tomar is among millions of people working in the informal sector who dipped into savings during the pandemic and are now forced to pare back household spending.For months India's consumer-price-based inflation stayed above the central-bank's comfort level of 6 per cent driven by a rise in food prices.In September the consumer price index eased to 4.35 per cent, helped by a softening of food prices which make up nearly half of the index.\n",
            "Economists said that painted a better picture than what households are actually facing.According to an October report by Axis My India on consumer spending trends, more than 88 per cent of respondents in a survey said they will not be buying air conditioners, televisions, washing machines or jewellery this festival season and nearly half said they will make low-ticket purchases such as clothes.\n",
            "There is not much that Prime Minister Narendra Modi's government can do to alleviate the pain as global crude oil prices hit a three-year high at US$85 a barrel, piling up the pressure on a country that imports 80 per cent of its oil.Bidisha Ganguly, chief economist at industry chamber, Confederation of Indian Industries, said federal and state governments should cut fuel taxes, the highest among the major economies, as higher fuel prices posed a risk of building up of medium term inflationary pressures.\n",
            "\"(Otherwise) corporate earnings will be impacted in sectors where producers are unable to pass on the cost increases,\" she said, adding global shortages were already driving up commodity costs for many products.REDUCED FOOTFALLS Private economists have warned that annual wholesale-price-based inflation - a proxy for producers' prices - staying in double digits for sixth months in a row could further fuel inflationary pressures as companies pass on rising costs to consumers.Already some retailers said rising raw material costs were impacting their sales.\n",
            "\"Our sales are not even half of what we used to have during the festival period,\" said Kawaljit Singh, who sells utensils from a shop in Chandani Chowk in the old quarter of Delhi.He said a rise in prices of metals like steel and copper had pushed up prices of utensils, cookers, festival lighting and gift items by 15 per cent to 20 per cent in the last four to five months.Because of rising prices and other market uncertainties, Delhi-based company auditor Lalit Vats said his family had downgraded to non-branded products and visited the wholesale markets to hunt for bargains.\n",
            "\"Government can talk about easing of inflation, but people know that costs of every item has gone up,\" lamented his mother Anita Vats.Source: Reuters/ng\n"
          ]
        }
      ]
    },
    {
      "cell_type": "code",
      "metadata": {
        "colab": {
          "base_uri": "https://localhost:8080/"
        },
        "id": "fmr9ZOQAPqIl",
        "outputId": "a56f8804-e9ba-4509-c5bc-78a6141da208"
      },
      "source": [
        "# Number of sentences in article\n",
        "print('No. of sentences in this article: ',article_sentlength(article1))\n",
        "# Number of words in article\n",
        "print('No. of words in this article: ',article_wordlength(article1))"
      ],
      "execution_count": null,
      "outputs": [
        {
          "output_type": "stream",
          "name": "stdout",
          "text": [
            "No. of sentences in this article:  15\n",
            "No. of words in this article:  794\n"
          ]
        }
      ]
    },
    {
      "cell_type": "code",
      "metadata": {
        "colab": {
          "base_uri": "https://localhost:8080/"
        },
        "id": "bqj0gKBIPqIq",
        "outputId": "b088bcf8-cbf2-4501-da67-ff615a09ea54"
      },
      "source": [
        "print('Average number of words in a sentence: ',avg_wordcount(article1))"
      ],
      "execution_count": null,
      "outputs": [
        {
          "output_type": "stream",
          "name": "stdout",
          "text": [
            "Average number of words in a sentence:  52.93333333333333\n"
          ]
        }
      ]
    },
    {
      "cell_type": "code",
      "metadata": {
        "colab": {
          "base_uri": "https://localhost:8080/"
        },
        "id": "wBvohf2OPqIq",
        "outputId": "0de892bb-d16f-4eb9-faf0-db7d973c0583"
      },
      "source": [
        "print('Average word length in each sentence: ')\n",
        "avg_sent_word(article1)"
      ],
      "execution_count": null,
      "outputs": [
        {
          "output_type": "stream",
          "name": "stdout",
          "text": [
            "Average word length in each sentence: \n",
            "Sentence  1 :  4.92\n",
            "Sentence  2 :  5.787878787878788\n",
            "Sentence  3 :  3.9545454545454546\n",
            "Sentence  4 :  4.411764705882353\n",
            "Sentence  5 :  5.419354838709677\n",
            "Sentence  6 :  5.511111111111111\n",
            "Sentence  7 :  4.617647058823529\n",
            "Sentence  8 :  5.069767441860465\n",
            "Sentence  9 :  4.1923076923076925\n",
            "Sentence  10 :  5.041095890410959\n",
            "Sentence  11 :  5.317460317460317\n",
            "Sentence  12 :  5.071428571428571\n",
            "Sentence  13 :  5.829268292682927\n",
            "Sentence  14 :  4.762376237623762\n",
            "Sentence  15 :  5.375\n"
          ]
        }
      ]
    },
    {
      "cell_type": "code",
      "metadata": {
        "colab": {
          "base_uri": "https://localhost:8080/"
        },
        "id": "RCCehV651v02",
        "outputId": "55f48da9-058f-4fa9-eb5b-23ef7ab84e5f"
      },
      "source": [
        "total_stop = 0\n",
        "print('No. of stopwords in each sentence: ')\n",
        "total_ct = calc_stopwords(article1,total_stop)\n",
        "print('Total no of stopwords: ',total_ct)"
      ],
      "execution_count": null,
      "outputs": [
        {
          "output_type": "stream",
          "name": "stdout",
          "text": [
            "No. of stopwords in each sentence: \n",
            "Sentence  1 , No. of stopwords:  7\n",
            "['in', 'are', 'a', 'this', 'over', 'the', 'of']\n",
            "Sentence  2 , No. of stopwords:  10\n",
            "['is', 'her', 'and', 'her', 'to', 'of', 'and', 'with', 'to', 'the']\n",
            "Sentence  3 , No. of stopwords:  9\n",
            "['we', 'to', 'or', 'of', 'during', 'but', 'now', 'we', 'or']\n",
            "Sentence  4 , No. of stopwords:  15\n",
            "['of', 'the', 'that', 'her', 'has', 'on', 'too', 'by', 'on', 'to', 'just', 'once', 'a', 'to', 'a']\n",
            "Sentence  5 , No. of stopwords:  11\n",
            "['of', 'are', 'on', 'their', 'of', 'which', 'this', 'in', 'and', 'the', 'for']\n",
            "Sentence  6 , No. of stopwords:  16\n",
            "['are', 'such', 'as', 'and', 'this', 'to', 'a', 'to', 'and', 'a', 'by', 'to', 'an', 'from', 'the', 'of']\n",
            "Sentence  7 , No. of stopwords:  13\n",
            "['of', 'and', 'are', 'up', 'from', 'a', 'and', 'by', 'more', 'than', 'more', 'than', 'of']\n",
            "Sentence  8 , No. of stopwords:  15\n",
            "['of', 'are', 'when', 'our', 'are', 'down', 'by', 'from', 'the', 'who', 'and', 'to', 'in', 'on', 'his']\n",
            "Sentence  9 , No. of stopwords:  10\n",
            "['his', 'was', 'up', 'by', 'from', 'a', 'and', 'the', 'was', 'by']\n",
            "Sentence  10 , No. of stopwords:  27\n",
            "['is', 'of', 'in', 'the', 'who', 'into', 'during', 'the', 'and', 'are', 'now', 'to', 'above', 'the', 'of', 'by', 'a', 'in', 'the', 'to', 'by', 'a', 'of', 'which', 'up', 'of', 'the']\n",
            "Sentence  11 , No. of stopwords:  25\n",
            "['that', 'a', 'than', 'what', 'are', 'to', 'an', 'by', 'on', 'more', 'than', 'of', 'in', 'a', 'they', 'will', 'not', 'be', 'or', 'this', 'and', 'they', 'will', 'such', 'as']\n",
            "Sentence  12 , No. of stopwords:  29\n",
            "['is', 'not', 'that', 'can', 'do', 'to', 'the', 'as', 'a', 'at', 'a', 'up', 'the', 'on', 'a', 'that', 'of', 'its', 'at', 'of', 'and', 'should', 'the', 'the', 'as', 'a', 'of', 'up', 'of']\n",
            "Sentence  13 , No. of stopwords:  27\n",
            "['will', 'be', 'in', 'where', 'are', 'to', 'on', 'the', 'she', 'were', 'up', 'for', 'have', 'that', 'a', 'for', 'in', 'for', 'in', 'a', 'further', 'as', 'on', 'to', 'some', 'were', 'their']\n",
            "Sentence  14 , No. of stopwords:  39\n",
            "['are', 'not', 'of', 'what', 'we', 'to', 'have', 'during', 'the', 'who', 'from', 'a', 'in', 'in', 'the', 'of', 'a', 'in', 'of', 'and', 'had', 'up', 'of', 'and', 'by', 'to', 'in', 'the', 'to', 'of', 'and', 'other', 'his', 'had', 'to', 'and', 'the', 'to', 'for']\n",
            "Sentence  15 , No. of stopwords:  8\n",
            "['can', 'about', 'of', 'but', 'that', 'of', 'has', 'his']\n",
            "Total no of stopwords:  261\n"
          ]
        }
      ]
    },
    {
      "cell_type": "code",
      "metadata": {
        "colab": {
          "base_uri": "https://localhost:8080/"
        },
        "id": "AIF8t20N1v02",
        "outputId": "027e688f-eada-431e-f392-8b59edca4218"
      },
      "source": [
        "# Ratio of number of stopwords to total number of words in the article\n",
        "perc_stop = total_ct/article_wordlength(article1)\n",
        "print('Percentage of total article occupied by stopwords: ',perc_stop*100)"
      ],
      "execution_count": null,
      "outputs": [
        {
          "output_type": "stream",
          "name": "stdout",
          "text": [
            "Percentage of total article occupied by stopwords:  32.87153652392947\n"
          ]
        }
      ]
    },
    {
      "cell_type": "code",
      "metadata": {
        "colab": {
          "base_uri": "https://localhost:8080/",
          "height": 295
        },
        "id": "GkIX81Eu37Kg",
        "outputId": "22a02dea-6cc7-464c-e68d-eb65d5ead17d"
      },
      "source": [
        "avgword_vs_stopwords(article1)"
      ],
      "execution_count": null,
      "outputs": [
        {
          "output_type": "display_data",
          "data": {
            "image/png": "[encoded data removed]",
            "text/plain": [
              "<Figure size 432x288 with 1 Axes>"
            ]
          },
          "metadata": {
            "needs_background": "light"
          }
        }
      ]
    },
    {
      "cell_type": "code",
      "metadata": {
        "colab": {
          "base_uri": "https://localhost:8080/"
        },
        "id": "09SEE0E7PqIq",
        "outputId": "de9fcc92-28b4-4742-ef5e-afa2ba575f3c"
      },
      "source": [
        "print('No. of numerical words in each sentence: ')\n",
        "find_digs(article1)"
      ],
      "execution_count": null,
      "outputs": [
        {
          "output_type": "stream",
          "name": "stdout",
          "text": [
            "No. of numerical words in each sentence: \n",
            "Sentence  2  No. of numerical data:  2\n",
            "['33', '19']\n",
            "Sentence  6  No. of numerical data:  1\n",
            "['19']\n",
            "Sentence  7  No. of numerical data:  2\n",
            "['35', '50']\n",
            "Sentence  8  No. of numerical data:  2\n",
            "['30', '53']\n",
            "Sentence  9  No. of numerical data:  3\n",
            "['600', '8', '400']\n",
            "Sentence  10  No. of numerical data:  3\n",
            "['6', '4', '35']\n",
            "Sentence  11  No. of numerical data:  1\n",
            "['88']\n",
            "Sentence  12  No. of numerical data:  2\n",
            "['85', '80']\n",
            "Sentence  14  No. of numerical data:  2\n",
            "['15', '20']\n"
          ]
        }
      ]
    },
    {
      "cell_type": "markdown",
      "metadata": {
        "id": "GLr-MDcdQuHW"
      },
      "source": [
        "In news articles, fully capitalised words are usually found as titles, subheadings or abbreviations\n",
        "<br> Words that have been capitalised are most likely to be proper nouns, apart from sentence beginnings"
      ]
    },
    {
      "cell_type": "code",
      "metadata": {
        "colab": {
          "base_uri": "https://localhost:8080/"
        },
        "id": "_-T05fgzPqIq",
        "outputId": "846cee54-bf42-488d-d756-a4187f5677b8"
      },
      "source": [
        "print('Capitalised / Uppercase words')\n",
        "uppercase(article1)"
      ],
      "execution_count": null,
      "outputs": [
        {
          "output_type": "stream",
          "name": "stdout",
          "text": [
            "Capitalised / Uppercase words\n",
            "UPPERCASE\n",
            "Sentence 1: NEW\n",
            "Sentence 1: DELHI:\n",
            "Sentence 2: COVID-19\n",
            "Sentence 6: COVID-19.\n",
            "Sentence 9: (US$8)\n",
            "Sentence 12: US$85\n",
            "Sentence 13: FOOTFALLS\n",
            "CAPITALISED\n",
            "Sentence 1: For\n",
            "Sentence 1: Delhi\n",
            "Sentence 1: Suman\n",
            "Sentence 1: Milind,\n",
            "Sentence 1: India\n",
            "Sentence 1: Diwali\n",
            "Sentence 2: The\n",
            "Sentence 4: Because\n",
            "Sentence 4: Milind,\n",
            "Sentence 5: Millions\n",
            "Sentence 5: Indian\n",
            "Sentence 5: Diwali,\n",
            "Sentence 5: November\n",
            "Sentence 6: Many\n",
            "Sentence 6: Reuters\n",
            "Sentence 6: Mumbai-based\n",
            "Sentence 6: Axis\n",
            "Sentence 6: My\n",
            "Sentence 6: India,\n",
            "Sentence 7: Pump\n",
            "Sentence 8: Sultan\n",
            "Sentence 8: Singh\n",
            "Sentence 8: Tomar,\n",
            "Sentence 8: New\n",
            "Sentence 8: Delhi\n",
            "Sentence 9: He\n",
            "Sentence 10: Tomar\n",
            "Sentence 10: India's\n",
            "Sentence 10: September\n",
            "Sentence 11: Economists\n",
            "Sentence 11: October\n",
            "Sentence 11: Axis\n",
            "Sentence 11: My\n",
            "Sentence 11: India\n",
            "Sentence 12: There\n",
            "Sentence 12: Prime\n",
            "Sentence 12: Minister\n",
            "Sentence 12: Narendra\n",
            "Sentence 12: Modi's\n",
            "Sentence 12: Ganguly,\n",
            "Sentence 12: Confederation\n",
            "Sentence 12: Indian\n",
            "Sentence 12: Industries,\n",
            "Sentence 13: Private\n",
            "Sentence 14: Kawaljit\n",
            "Sentence 14: Singh,\n",
            "Sentence 14: Chandani\n",
            "Sentence 14: Chowk\n",
            "Sentence 14: Delhi-based\n",
            "Sentence 14: Lalit\n",
            "Sentence 14: Vats\n",
            "Sentence 15: Anita\n",
            "Sentence 15: Reuters/ng\n"
          ]
        }
      ]
    },
    {
      "cell_type": "markdown",
      "metadata": {
        "id": "SnZu8OfzVCK2"
      },
      "source": [
        "### Channel News Asia (CNA) Article #2\n",
        "<br> **Title**: Only fully vaccinated employees can return to workplaces from Jan 1; others must test negative\n"
      ]
    },
    {
      "cell_type": "markdown",
      "metadata": {
        "id": "LqkRAouoVcEb"
      },
      "source": [
        "\n",
        "\n",
        "```\n",
        "url4 = 'https://www.channelnewsasia.com/singapore/only-fully-vaccinated-employees-can-return-workplace-unvaccinated-test-negative-2263807'\n",
        "```\n",
        "\n"
      ]
    },
    {
      "cell_type": "code",
      "metadata": {
        "id": "QRe52h7u7e6Z"
      },
      "source": [
        "article2 = ('SINGAPORE: From Jan 1, only employees who are fully vaccinated against COVID-19 or have recovered from the disease within the past 270 days will be allowed to return to workplaces, the Ministry of Health (MOH) said on Saturday (Oct 23). Unvaccinated employees will not be allowed to return to their workplaces unless they have tested negative for COVID-19. These employees will bear the costs of testing.The tests should be administered at MOH-approved providers and must be valid for the duration that the employees are required to be at their workplaces. Negative antigen rapid test results are valid for 24 hours. MOH and the Ministry of Manpower will provide more details later, along with a tripartite advisory on vaccination at the workplace.MOH considers individuals to be fully vaccinated if they have received the appropriate regimen of vaccines under the World Health Organization emergency use listing. This includes the duration post-vaccination for the vaccine to be fully effective. Their vaccination records must have been added to the ministry\\'s systems. SPECIAL CONCESSION FOR THOSE MEDICALLY INELIGIBLE FOR VACCINES. On Saturday, MOH also announced that people who are medically ineligible for all vaccines under the national vaccination programme will be exempted from vaccination-differentiated measures. \\\"We will give special concession for them to enter premises or participate in activities where the vaccination-differentiated safe management systems are required, such as shopping malls, attractions, hawker centres and coffee shops, starting from Nov 1, 2021,\\” said co-chair of the COVID-19 task force Gan Kim Yong at a news conference.\\“For those who are medically ineligible for mRNA vaccines but are eligible for Sinovac, they will need to be vaccinated with Sinovac to be considered to be fully vaccinated.\\” Mr Gan added that such individuals will be given a grace period until Dec 31 to get their Sinovac shots.It was announced earlier in the news conference that the Sinovac COVID-19 vaccine will be included in Singapore\\’s national vaccination programme. ACTIVITIES FOR SENIORS. Fully vaccinated seniors can look forward to participating in \\“safe and healthy activities\\” that will help them maintain their physical and mental wellness, MOH said on Saturday. \\“Over the past months, the options for seniors to be socially engaged in wellness activities have been limited, as a result of safe management measures which had to be imposed to curb transmission of COVID-19,\\” said the ministry. \\“Keeping active is important for our seniors to maintain good physical and mental health. Hence, the People\\’s Association will organise activities for fully vaccinated seniors according to prevailing safe management measures.\\” Mr Gan said that activities may include physical exercises like qigong, outings and learning journeys.')"
      ],
      "execution_count": null,
      "outputs": []
    },
    {
      "cell_type": "code",
      "metadata": {
        "colab": {
          "base_uri": "https://localhost:8080/"
        },
        "id": "oJxaSTBNX31U",
        "outputId": "949ba3ea-32bc-4059-aa4a-b4f5d36e8371"
      },
      "source": [
        "sentences = sent_tokenize(article2)\n",
        "for sent in sentences:\n",
        "  print(sent)"
      ],
      "execution_count": null,
      "outputs": [
        {
          "output_type": "stream",
          "name": "stdout",
          "text": [
            "SINGAPORE: From Jan 1, only employees who are fully vaccinated against COVID-19 or have recovered from the disease within the past 270 days will be allowed to return to workplaces, the Ministry of Health (MOH) said on Saturday (Oct 23).\n",
            "Unvaccinated employees will not be allowed to return to their workplaces unless they have tested negative for COVID-19.\n",
            "These employees will bear the costs of testing.The tests should be administered at MOH-approved providers and must be valid for the duration that the employees are required to be at their workplaces.\n",
            "Negative antigen rapid test results are valid for 24 hours.\n",
            "MOH and the Ministry of Manpower will provide more details later, along with a tripartite advisory on vaccination at the workplace.MOH considers individuals to be fully vaccinated if they have received the appropriate regimen of vaccines under the World Health Organization emergency use listing.\n",
            "This includes the duration post-vaccination for the vaccine to be fully effective.\n",
            "Their vaccination records must have been added to the ministry's systems.\n",
            "SPECIAL CONCESSION FOR THOSE MEDICALLY INELIGIBLE FOR VACCINES.\n",
            "On Saturday, MOH also announced that people who are medically ineligible for all vaccines under the national vaccination programme will be exempted from vaccination-differentiated measures.\n",
            "\"We will give special concession for them to enter premises or participate in activities where the vaccination-differentiated safe management systems are required, such as shopping malls, attractions, hawker centres and coffee shops, starting from Nov 1, 2021,\\” said co-chair of the COVID-19 task force Gan Kim Yong at a news conference.\\“For those who are medically ineligible for mRNA vaccines but are eligible for Sinovac, they will need to be vaccinated with Sinovac to be considered to be fully vaccinated.\\” Mr Gan added that such individuals will be given a grace period until Dec 31 to get their Sinovac shots.It was announced earlier in the news conference that the Sinovac COVID-19 vaccine will be included in Singapore\\’s national vaccination programme.\n",
            "ACTIVITIES FOR SENIORS.\n",
            "Fully vaccinated seniors can look forward to participating in \\“safe and healthy activities\\” that will help them maintain their physical and mental wellness, MOH said on Saturday.\n",
            "\\“Over the past months, the options for seniors to be socially engaged in wellness activities have been limited, as a result of safe management measures which had to be imposed to curb transmission of COVID-19,\\” said the ministry.\n",
            "\\“Keeping active is important for our seniors to maintain good physical and mental health.\n",
            "Hence, the People\\’s Association will organise activities for fully vaccinated seniors according to prevailing safe management measures.\\” Mr Gan said that activities may include physical exercises like qigong, outings and learning journeys.\n"
          ]
        }
      ]
    },
    {
      "cell_type": "code",
      "metadata": {
        "colab": {
          "base_uri": "https://localhost:8080/"
        },
        "id": "7WXF8V5pYlVo",
        "outputId": "6c323654-eb0c-46a8-df7d-b2532b177697"
      },
      "source": [
        "# Number of sentences in article\n",
        "print('No. of sentences in this article: ',article_sentlength(article2))\n",
        "# Number of words in article\n",
        "print('No. of words in this article: ',article_wordlength(article2))"
      ],
      "execution_count": null,
      "outputs": [
        {
          "output_type": "stream",
          "name": "stdout",
          "text": [
            "No. of sentences in this article:  15\n",
            "No. of words in this article:  491\n"
          ]
        }
      ]
    },
    {
      "cell_type": "code",
      "metadata": {
        "colab": {
          "base_uri": "https://localhost:8080/"
        },
        "id": "otOECqoEYlVp",
        "outputId": "326d5a5d-650f-43ae-b665-314d8140be04"
      },
      "source": [
        "print('Average number of words in a sentence: ',avg_wordcount(article2))"
      ],
      "execution_count": null,
      "outputs": [
        {
          "output_type": "stream",
          "name": "stdout",
          "text": [
            "Average number of words in a sentence:  32.733333333333334\n"
          ]
        }
      ]
    },
    {
      "cell_type": "code",
      "metadata": {
        "colab": {
          "base_uri": "https://localhost:8080/"
        },
        "id": "fU6uDPYLYlVp",
        "outputId": "9046dc54-59bf-43ca-ce1b-d51ac72cb39d"
      },
      "source": [
        "print('Average word length in each sentence: ')\n",
        "avg_sent_word(article2)"
      ],
      "execution_count": null,
      "outputs": [
        {
          "output_type": "stream",
          "name": "stdout",
          "text": [
            "Average word length in each sentence: \n",
            "Sentence  1 :  4.925\n",
            "Sentence  2 :  5.666666666666667\n",
            "Sentence  3 :  5.25\n",
            "Sentence  4 :  5.0\n",
            "Sentence  5 :  5.75\n",
            "Sentence  6 :  5.916666666666667\n",
            "Sentence  7 :  5.7272727272727275\n",
            "Sentence  8 :  7.0\n",
            "Sentence  9 :  6.6\n",
            "Sentence  10 :  5.436974789915967\n",
            "Sentence  11 :  7.0\n",
            "Sentence  12 :  5.703703703703703\n",
            "Sentence  13 :  5.105263157894737\n",
            "Sentence  14 :  5.5\n",
            "Sentence  15 :  6.5625\n"
          ]
        }
      ]
    },
    {
      "cell_type": "code",
      "metadata": {
        "colab": {
          "base_uri": "https://localhost:8080/"
        },
        "id": "J2faxXT42OWc",
        "outputId": "3bcbe796-1501-4fc3-9b36-2a088d4b37f0"
      },
      "source": [
        "total_stop = 0\n",
        "print('No. of stopwords in each sentence: ')\n",
        "total_ct = calc_stopwords(article2,total_stop)\n",
        "print('Total no of stopwords: ',total_ct)"
      ],
      "execution_count": null,
      "outputs": [
        {
          "output_type": "stream",
          "name": "stdout",
          "text": [
            "No. of stopwords in each sentence: \n",
            "Sentence  1 , No. of stopwords:  16\n",
            "['only', 'who', 'are', 'against', 'or', 'have', 'from', 'the', 'the', 'will', 'be', 'to', 'to', 'the', 'of', 'on']\n",
            "Sentence  2 , No. of stopwords:  9\n",
            "['will', 'not', 'be', 'to', 'to', 'their', 'they', 'have', 'for']\n",
            "Sentence  3 , No. of stopwords:  17\n",
            "['will', 'the', 'of', 'should', 'be', 'at', 'and', 'be', 'for', 'the', 'that', 'the', 'are', 'to', 'be', 'at', 'their']\n",
            "Sentence  4 , No. of stopwords:  2\n",
            "['are', 'for']\n",
            "Sentence  5 , No. of stopwords:  19\n",
            "['and', 'the', 'of', 'will', 'more', 'with', 'a', 'on', 'at', 'the', 'to', 'be', 'if', 'they', 'have', 'the', 'of', 'under', 'the']\n",
            "Sentence  6 , No. of stopwords:  5\n",
            "['the', 'for', 'the', 'to', 'be']\n",
            "Sentence  7 , No. of stopwords:  4\n",
            "['have', 'been', 'to', 'the']\n",
            "Sentence  8 , No. of stopwords:  0\n",
            "[]\n",
            "Sentence  9 , No. of stopwords:  10\n",
            "['that', 'who', 'are', 'for', 'all', 'under', 'the', 'will', 'be', 'from']\n",
            "Sentence  10 , No. of stopwords:  49\n",
            "['will', 'for', 'them', 'to', 'or', 'in', 'where', 'the', 'are', 'such', 'as', 'and', 'from', 'of', 'the', 'at', 'a', 'those', 'who', 'are', 'for', 'but', 'are', 'for', 'they', 'will', 'to', 'be', 'with', 'to', 'be', 'to', 'be', 'that', 'such', 'will', 'be', 'a', 'until', 'to', 'their', 'was', 'in', 'the', 'that', 'the', 'will', 'be', 'in']\n",
            "Sentence  11 , No. of stopwords:  0\n",
            "[]\n",
            "Sentence  12 , No. of stopwords:  10\n",
            "['can', 'to', 'in', 'and', 'that', 'will', 'them', 'their', 'and', 'on']\n",
            "Sentence  13 , No. of stopwords:  18\n",
            "['the', 'the', 'for', 'to', 'be', 'in', 'have', 'been', 'as', 'a', 'of', 'which', 'had', 'to', 'be', 'to', 'of', 'the']\n",
            "Sentence  14 , No. of stopwords:  5\n",
            "['is', 'for', 'our', 'to', 'and']\n",
            "Sentence  15 , No. of stopwords:  6\n",
            "['the', 'will', 'for', 'to', 'that', 'and']\n",
            "Total no of stopwords:  170\n"
          ]
        }
      ]
    },
    {
      "cell_type": "code",
      "metadata": {
        "colab": {
          "base_uri": "https://localhost:8080/"
        },
        "id": "E7OAeaFe2OWc",
        "outputId": "0afcbfae-57c8-4f01-afc1-93f8af9dce0e"
      },
      "source": [
        "# Ratio of number of stopwords to total number of words in the article\n",
        "perc_stop = total_ct/article_wordlength(article2)\n",
        "print('Percentage of total article occupied by stopwords: ',perc_stop*100)"
      ],
      "execution_count": null,
      "outputs": [
        {
          "output_type": "stream",
          "name": "stdout",
          "text": [
            "Percentage of total article occupied by stopwords:  34.623217922606926\n"
          ]
        }
      ]
    },
    {
      "cell_type": "code",
      "metadata": {
        "colab": {
          "base_uri": "https://localhost:8080/",
          "height": 295
        },
        "id": "pgWh9ZGK5rWo",
        "outputId": "52cf5321-71b8-488b-d788-f95461758eb8"
      },
      "source": [
        "avgword_vs_stopwords(article2)"
      ],
      "execution_count": null,
      "outputs": [
        {
          "output_type": "display_data",
          "data": {
            "image/png": "[encoded data removed]",
            "text/plain": [
              "<Figure size 432x288 with 1 Axes>"
            ]
          },
          "metadata": {
            "needs_background": "light"
          }
        }
      ]
    },
    {
      "cell_type": "code",
      "metadata": {
        "colab": {
          "base_uri": "https://localhost:8080/"
        },
        "id": "YE-g2TJKYlVq",
        "outputId": "9137cdf1-b67d-49d8-8cee-b05d15c791fc"
      },
      "source": [
        "print('No. of numerical words in each sentence: ')\n",
        "find_digs(article2)"
      ],
      "execution_count": null,
      "outputs": [
        {
          "output_type": "stream",
          "name": "stdout",
          "text": [
            "No. of numerical words in each sentence: \n",
            "Sentence  1  No. of numerical data:  4\n",
            "['1', '19', '270', '23']\n",
            "Sentence  2  No. of numerical data:  1\n",
            "['19']\n",
            "Sentence  4  No. of numerical data:  1\n",
            "['24']\n",
            "Sentence  10  No. of numerical data:  5\n",
            "['1', '2021', '19', '31', '19']\n",
            "Sentence  13  No. of numerical data:  1\n",
            "['19']\n"
          ]
        }
      ]
    },
    {
      "cell_type": "markdown",
      "metadata": {
        "id": "SoLCqB3wYlVq"
      },
      "source": [
        "In news articles, fully capitalised words are usually found as titles, subheadings or abbreviations\n",
        "<br> Words that have been capitalised are most likely to be proper nouns, apart from sentence beginnings"
      ]
    },
    {
      "cell_type": "code",
      "metadata": {
        "colab": {
          "base_uri": "https://localhost:8080/"
        },
        "id": "SYynnXryYlVq",
        "outputId": "786e5cc7-69dc-441e-e2cc-443b1825e4b0"
      },
      "source": [
        "print('Capitalised / Uppercase words')\n",
        "uppercase(article2)"
      ],
      "execution_count": null,
      "outputs": [
        {
          "output_type": "stream",
          "name": "stdout",
          "text": [
            "Capitalised / Uppercase words\n",
            "UPPERCASE\n",
            "Sentence 1: SINGAPORE:\n",
            "Sentence 1: COVID-19\n",
            "Sentence 1: (MOH)\n",
            "Sentence 2: COVID-19.\n",
            "Sentence 5: MOH\n",
            "Sentence 8: SPECIAL\n",
            "Sentence 8: CONCESSION\n",
            "Sentence 8: FOR\n",
            "Sentence 8: THOSE\n",
            "Sentence 8: MEDICALLY\n",
            "Sentence 8: INELIGIBLE\n",
            "Sentence 8: FOR\n",
            "Sentence 8: VACCINES.\n",
            "Sentence 9: MOH\n",
            "Sentence 10: COVID-19\n",
            "Sentence 10: COVID-19\n",
            "Sentence 11: ACTIVITIES\n",
            "Sentence 11: FOR\n",
            "Sentence 11: SENIORS.\n",
            "Sentence 12: MOH\n",
            "Sentence 13: COVID-19,\\”\n",
            "CAPITALISED\n",
            "Sentence 1: From\n",
            "Sentence 1: Jan\n",
            "Sentence 1: Ministry\n",
            "Sentence 1: Health\n",
            "Sentence 1: Saturday\n",
            "Sentence 2: Unvaccinated\n",
            "Sentence 3: These\n",
            "Sentence 4: Negative\n",
            "Sentence 5: Ministry\n",
            "Sentence 5: Manpower\n",
            "Sentence 5: World\n",
            "Sentence 5: Health\n",
            "Sentence 5: Organization\n",
            "Sentence 6: This\n",
            "Sentence 7: Their\n",
            "Sentence 9: On\n",
            "Sentence 9: Saturday,\n",
            "Sentence 10: Nov\n",
            "Sentence 10: Gan\n",
            "Sentence 10: Kim\n",
            "Sentence 10: Yong\n",
            "Sentence 10: Sinovac,\n",
            "Sentence 10: Sinovac\n",
            "Sentence 10: Mr\n",
            "Sentence 10: Gan\n",
            "Sentence 10: Dec\n",
            "Sentence 10: Sinovac\n",
            "Sentence 10: Sinovac\n",
            "Sentence 10: Singapore\\’s\n",
            "Sentence 12: Fully\n",
            "Sentence 12: Saturday.\n",
            "Sentence 15: Hence,\n",
            "Sentence 15: People\\’s\n",
            "Sentence 15: Association\n",
            "Sentence 15: Mr\n",
            "Sentence 15: Gan\n"
          ]
        }
      ]
    },
    {
      "cell_type": "markdown",
      "metadata": {
        "id": "VFNsm7RpIBFN"
      },
      "source": [
        "### Stack Overflow Article #1\n",
        "<br> **Title**: I'm getting Key error in Python"
      ]
    },
    {
      "cell_type": "code",
      "metadata": {
        "id": "wxtOTwITH_Ye",
        "colab": {
          "base_uri": "https://localhost:8080/"
        },
        "outputId": "8308b86a-99eb-4a5b-979d-ce862d81dd81"
      },
      "source": [
        "url3 = 'https://stackoverflow.com/questions/10116518/im-getting-key-error-in-python'\n",
        "html = urlopen(url3).read()\n",
        "soup = BS(html,\"html5lib\")\n",
        "type(soup)"
      ],
      "execution_count": null,
      "outputs": [
        {
          "output_type": "execute_result",
          "data": {
            "text/plain": [
              "bs4.BeautifulSoup"
            ]
          },
          "metadata": {},
          "execution_count": 67
        }
      ]
    },
    {
      "cell_type": "code",
      "metadata": {
        "colab": {
          "base_uri": "https://localhost:8080/"
        },
        "id": "hXhVjXdAIvos",
        "outputId": "8d315b6a-19af-4b85-f0c6-05932c2fffce"
      },
      "source": [
        "soup.title"
      ],
      "execution_count": null,
      "outputs": [
        {
          "output_type": "execute_result",
          "data": {
            "text/plain": [
              "<title>dictionary - I'm getting Key error in python - Stack Overflow</title>"
            ]
          },
          "metadata": {},
          "execution_count": 68
        }
      ]
    },
    {
      "cell_type": "code",
      "metadata": {
        "colab": {
          "base_uri": "https://localhost:8080/"
        },
        "id": "0odUOv7BIvos",
        "outputId": "9c378044-23a3-463f-de4e-7e12b4423fba"
      },
      "source": [
        "#script.decompose testing\n",
        "for script in soup([\"script\", \"style\"]):\n",
        "    script.decompose()\n",
        "print(' '.join(soup.stripped_strings))"
      ],
      "execution_count": null,
      "outputs": [
        {
          "output_type": "stream",
          "name": "stdout",
          "text": [
            "dictionary - I'm getting Key error in python - Stack Overflow Stack Overflow About Products For Teams Stack Overflow Public questions & answers Stack Overflow for Teams Where developers & technologists share private knowledge with coworkers Jobs Programming & related technical career opportunities Talent Recruit tech talent & build your employer brand Advertising Reach developers & technologists worldwide About the company Loading… Log in Sign up current community Stack Overflow help chat Meta Stack Overflow your communities Sign up or log in to customize your list. more stack exchange communities company blog Home Public Questions Tags Users Collectives Explore Collectives Find a Job Jobs Companies Teams Stack Overflow for Teams – Collaborate and share knowledge with a private group. Create a free Team What is Teams? Teams Create free Team Collectives on Stack Overflow Find centralized, trusted content and collaborate around the technologies you use most. Learn more Teams Q&A for work Connect and share knowledge within a single location that is structured and easy to search. Learn more I'm getting Key error in python Ask Question Asked 9 years, 6 months ago Active 1 year, 3 months ago Viewed 823k times 217 49 In my python program I am getting this error: KeyError: 'variablename' From this code: path = meta_entry['path'].strip('/'), Can anyone please explain why this is happening? python dictionary Share Improve this question Follow edited Jul 15 '15 at 23:50 Eric Leschinski 128k 86 86 gold badges 390 390 silver badges 322 322 bronze badges asked Apr 12 '12 at 2:11 David Liaw David Liaw 2,757 2 2 gold badges 18 18 silver badges 26 26 bronze badges 2 12 Key error generally means the key doesn't exist. So,are you sure 'path' exist.? – RanRag Apr 12 '12 at 2:13 3 Print the contents of meta_entry and ensure the key you want exists. – Makoto Apr 12 '12 at 2:14 Add a comment | 8 Answers 8 Active Oldest Votes 296 A KeyError generally means the key doesn't exist. So, are you sure the path key exists? From the official python docs: exception KeyError Raised when a mapping (dictionary) key is not found in the set of\n",
            "  existing keys. For example: >>> mydict = {'a':'1','b':'2'}\n",
            ">>> mydict['a']\n",
            "'1'\n",
            ">>> mydict['c']\n",
            "Traceback (most recent call last):\n",
            "  File \"<stdin>\", line 1, in <module>\n",
            "KeyError: 'c'\n",
            ">>> So, try to print the content of meta_entry and check whether path exists or not. >>> mydict = {'a':'1','b':'2'}\n",
            ">>> print mydict\n",
            "{'a': '1', 'b': '2'} Or, you can do: >>> 'a' in mydict\n",
            "True\n",
            ">>> 'c' in mydict\n",
            "False Share Improve this answer Follow edited Jun 14 '17 at 9:01 maxkoryukov 3,203 5 5 gold badges 26 26 silver badges 48 48 bronze badges answered Apr 12 '12 at 2:15 RanRag RanRag 45k 34 34 gold badges 107 107 silver badges 157 157 bronze badges 19 hmm...how would I do that? (Sorry for being a noob) The app is hosted on google app engine and I don't have access to any files that it creates. – David Liaw Apr 12 '12 at 2:49 I have access to my code but none of the code that it creates or the engine uses – David Liaw Apr 12 '12 at 5:22 So, the code you posted path = meta_entry['path'].strip('/'), is it part of your code or the engine. If it is part of the engine i am afraid nothing can't be done. – RanRag Apr 12 '12 at 5:24 @lonehangman: than just do print meta_entry and check if it contains path or not. – RanRag Apr 15 '12 at 4:59 1 Adam Lewis solution is simple and efficient – Behnam Heydari Jan 16 '20 at 15:20 | Show 14 more comments 136 I fully agree with the Key error comments.  You could also use the dictionary's get() method as well to avoid the exceptions.  This could also be used to give a default path rather than None as shown below. >>> d = {\"a\":1, \"b\":2}\n",
            ">>> x = d.get(\"A\",None)\n",
            ">>> print x\n",
            "None Share Improve this answer Follow answered Apr 12 '12 at 2:20 Adam Lewis Adam Lewis 6,417 6 6 gold badges 37 37 silver badges 60 60 bronze badges 2 9 +1 for very relevant .get() comment. Looks like a good application of the Python EAFP (Easier to Ask for Forgiveness than Permission) instead of LBYL (Look Before You Leap) which I think is less Pythonic. – Niels Bom Apr 24 '12 at 11:08 How to get key nested using get()? – Slowaways Dec 28 '20 at 15:39 Add a comment | 39 For dict, just use if key in dict and don't use searching in key list if key in dict.keys() The latter will be more time-consuming. Share Improve this answer Follow edited Jul 13 '20 at 16:53 Roberto Caboni 6,386 10 10 gold badges 22 22 silver badges 37 37 bronze badges answered Feb 18 '16 at 15:02 keywind keywind 1,025 14 14 silver badges 24 24 bronze badges 0 Add a comment | 5 Yes, it is most likely caused by non-exsistent key. In my program, I used setdefault to mute this error, for efficiency concern. \n",
            "depending on how efficient is this line >>>'a' in mydict.keys() I am new to Python too. In fact I have just learned it today. So forgive me on the ignorance of efficiency. In Python 3, you can also use this function, get(key[, default]) [function doc][1] It is said that it will never raise a key error. Share Improve this answer Follow edited Jan 10 '13 at 21:51 answered Jan 10 '13 at 21:44 Glenn Yu Glenn Yu 603 1 1 gold badge 7 7 silver badges 11 11 bronze badges 1 The get method is ancient, I think even 1.x dicts had it.  But I'm sure 2.7 already had it. – Jürgen A. Erhard Feb 21 '17 at 9:22 Add a comment | 4 This means your array is missing the key you're looking for. I handle this with a function which either returns the value if it exists or it returns a default value instead. def keyCheck(key, arr, default):\n",
            "    if key in arr.keys():\n",
            "        return arr[key]\n",
            "    else:\n",
            "        return default\n",
            "\n",
            "\n",
            "myarray = {'key1':1, 'key2':2}\n",
            "\n",
            "print keyCheck('key1', myarray, '#default')\n",
            "print keyCheck('key2', myarray, '#default')\n",
            "print keyCheck('key3', myarray, '#default') Output: 1\n",
            "2\n",
            "#default Share Improve this answer Follow answered Aug 1 '13 at 0:31 Ben Sullins Ben Sullins 235 2 2 silver badges 9 9 bronze badges 1 7 Argh... horrible, horrible unpythonic code.  Don't write PHP code in Python: it's not an array, it's a dictionary (you may call it a hash, but array is right out).  And: dicts already have your \"keyCheck\" function:  instead of \"keyCheck('key1', myarray, '#default')\" you'd do \"mydict.get('key1', '#default')\" – Jürgen A. Erhard Feb 21 '17 at 9:21 Add a comment | 3 I received this error when I was parsing dict with nested for : cats = {'Tom': {'color': 'white', 'weight': 8}, 'Klakier': {'color': 'black', 'weight': 10}}\n",
            "cat_attr = {}\n",
            "for cat in cats:\n",
            "    for attr in cat:\n",
            "        print(cats[cat][attr]) Traceback: Traceback (most recent call last):\n",
            "      File \"<input>\", line 3, in <module>\n",
            "    KeyError: 'K' Because in second loop should be cats[cat] instead just cat (what is just a key) So: cats = {'Tom': {'color': 'white', 'weight': 8}, 'Klakier': {'color': 'black', 'weight': 10}}\n",
            "cat_attr = {}\n",
            "for cat in cats:\n",
            "    for attr in cats[cat]:\n",
            "        print(cats[cat][attr]) Gives black\n",
            "10\n",
            "white\n",
            "8 Share Improve this answer Follow answered Feb 8 '18 at 12:25 pbaranski pbaranski 18.9k 16 16 gold badges 91 91 silver badges 106 106 bronze badges Add a comment | 1 Let us make it simple if you're using Python 3 mydict = {'a':'apple','b':'boy','c':'cat'}\n",
            "check = 'c' in mydict\n",
            "if check:\n",
            "    print('c key is present') If you need else condition mydict = {'a':'apple','b':'boy','c':'cat'}\n",
            "if 'c' in mydict:\n",
            "    print('key present')\n",
            "else:\n",
            "    print('key not found') For the dynamic key value, you can also handle through try-exception block mydict = {'a':'apple','b':'boy','c':'cat'}\n",
            "try:\n",
            "    print(mydict['c'])\n",
            "except KeyError:\n",
            "    print('key value not found')mydict = {'a':'apple','b':'boy','c':'cat'} Share Improve this answer Follow answered Jun 29 '20 at 4:24 Muthu Kumar Muthu Kumar 446 4 4 silver badges 9 9 bronze badges Add a comment | 0 For example, if this is a number : ouloulou={\n",
            "    1:US,\n",
            "    2:BR,\n",
            "    3:FR\n",
            "    }\n",
            "ouloulou[1]() It's work perfectly, but if you use for example : ouloulou[input(\"select 1 2 or 3\"]() it's doesn't work, because your input return string '1'. So you need to use int() ouloulou[int(input(\"select 1 2 or 3\"))]() Share Improve this answer Follow answered Aug 2 '19 at 22:36 lemoinemeddy lemoinemeddy 34 1 1 bronze badge Add a comment | Your Answer Thanks for contributing an answer to Stack Overflow! Please be sure to answer the question . Provide details and share your research! But avoid … Asking for help, clarification, or responding to other answers. Making statements based on opinion; back them up with references or personal experience. To learn more, see our tips on writing great answers . Draft saved Draft discarded Sign up or log in Sign up using Google Sign up using Facebook Sign up using Email and Password Submit Post as a guest Name Email Required, but never shown Post as a guest Name Email Required, but never shown Post Your Answer Discard By clicking “Post Your Answer”, you agree to our terms of service , privacy policy and cookie policy Not the answer you're looking for? Browse other questions tagged python dictionary or ask your own question . The Overflow Blog Why hooks are the best thing to happen to React Podcast 386: Quality code is the easiest to delete Upcoming Events 2021 Community Moderator Election ends in 3 days Featured on Meta Version labels for answers Now live: A fully responsive profile Candidate changes in 2021 Moderator Election – review your ballot Linked 0 I am Trying to Save Multiple Dictionaries to a List at a Time Whilst Keeping Their Values, But It Isn't Working 0 How to fix KeyError in python --> KeyError: 'compensation_remaining_leaves' 0 strange error in loops -1 Find the average from a nested dictionary -2 Why does the name variable give a key error? 5 KeyError on If-Condition in dictionary Python 3 Combining multiple dictionaries into a nested dictionary (Python) 2 Creating a dictionary while iterating through multiple for loops? 1 Error while Iterating through a list 0 How to correctly return an output dictionary in Zapier Code (Python)? See more linked questions Related 6409 What are metaclasses in Python? 4952 How can I safely create a nested directory in Python? 6984 Does Python have a ternary conditional operator? 3385 How to get the current time in Python 3080 Convert bytes to a string 2679 Check if a given key already exists in a dictionary 1134 How to copy a dictionary and only edit the copy 3596 Does Python have a string 'contains' substring method? 2028 Why is reading lines from stdin much slower in C++ than Python? 2321 How can I remove a key from a Python dictionary? Hot Network Questions Origin of the word \"de\" in the name of Danish astronomer Tycho de Brahe Consequences of an altered square cube law Probability of defeating a dragon in one turn rolling a 20 sided die Is it OK to say \"a cat is on the table\"? Why didn't they notice the invasion in Dune? Domain names mirroring my domain except for small details Nuclear weapons with 1850s technology is it illegal to falsely use an unrelated act to block/ban things? Why do all fighter jets and aerobatic airplanes have flat wings? How else can a star form, other than gravitational collapse? Tiling the plane with finitely many congruent pieces Why does the infamous \"ENGAGERIDLEYMOTHERFUCKER\" metroid password break NES emulators? Why are lat-lon coordinates written at parking bays in civil airports? Are these alternate \"ears\" realistic? Why would \"hot gases\" from a volcano damage helicopter rotors? Help with becoming overly obsessive (about mathematics) Why are Hypothesis Tests still used when we have the Bootstrap and Central Limit Theorem? Tikz: how to position arrows emanating from a sentence? Use & inside commands Does the PCB have to be thinner than through-hole pin length? Film lab not developing all photos How do you test-fire vacuum engines in a vacuum chamber? Why doesn't it fill up almost instantly from the exhaust and spray (deluge) water? Print Gobar Primes Why tldr | xclip outputs escape codes looking like timestamp, and how to remove it? more hot questions Question feed Subscribe to RSS Question feed To subscribe to this RSS feed, copy and paste this URL into your RSS reader. lang-py Stack Overflow Questions Jobs Developer Jobs Directory Salary Calculator Help Mobile Products Teams Talent Advertising Enterprise Company About Press Work Here Legal Privacy Policy Terms of Service Contact Us Cookie Settings Cookie Policy Stack Exchange Network Technology Life / Arts Culture / Recreation Science Other Stack Overflow Server Fault Super User Web Applications Ask Ubuntu Webmasters Game Development TeX - LaTeX Software Engineering Unix & Linux Ask Different (Apple) WordPress Development Geographic Information Systems Electrical Engineering Android Enthusiasts Information Security Database Administrators Drupal Answers SharePoint User Experience Mathematica Salesforce ExpressionEngine® Answers Stack Overflow em Português Blender Network Engineering Cryptography Code Review Magento Software Recommendations Signal Processing Emacs Raspberry Pi Stack Overflow на русском Code Golf Stack Overflow en español Ethereum Data Science Arduino Bitcoin Software Quality Assurance & Testing Sound Design Windows Phone more (29) Photography Science Fiction & Fantasy Graphic Design Movies & TV Music: Practice & Theory Worldbuilding Video Production Seasoned Advice (cooking) Home Improvement Personal Finance & Money Academia Law Physical Fitness Gardening & Landscaping Parenting more (10) English Language & Usage Skeptics Mi Yodeya (Judaism) Travel Christianity English Language Learners Japanese Language Chinese Language French Language German Language Biblical Hermeneutics History Spanish Language Islam Русский язык Russian Language Arqade (gaming) Bicycles Role-playing Games Anime & Manga Puzzling Motor Vehicle Maintenance & Repair Board & Card Games Bricks Homebrewing Martial Arts The Great Outdoors Poker Chess Sports more (16) MathOverflow Mathematics Cross Validated (stats) Theoretical Computer Science Physics Chemistry Biology Computer Science Philosophy Linguistics Psychology & Neuroscience Computational Science more (10) Meta Stack Exchange Stack Apps API Data Blog Facebook Twitter LinkedIn Instagram site design / logo © 2021 Stack Exchange Inc; user contributions licensed under cc by-sa . rev 2021.10.22.40552 Stack Overflow works best with JavaScript enabled Your privacy By clicking “Accept all cookies”, you agree Stack Exchange can store cookies on your device and disclose information in accordance with our Cookie Policy . Accept all cookies Customize settings\n"
          ]
        }
      ]
    },
    {
      "cell_type": "code",
      "metadata": {
        "colab": {
          "base_uri": "https://localhost:8080/"
        },
        "id": "_JsRukUFIvot",
        "outputId": "7c37a216-411f-47f2-c8c7-55dbf3646c8b"
      },
      "source": [
        "article = soup.find_all(\"p\")\n",
        "for div in article:\n",
        "  print(div)"
      ],
      "execution_count": null,
      "outputs": [
        {
          "output_type": "stream",
          "name": "stdout",
          "text": [
            "<p class=\"my16 fs-caption fc-medium\">Find centralized, trusted content and collaborate around the technologies you use most.</p>\n",
            "<p class=\"mb2\"><strong>Teams</strong></p>\n",
            "<p class=\"mb12 fs-caption fc-black-400\">Q&amp;A for work</p>\n",
            "<p class=\"mb12 fs-caption fc-medium\">Connect and share knowledge within a single location that is structured and easy to search.</p>\n",
            "<p>In my python program I am getting this error:</p>\n",
            "<p>From this code:</p>\n",
            "<p>Can anyone please explain why this is happening?</p>\n",
            "<p>A <a href=\"https://docs.python.org/library/exceptions.html#KeyError\" rel=\"noreferrer\"><code>KeyError</code></a> generally means the key doesn't exist. So, are you sure the <code>path</code> key exists?</p>\n",
            "<p>From the official python docs:</p>\n",
            "<p><strong>exception KeyError</strong></p>\n",
            "<p>Raised when a mapping (dictionary) key is not found in the set of\n",
            "  existing keys.</p>\n",
            "<p>For example:</p>\n",
            "<p>So, try to print the content of <code>meta_entry</code> and check whether <code>path</code> exists or not.</p>\n",
            "<p>Or, you can do:</p>\n",
            "<p>I fully agree with the Key error comments.  You could also use the <a href=\"http://docs.python.org/library/stdtypes.html#dict\">dictionary's get()</a> method as well to avoid the exceptions.  This could also be used to give a default path rather than <code>None</code> as shown below.</p>\n",
            "<p>For dict, just use</p>\n",
            "<p><code>if key in dict</code></p>\n",
            "<p>and don't use searching in key list</p>\n",
            "<p><code>if key in dict.keys()</code></p>\n",
            "<p>The latter will be more time-consuming.</p>\n",
            "<p>Yes, it is most likely caused by non-exsistent key.</p>\n",
            "<p>In my program, I used setdefault to mute this error, for efficiency concern. \n",
            "depending on how efficient is this line </p>\n",
            "<p>I am new to Python too. In fact I have just learned it today. So forgive me on the ignorance of efficiency.</p>\n",
            "<p>In Python 3, you can also use this function,</p>\n",
            "<p>It is said that it will never raise a key error.</p>\n",
            "<p>This means your array is missing the key you're looking for. I handle this with a function which either returns the value if it exists or it returns a default value instead.</p>\n",
            "<p>Output:</p>\n",
            "<p>I received this error when I was parsing <code>dict</code> with nested <code>for</code>:</p>\n",
            "<p>Traceback:</p>\n",
            "<p>Because in second loop should be <code>cats[cat]</code> instead just <code>cat</code> (what is just a key)</p>\n",
            "<p>So:</p>\n",
            "<p>Gives</p>\n",
            "<p>Let us make it simple if you're using Python 3</p>\n",
            "<p>If you need else condition</p>\n",
            "<p>For the dynamic key value, you can also handle through try-exception block</p>\n",
            "<p>For example, if this is a number :</p>\n",
            "<p>It's work perfectly, <strong>but</strong>  if you use for example :</p>\n",
            "<p>it's doesn't work, because your input return string '1'. So you need to use <strong>int()</strong></p>\n",
            "<p>Thanks for contributing an answer to Stack Overflow!</p>\n",
            "<p>But <em>avoid</em> …</p>\n",
            "<p>To learn more, see our <a href=\"/help/how-to-answer\">tips on writing great answers</a>.</p>\n",
            "<p class=\"flex--item s-description\">Required, but never shown</p>\n",
            "<p class=\"flex--item s-description\">Required, but never shown</p>\n",
            "<p class=\"privacy-policy-agreement\">\n",
            "                                                By clicking “Post Your Answer”, you agree to our <a class=\"-link\" href=\"https://stackoverflow.com/legal/terms-of-service/public\" name=\"tos\" target=\"_blank\">terms of service</a>, <a class=\"-link\" href=\"https://stackoverflow.com/legal/privacy-policy\" name=\"privacy\" target=\"_blank\">privacy policy</a> and <a class=\"-link\" href=\"https://stackoverflow.com/legal/cookie-policy\" name=\"cookie\" target=\"_blank\">cookie policy</a><input name=\"legalLinksShown\" type=\"hidden\" value=\"1\"/>\n",
            "                                            </p>\n",
            "<p class=\"s-description mt2\" id=\"feed-modal-description\">To subscribe to this RSS feed, copy and paste this URL into your RSS reader.</p>\n",
            "<p class=\"mt-auto mb24\">\n",
            "site design / logo © 2021 Stack Exchange Inc; user contributions licensed under <a href=\"https://stackoverflow.com/help/licensing\">cc by-sa</a>.                    <span id=\"svnrev\">rev 2021.10.22.40552</span>\n",
            "                </p>\n",
            "<p class=\"fs-body2 fw-bold mb4\">\n",
            "                        Your privacy\n",
            "                    </p>\n",
            "<p class=\"mb16 s-anchors s-anchors__inherit s-anchors__underlined\">\n",
            "                        By clicking “Accept all cookies”, you agree Stack Exchange can store cookies on your device and disclose information in accordance with our <a href=\"https://stackoverflow.com/legal/cookie-policy\">Cookie Policy</a>.\n",
            "                    </p>\n"
          ]
        }
      ]
    },
    {
      "cell_type": "code",
      "metadata": {
        "colab": {
          "base_uri": "https://localhost:8080/"
        },
        "id": "6bqU8VY2Rcrr",
        "outputId": "69cac874-387d-4a0b-9753-eff0c3476054"
      },
      "source": [
        "# getting the code embedded into the article using the code tags\n",
        "\n",
        "code = soup.findAll('code')     \n",
        "print(code)   "
      ],
      "execution_count": null,
      "outputs": [
        {
          "output_type": "stream",
          "name": "stdout",
          "text": [
            "[<code>KeyError: 'variablename'\n",
            "</code>, <code>path = meta_entry['path'].strip('/'),\n",
            "</code>, <code>Key error</code>, <code>key</code>, <code>meta_entry</code>, <code>KeyError</code>, <code>path</code>, <code>&gt;&gt;&gt; mydict = {'a':'1','b':'2'}\n",
            "&gt;&gt;&gt; mydict['a']\n",
            "'1'\n",
            "&gt;&gt;&gt; mydict['c']\n",
            "Traceback (most recent call last):\n",
            "  File \"&lt;stdin&gt;\", line 1, in &lt;module&gt;\n",
            "KeyError: 'c'\n",
            "&gt;&gt;&gt;\n",
            "</code>, <code>meta_entry</code>, <code>path</code>, <code>&gt;&gt;&gt; mydict = {'a':'1','b':'2'}\n",
            "&gt;&gt;&gt; print mydict\n",
            "{'a': '1', 'b': '2'}\n",
            "</code>, <code>&gt;&gt;&gt; 'a' in mydict\n",
            "True\n",
            "&gt;&gt;&gt; 'c' in mydict\n",
            "False\n",
            "</code>, <code>path = meta_entry['path'].strip('/'),</code>, <code>print meta_entry</code>, <code>path</code>, <code>None</code>, <code>&gt;&gt;&gt; d = {\"a\":1, \"b\":2}\n",
            "&gt;&gt;&gt; x = d.get(\"A\",None)\n",
            "&gt;&gt;&gt; print x\n",
            "None\n",
            "</code>, <code>if key in dict</code>, <code>if key in dict.keys()</code>, <code>&gt;&gt;&gt;'a' in mydict.keys()  \n",
            "</code>, <code>get(key[, default]) [function doc][1]\n",
            "</code>, <code>def keyCheck(key, arr, default):\n",
            "    if key in arr.keys():\n",
            "        return arr[key]\n",
            "    else:\n",
            "        return default\n",
            "\n",
            "\n",
            "myarray = {'key1':1, 'key2':2}\n",
            "\n",
            "print keyCheck('key1', myarray, '#default')\n",
            "print keyCheck('key2', myarray, '#default')\n",
            "print keyCheck('key3', myarray, '#default')\n",
            "</code>, <code>1\n",
            "2\n",
            "#default\n",
            "</code>, <code>dict</code>, <code>for</code>, <code>cats = {'Tom': {'color': 'white', 'weight': 8}, 'Klakier': {'color': 'black', 'weight': 10}}\n",
            "cat_attr = {}\n",
            "for cat in cats:\n",
            "    for attr in cat:\n",
            "        print(cats[cat][attr])\n",
            "</code>, <code>Traceback (most recent call last):\n",
            "      File \"&lt;input&gt;\", line 3, in &lt;module&gt;\n",
            "    KeyError: 'K'\n",
            "</code>, <code>cats[cat]</code>, <code>cat</code>, <code>cats = {'Tom': {'color': 'white', 'weight': 8}, 'Klakier': {'color': 'black', 'weight': 10}}\n",
            "cat_attr = {}\n",
            "for cat in cats:\n",
            "    for attr in cats[cat]:\n",
            "        print(cats[cat][attr])\n",
            "</code>, <code>black\n",
            "10\n",
            "white\n",
            "8\n",
            "</code>, <code>mydict = {'a':'apple','b':'boy','c':'cat'}\n",
            "check = 'c' in mydict\n",
            "if check:\n",
            "    print('c key is present')\n",
            "</code>, <code>mydict = {'a':'apple','b':'boy','c':'cat'}\n",
            "if 'c' in mydict:\n",
            "    print('key present')\n",
            "else:\n",
            "    print('key not found')\n",
            "</code>, <code>mydict = {'a':'apple','b':'boy','c':'cat'}\n",
            "try:\n",
            "    print(mydict['c'])\n",
            "except KeyError:\n",
            "    print('key value not found')mydict = {'a':'apple','b':'boy','c':'cat'}\n",
            "</code>, <code>ouloulou={\n",
            "    1:US,\n",
            "    2:BR,\n",
            "    3:FR\n",
            "    }\n",
            "ouloulou[1]()\n",
            "</code>, <code>ouloulou[input(\"select 1 2 or 3\"]()\n",
            "</code>, <code>ouloulou[int(input(\"select 1 2 or 3\"))]()\n",
            "</code>]\n"
          ]
        }
      ]
    },
    {
      "cell_type": "code",
      "metadata": {
        "id": "fv-QDTHMIvot"
      },
      "source": [
        "invalid_tags = ['img','a','strong','em','code','input','span']\n",
        "for tag in invalid_tags: \n",
        "  for match in soup.findAll(tag):\n",
        "    match.replaceWithChildren()"
      ],
      "execution_count": null,
      "outputs": []
    },
    {
      "cell_type": "code",
      "metadata": {
        "id": "Xpl4dU--Ivot"
      },
      "source": [
        "article = soup.find_all(\"p\")\n",
        "stack_over1 = []\n",
        "for tag in article:\n",
        "  for p_child in tag.children:\n",
        "    stack_over1.append(p_child)"
      ],
      "execution_count": null,
      "outputs": []
    },
    {
      "cell_type": "code",
      "metadata": {
        "colab": {
          "base_uri": "https://localhost:8080/"
        },
        "id": "QcH0wJXdR2Ku",
        "outputId": "60d1f77e-3363-448d-a4c2-f3a06135ac0a"
      },
      "source": [
        "print(stack_over1)"
      ],
      "execution_count": null,
      "outputs": [
        {
          "output_type": "stream",
          "name": "stdout",
          "text": [
            "['Find centralized, trusted content and collaborate around the technologies you use most.', 'Teams', 'Q&A for work', 'Connect and share knowledge within a single location that is structured and easy to search.', 'In my python program I am getting this error:', 'From this code:', 'Can anyone please explain why this is happening?', 'A ', 'KeyError', \" generally means the key doesn't exist. So, are you sure the \", 'path', ' key exists?', 'From the official python docs:', 'exception KeyError', 'Raised when a mapping (dictionary) key is not found in the set of\\n  existing keys.', 'For example:', 'So, try to print the content of ', 'meta_entry', ' and check whether ', 'path', ' exists or not.', 'Or, you can do:', 'I fully agree with the Key error comments.  You could also use the ', \"dictionary's get()\", ' method as well to avoid the exceptions.  This could also be used to give a default path rather than ', 'None', ' as shown below.', 'For dict, just use', 'if key in dict', \"and don't use searching in key list\", 'if key in dict.keys()', 'The latter will be more time-consuming.', 'Yes, it is most likely caused by non-exsistent key.', 'In my program, I used setdefault to mute this error, for efficiency concern. \\ndepending on how efficient is this line ', 'I am new to Python too. In fact I have just learned it today. So forgive me on the ignorance of efficiency.', 'In Python 3, you can also use this function,', 'It is said that it will never raise a key error.', \"This means your array is missing the key you're looking for. I handle this with a function which either returns the value if it exists or it returns a default value instead.\", 'Output:', 'I received this error when I was parsing ', 'dict', ' with nested ', 'for', ':', 'Traceback:', 'Because in second loop should be ', 'cats[cat]', ' instead just ', 'cat', ' (what is just a key)', 'So:', 'Gives', \"Let us make it simple if you're using Python 3\", 'If you need else condition', 'For the dynamic key value, you can also handle through try-exception block', 'For example, if this is a number :', \"It's work perfectly, \", 'but', '  if you use for example :', \"it's doesn't work, because your input return string '1'. So you need to use \", 'int()', 'Thanks for contributing an answer to Stack Overflow!', 'But ', 'avoid', ' …', 'To learn more, see our ', 'tips on writing great answers', '.', 'Required, but never shown', 'Required, but never shown', '\\n                                                By clicking “Post Your Answer”, you agree to our ', 'terms of service', ', ', 'privacy policy', ' and ', 'cookie policy', '\\n                                            ', 'To subscribe to this RSS feed, copy and paste this URL into your RSS reader.', '\\nsite design / logo © 2021 Stack Exchange Inc; user contributions licensed under ', 'cc by-sa', '.                    ', 'rev\\xa02021.10.22.40552', '\\n                ', '\\n                        Your privacy\\n                    ', '\\n                        By clicking “Accept all cookies”, you agree Stack Exchange can store cookies on your device and disclose information in accordance with our ', 'Cookie Policy', '.\\n                    ']\n"
          ]
        }
      ]
    },
    {
      "cell_type": "code",
      "metadata": {
        "colab": {
          "base_uri": "https://localhost:8080/"
        },
        "id": "L6nMXZVRIvot",
        "outputId": "34774672-c18a-4d98-85cd-5291e71990f2"
      },
      "source": [
        "stack_over1 = ' '.join(stack_over1)\n",
        "print(stack_over1)"
      ],
      "execution_count": null,
      "outputs": [
        {
          "output_type": "stream",
          "name": "stdout",
          "text": [
            "Find centralized, trusted content and collaborate around the technologies you use most. Teams Q&A for work Connect and share knowledge within a single location that is structured and easy to search. In my python program I am getting this error: From this code: Can anyone please explain why this is happening? A  KeyError  generally means the key doesn't exist. So, are you sure the  path  key exists? From the official python docs: exception KeyError Raised when a mapping (dictionary) key is not found in the set of\n",
            "  existing keys. For example: So, try to print the content of  meta_entry  and check whether  path  exists or not. Or, you can do: I fully agree with the Key error comments.  You could also use the  dictionary's get()  method as well to avoid the exceptions.  This could also be used to give a default path rather than  None  as shown below. For dict, just use if key in dict and don't use searching in key list if key in dict.keys() The latter will be more time-consuming. Yes, it is most likely caused by non-exsistent key. In my program, I used setdefault to mute this error, for efficiency concern. \n",
            "depending on how efficient is this line  I am new to Python too. In fact I have just learned it today. So forgive me on the ignorance of efficiency. In Python 3, you can also use this function, It is said that it will never raise a key error. This means your array is missing the key you're looking for. I handle this with a function which either returns the value if it exists or it returns a default value instead. Output: I received this error when I was parsing  dict  with nested  for : Traceback: Because in second loop should be  cats[cat]  instead just  cat  (what is just a key) So: Gives Let us make it simple if you're using Python 3 If you need else condition For the dynamic key value, you can also handle through try-exception block For example, if this is a number : It's work perfectly,  but   if you use for example : it's doesn't work, because your input return string '1'. So you need to use  int() Thanks for contributing an answer to Stack Overflow! But  avoid  … To learn more, see our  tips on writing great answers . Required, but never shown Required, but never shown \n",
            "                                                By clicking “Post Your Answer”, you agree to our  terms of service ,  privacy policy  and  cookie policy \n",
            "                                             To subscribe to this RSS feed, copy and paste this URL into your RSS reader. \n",
            "site design / logo © 2021 Stack Exchange Inc; user contributions licensed under  cc by-sa .                     rev 2021.10.22.40552 \n",
            "                 \n",
            "                        Your privacy\n",
            "                     \n",
            "                        By clicking “Accept all cookies”, you agree Stack Exchange can store cookies on your device and disclose information in accordance with our  Cookie Policy .\n",
            "                    \n"
          ]
        }
      ]
    },
    {
      "cell_type": "code",
      "metadata": {
        "colab": {
          "base_uri": "https://localhost:8080/"
        },
        "id": "htTV8J8FZL8S",
        "outputId": "abb7cc77-ffa5-442c-b130-7e781a11160f"
      },
      "source": [
        "# Number of sentences in article\n",
        "print('No. of sentences in this article: ',article_sentlength(stack_over1))\n",
        "# Number of words in article\n",
        "print('No. of words in this article: ',article_wordlength(stack_over1))"
      ],
      "execution_count": null,
      "outputs": [
        {
          "output_type": "stream",
          "name": "stdout",
          "text": [
            "No. of sentences in this article:  25\n",
            "No. of words in this article:  555\n"
          ]
        }
      ]
    },
    {
      "cell_type": "code",
      "metadata": {
        "colab": {
          "base_uri": "https://localhost:8080/"
        },
        "id": "ikn9qEIqZL8X",
        "outputId": "c642604c-4239-46b3-8fce-f08ca2f67784"
      },
      "source": [
        "print('Average number of words in a sentence: ',avg_wordcount(stack_over1))"
      ],
      "execution_count": null,
      "outputs": [
        {
          "output_type": "stream",
          "name": "stdout",
          "text": [
            "Average number of words in a sentence:  22.2\n"
          ]
        }
      ]
    },
    {
      "cell_type": "code",
      "metadata": {
        "colab": {
          "base_uri": "https://localhost:8080/"
        },
        "id": "Bc6I6KgWZL8X",
        "outputId": "302fc5bb-1e20-4ed4-f2f6-f15314b405a7"
      },
      "source": [
        "print('Average word length in each sentence: ')\n",
        "avg_sent_word(stack_over1)"
      ],
      "execution_count": null,
      "outputs": [
        {
          "output_type": "stream",
          "name": "stdout",
          "text": [
            "Average word length in each sentence: \n",
            "Sentence  1 :  6.333333333333333\n",
            "Sentence  2 :  4.842105263157895\n",
            "Sentence  3 :  4.55\n",
            "Sentence  4 :  5.25\n",
            "Sentence  5 :  3.75\n",
            "Sentence  6 :  4.954545454545454\n",
            "Sentence  7 :  4.529411764705882\n",
            "Sentence  8 :  3.9166666666666665\n",
            "Sentence  9 :  4.857142857142857\n",
            "Sentence  10 :  4.0\n",
            "Sentence  11 :  4.28\n",
            "Sentence  12 :  4.777777777777778\n",
            "Sentence  13 :  4.923076923076923\n",
            "Sentence  14 :  3.923076923076923\n",
            "Sentence  15 :  3.75\n",
            "Sentence  16 :  4.75\n",
            "Sentence  17 :  3.7\n",
            "Sentence  18 :  4.545454545454546\n",
            "Sentence  19 :  4.380952380952381\n",
            "Sentence  20 :  4.406976744186046\n",
            "Sentence  21 :  4.571428571428571\n",
            "Sentence  22 :  3.7857142857142856\n",
            "Sentence  23 :  4.609756097560975\n",
            "Sentence  24 :  4.6875\n",
            "Sentence  25 :  5.551724137931035\n"
          ]
        }
      ]
    },
    {
      "cell_type": "code",
      "metadata": {
        "colab": {
          "base_uri": "https://localhost:8080/"
        },
        "id": "gUCPy15P2rs2",
        "outputId": "08aa21fa-7f6d-477a-a789-0e9e5a2a1ebd"
      },
      "source": [
        "total_stop = 0\n",
        "print('No. of stopwords in each sentence: ')\n",
        "total_ct = calc_stopwords(stack_over1,total_stop)\n",
        "print('Total no of stopwords: ',total_ct)"
      ],
      "execution_count": null,
      "outputs": [
        {
          "output_type": "stream",
          "name": "stdout",
          "text": [
            "No. of stopwords in each sentence: \n",
            "Sentence  1 , No. of stopwords:  3\n",
            "['and', 'the', 'you']\n",
            "Sentence  2 , No. of stopwords:  7\n",
            "['for', 'and', 'a', 'that', 'is', 'and', 'to']\n",
            "Sentence  3 , No. of stopwords:  7\n",
            "['my', 'am', 'this', 'this', 'why', 'this', 'is']\n",
            "Sentence  4 , No. of stopwords:  2\n",
            "['the', \"doesn't\"]\n",
            "Sentence  5 , No. of stopwords:  3\n",
            "['are', 'you', 'the']\n",
            "Sentence  6 , No. of stopwords:  8\n",
            "['the', 'when', 'a', 'is', 'not', 'in', 'the', 'of']\n",
            "Sentence  7 , No. of stopwords:  5\n",
            "['to', 'the', 'of', 'and', 'or']\n",
            "Sentence  8 , No. of stopwords:  4\n",
            "['you', 'can', 'with', 'the']\n",
            "Sentence  9 , No. of stopwords:  4\n",
            "['the', 'as', 'to', 'the']\n",
            "Sentence  10 , No. of stopwords:  5\n",
            "['be', 'to', 'a', 'than', 'as']\n",
            "Sentence  11 , No. of stopwords:  11\n",
            "['just', 'if', 'in', 'and', \"don't\", 'in', 'if', 'in', 'will', 'be', 'more']\n",
            "Sentence  12 , No. of stopwords:  4\n",
            "['it', 'is', 'most', 'by']\n",
            "Sentence  13 , No. of stopwords:  4\n",
            "['my', 'to', 'this', 'for']\n",
            "Sentence  14 , No. of stopwords:  6\n",
            "['on', 'how', 'is', 'this', 'am', 'to']\n",
            "Sentence  15 , No. of stopwords:  3\n",
            "['have', 'just', 'it']\n",
            "Sentence  16 , No. of stopwords:  4\n",
            "['me', 'on', 'the', 'of']\n",
            "Sentence  17 , No. of stopwords:  8\n",
            "['you', 'can', 'this', 'is', 'that', 'it', 'will', 'a']\n",
            "Sentence  18 , No. of stopwords:  4\n",
            "['your', 'is', 'the', \"you're\"]\n",
            "Sentence  19 , No. of stopwords:  10\n",
            "['this', 'with', 'a', 'which', 'the', 'if', 'it', 'or', 'it', 'a']\n",
            "Sentence  20 , No. of stopwords:  32\n",
            "['this', 'when', 'was', 'with', 'for', 'in', 'should', 'be', 'just', 'is', 'just', 'a', 'it', 'if', \"you're\", 'you', 'the', 'you', 'can', 'through', 'if', 'this', 'is', 'a', 'but', 'if', 'you', 'for', \"it's\", \"doesn't\", 'because', 'your']\n",
            "Sentence  21 , No. of stopwords:  5\n",
            "['you', 'to', 'for', 'an', 'to']\n",
            "Sentence  22 , No. of stopwords:  2\n",
            "['our', 'on']\n",
            "Sentence  23 , No. of stopwords:  13\n",
            "['but', 'but', 'you', 'to', 'our', 'of', 'and', 'to', 'this', 'and', 'this', 'into', 'your']\n",
            "Sentence  24 , No. of stopwords:  1\n",
            "['under']\n",
            "Sentence  25 , No. of stopwords:  9\n",
            "['all', 'you', 'can', 'on', 'your', 'and', 'in', 'with', 'our']\n",
            "Total no of stopwords:  164\n"
          ]
        }
      ]
    },
    {
      "cell_type": "code",
      "metadata": {
        "colab": {
          "base_uri": "https://localhost:8080/"
        },
        "id": "iOjcqqbY2rs2",
        "outputId": "9a20c3cc-dd96-4120-e92e-b64b90f218d6"
      },
      "source": [
        "# Ratio of number of stopwords to total number of words in the article\n",
        "perc_stop = total_ct/article_wordlength(stack_over1)\n",
        "print('Percentage of total article occupied by stopwords: ',perc_stop*100)"
      ],
      "execution_count": null,
      "outputs": [
        {
          "output_type": "stream",
          "name": "stdout",
          "text": [
            "Percentage of total article occupied by stopwords:  29.549549549549546\n"
          ]
        }
      ]
    },
    {
      "cell_type": "code",
      "metadata": {
        "colab": {
          "base_uri": "https://localhost:8080/",
          "height": 295
        },
        "id": "kLptTFm7ZL8X",
        "outputId": "d49cf82d-cd95-4435-fd46-faf385b38a80"
      },
      "source": [
        "avgword_vs_stopwords(stack_over1)"
      ],
      "execution_count": null,
      "outputs": [
        {
          "output_type": "display_data",
          "data": {
            "image/png": "[encoded data removed]",
            "text/plain": [
              "<Figure size 432x288 with 1 Axes>"
            ]
          },
          "metadata": {
            "needs_background": "light"
          }
        }
      ]
    },
    {
      "cell_type": "code",
      "metadata": {
        "colab": {
          "base_uri": "https://localhost:8080/"
        },
        "id": "8NhkSytdZL8X",
        "outputId": "5a723ee0-9c0a-4ef0-9b57-a319303a35af"
      },
      "source": [
        "print('No. of numerical words in each sentence: ')\n",
        "find_digs(stack_over1)"
      ],
      "execution_count": null,
      "outputs": [
        {
          "output_type": "stream",
          "name": "stdout",
          "text": [
            "No. of numerical words in each sentence: \n",
            "Sentence  17  No. of numerical data:  1\n",
            "['3']\n",
            "Sentence  20  No. of numerical data:  2\n",
            "['3', '1']\n",
            "Sentence  24  No. of numerical data:  1\n",
            "['2021']\n",
            "Sentence  25  No. of numerical data:  4\n",
            "['2021', '10', '22', '40552']\n"
          ]
        }
      ]
    },
    {
      "cell_type": "code",
      "metadata": {
        "colab": {
          "base_uri": "https://localhost:8080/"
        },
        "id": "d28XeuGtZL8Y",
        "outputId": "b6576e17-fdfb-4777-ee05-1e80aea5a04f"
      },
      "source": [
        "print('Capitalised / Uppercase words')\n",
        "uppercase(stack_over1)"
      ],
      "execution_count": null,
      "outputs": [
        {
          "output_type": "stream",
          "name": "stdout",
          "text": [
            "Capitalised / Uppercase words\n",
            "UPPERCASE\n",
            "Sentence 2: Q&A\n",
            "Sentence 3: I\n",
            "Sentence 4: A\n",
            "Sentence 8: I\n",
            "Sentence 13: I\n",
            "Sentence 14: I\n",
            "Sentence 15: I\n",
            "Sentence 19: I\n",
            "Sentence 20: I\n",
            "Sentence 20: I\n",
            "Sentence 23: RSS\n",
            "Sentence 23: URL\n",
            "Sentence 23: RSS\n",
            "CAPITALISED\n",
            "Sentence 1: Find\n",
            "Sentence 2: Teams\n",
            "Sentence 2: Connect\n",
            "Sentence 3: In\n",
            "Sentence 3: From\n",
            "Sentence 3: Can\n",
            "Sentence 5: So,\n",
            "Sentence 6: From\n",
            "Sentence 6: Raised\n",
            "Sentence 7: For\n",
            "Sentence 7: So,\n",
            "Sentence 8: Or,\n",
            "Sentence 8: Key\n",
            "Sentence 9: You\n",
            "Sentence 10: This\n",
            "Sentence 10: None\n",
            "Sentence 11: For\n",
            "Sentence 11: The\n",
            "Sentence 12: Yes,\n",
            "Sentence 13: In\n",
            "Sentence 14: Python\n",
            "Sentence 15: In\n",
            "Sentence 16: So\n",
            "Sentence 17: In\n",
            "Sentence 17: Python\n",
            "Sentence 17: It\n",
            "Sentence 18: This\n",
            "Sentence 20: Output:\n",
            "Sentence 20: Traceback:\n",
            "Sentence 20: Because\n",
            "Sentence 20: So:\n",
            "Sentence 20: Gives\n",
            "Sentence 20: Let\n",
            "Sentence 20: Python\n",
            "Sentence 20: If\n",
            "Sentence 20: For\n",
            "Sentence 20: For\n",
            "Sentence 20: It's\n",
            "Sentence 21: So\n",
            "Sentence 21: Thanks\n",
            "Sentence 21: Stack\n",
            "Sentence 21: Overflow!\n",
            "Sentence 22: But\n",
            "Sentence 22: To\n",
            "Sentence 23: Required,\n",
            "Sentence 23: Required,\n",
            "Sentence 23: By\n",
            "Sentence 23: Your\n",
            "Sentence 23: Answer”,\n",
            "Sentence 23: To\n",
            "Sentence 24: Stack\n",
            "Sentence 24: Exchange\n",
            "Sentence 24: Inc;\n",
            "Sentence 25: Your\n",
            "Sentence 25: By\n",
            "Sentence 25: Stack\n",
            "Sentence 25: Exchange\n",
            "Sentence 25: Cookie\n",
            "Sentence 25: Policy\n"
          ]
        }
      ]
    },
    {
      "cell_type": "markdown",
      "metadata": {
        "id": "dSngRoi1ZrP8"
      },
      "source": [
        "### Stack Overflow Article #2\n",
        "<br> **Title**: python - beautifulsoup - TypeError: sequence item 0: expected string, Tag found"
      ]
    },
    {
      "cell_type": "code",
      "metadata": {
        "id": "45mhLEvqZrP9",
        "colab": {
          "base_uri": "https://localhost:8080/"
        },
        "outputId": "9a041191-cb1b-46b0-b001-3e418e424362"
      },
      "source": [
        "url4 = 'https://stackoverflow.com/questions/14264102/python-beautifulsoup-typeerror-sequence-item-0-expected-string-tag-found'\n",
        "html = urlopen(url4).read()\n",
        "soup = BS(html,\"html5lib\")\n",
        "type(soup)"
      ],
      "execution_count": null,
      "outputs": [
        {
          "output_type": "execute_result",
          "data": {
            "text/plain": [
              "bs4.BeautifulSoup"
            ]
          },
          "metadata": {},
          "execution_count": 85
        }
      ]
    },
    {
      "cell_type": "code",
      "metadata": {
        "colab": {
          "base_uri": "https://localhost:8080/"
        },
        "id": "zxrEKr4TZrP9",
        "outputId": "9051cdb4-6e18-41eb-9a33-93d7a53cc90c"
      },
      "source": [
        "soup.title"
      ],
      "execution_count": null,
      "outputs": [
        {
          "output_type": "execute_result",
          "data": {
            "text/plain": [
              "<title>python - beautifulsoup - TypeError: sequence item 0: expected string, Tag found - Stack Overflow</title>"
            ]
          },
          "metadata": {},
          "execution_count": 86
        }
      ]
    },
    {
      "cell_type": "code",
      "metadata": {
        "colab": {
          "base_uri": "https://localhost:8080/"
        },
        "id": "oi30NOOyZrP9",
        "outputId": "6e3c7544-c78e-4794-d19c-f4a703f20d5d"
      },
      "source": [
        "#script.decompose testing\n",
        "for script in soup([\"script\", \"style\"]):\n",
        "    script.decompose()\n",
        "print(' '.join(soup.stripped_strings))"
      ],
      "execution_count": null,
      "outputs": [
        {
          "output_type": "stream",
          "name": "stdout",
          "text": [
            "python - beautifulsoup - TypeError: sequence item 0: expected string, Tag found - Stack Overflow Stack Overflow About Products For Teams Stack Overflow Public questions & answers Stack Overflow for Teams Where developers & technologists share private knowledge with coworkers Jobs Programming & related technical career opportunities Talent Recruit tech talent & build your employer brand Advertising Reach developers & technologists worldwide About the company Loading… Log in Sign up current community Stack Overflow help chat Meta Stack Overflow your communities Sign up or log in to customize your list. more stack exchange communities company blog Home Public Questions Tags Users Collectives Explore Collectives Find a Job Jobs Companies Teams Stack Overflow for Teams – Collaborate and share knowledge with a private group. Create a free Team What is Teams? Teams Create free Team Collectives on Stack Overflow Find centralized, trusted content and collaborate around the technologies you use most. Learn more Teams Q&A for work Connect and share knowledge within a single location that is structured and easy to search. Learn more python - beautifulsoup - TypeError: sequence item 0: expected string, Tag found Ask Question Asked 8 years, 9 months ago Active 6 years, 9 months ago Viewed 8k times 6 I'm using beautifulsoup to extract images and links from a html string. It all works perfectly fine, however with some links that have a tag in the link contents it is throwing an error. Example Link: <a href=\"http://www.example.com\"><strong>Link Text</strong></a> Python Code: soup = BeautifulSoup(contents)\n",
            "links = soup.findAll('a')\n",
            "for link in links:\n",
            "    print link.contents # generates error\n",
            "    print str(link.contents) # outputs [Link Text] Error Message: TypeError: sequence item 0: expected string, Tag found I don't really want to have to loop through any child tags in the link text, I simply want to return the raw contents, is this possible with BS? python beautifulsoup Share Improve this question Follow asked Jan 10 '13 at 17:48 Joe Joe 1,680 8 8 gold badges 39 39 silver badges 60 60 bronze badges 2 1 raw contents == just the visible text? or do you want it to return <strong>Link Text</strong> ? – Martijn Pieters ♦ Jan 10 '13 at 17:50 1 sorry, I mean the text plus whatever the tags are, so in this case I'd like it to output <strong>Link Text</strong> – Joe Jan 10 '13 at 17:51 Add a comment | 1 Answer 1 Active Oldest Votes 15 To grab just the text content of a tag, the element.get_text() method lets you grab (stripped) text from the current element including tags: print link.get_text(' ', strip=True) The first argument is used to join all text elements, and sitting strip to True means all text elements are first stripped of leading and trailing whitespace. This gives you neat processed text in most cases. You can also use the .stripped_strings iterable : print u' '.join(link.stripped_strings) which is essentially the same effect, but you could choose to process or filter the stripped strings first. To get the contents, use str() or unicode() on each child item: print u''.join(unicode(item) for item in link) which will work for both Element and NavigableString items contained. Share Improve this answer Follow edited Jan 9 '15 at 20:57 answered Jan 10 '13 at 17:51 Martijn Pieters ♦ Martijn Pieters 919k 254 254 gold badges 3639 3639 silver badges 3077 3077 bronze badges 9 yup - bs4 is a massive improvement in this regard – Jon Clements ♦ Jan 10 '13 at 17:53 @JonClements: Now, if only they'd add that to the NavigableText type to (just return the text content as one item) and we'd be able to loop over a result set in one go without having to test for the attribute.. – Martijn Pieters ♦ Jan 10 '13 at 17:55 For me it says TypeError: 'NoneType' object is not callable , although there is a content, i.e. I can print it just before an error. – Hi-Angel Jun 16 '15 at 14:20 @Hi-Angel: without context, I cannot help you. Perhaps ask a new question? – Martijn Pieters ♦ Jun 16 '15 at 14:25 2 @Hi-Angel: version 4 uses the package name bs4 ; from bs4 import BeautifulSoup . – Martijn Pieters ♦ Jun 16 '15 at 14:50 | Show 4 more comments Your Answer Thanks for contributing an answer to Stack Overflow! Please be sure to answer the question . Provide details and share your research! But avoid … Asking for help, clarification, or responding to other answers. Making statements based on opinion; back them up with references or personal experience. To learn more, see our tips on writing great answers . Draft saved Draft discarded Sign up or log in Sign up using Google Sign up using Facebook Sign up using Email and Password Submit Post as a guest Name Email Required, but never shown Post as a guest Name Email Required, but never shown Post Your Answer Discard By clicking “Post Your Answer”, you agree to our terms of service , privacy policy and cookie policy Not the answer you're looking for? Browse other questions tagged python beautifulsoup or ask your own question . The Overflow Blog Why hooks are the best thing to happen to React Podcast 386: Quality code is the easiest to delete Upcoming Events 2021 Community Moderator Election ends in 3 days Featured on Meta Version labels for answers Now live: A fully responsive profile Candidate changes in 2021 Moderator Election – review your ballot Linked 4 'NoneType' object is not callable beautifulsoup error while using get_text 0 Parsing application ld+Json with Beautifulsoup (findAll) Related 2416 How do I get a substring of a string in Python? 1491 Reverse a string in Python 1479 Converting integer to string in Python 3596 Does Python have a string 'contains' substring method? 739 How to check if a string is a substring of items in a list of strings? 2335 How do I lowercase a string in Python? 1210 Best way to convert string to bytes in Python 3? 242 TypeError: sequence item 0: expected string, int found 0 Best way to use Python BeautifulSoup 4 for stepwise unwrapping HTML Tag compound structures? 0 python beautifulsoup: replace links with url in string Hot Network Questions Dividing numerator and denominator of integrand in definite integral 15 amp GFCI breaker in multiple rooms What is the statistical difference, if there is one, between attacking twice (action and bonus action) and attacking once with advantage? Is it valid to use transistors to route signals through the circuit? Cretans are always liars? Wizards have nuclear weapons now but how have they not killed themselves Why would you let your mortgage default if you can afford to keep paying it? What is this LEGO piece? In x86 real mode, how does BIOS know what hardware is present? Find the smallest solution for this simple equation If a PS/2 device on a 32-bit x86 sends a byte to the IO port 0x60 and you read it, what happens next? almost never talk to each other Do you think this circuit will work? load balancing over single NIC to overcome per-connection limit She’d come off her new bike and hurt her knee. (she'd) Why does an online stock broker need to know information about my current salary? Help with becoming overly obsessive (about mathematics) can't connect to web3 using websocket method How do I fit an array inside a shape without it cutting the edges? How are vacuum optimized engines tested without disintegrating them? How to perform linear response theory calculation of U Hubbard parameter in VASP? Movie/video game about fighter pilots whose custom was to pretend that dead colleagues never existed Film lab not developing all photos Combine \\textbf and \\texttt more hot questions Question feed Subscribe to RSS Question feed To subscribe to this RSS feed, copy and paste this URL into your RSS reader. lang-py Stack Overflow Questions Jobs Developer Jobs Directory Salary Calculator Help Mobile Products Teams Talent Advertising Enterprise Company About Press Work Here Legal Privacy Policy Terms of Service Contact Us Cookie Settings Cookie Policy Stack Exchange Network Technology Life / Arts Culture / Recreation Science Other Stack Overflow Server Fault Super User Web Applications Ask Ubuntu Webmasters Game Development TeX - LaTeX Software Engineering Unix & Linux Ask Different (Apple) WordPress Development Geographic Information Systems Electrical Engineering Android Enthusiasts Information Security Database Administrators Drupal Answers SharePoint User Experience Mathematica Salesforce ExpressionEngine® Answers Stack Overflow em Português Blender Network Engineering Cryptography Code Review Magento Software Recommendations Signal Processing Emacs Raspberry Pi Stack Overflow на русском Code Golf Stack Overflow en español Ethereum Data Science Arduino Bitcoin Software Quality Assurance & Testing Sound Design Windows Phone more (29) Photography Science Fiction & Fantasy Graphic Design Movies & TV Music: Practice & Theory Worldbuilding Video Production Seasoned Advice (cooking) Home Improvement Personal Finance & Money Academia Law Physical Fitness Gardening & Landscaping Parenting more (10) English Language & Usage Skeptics Mi Yodeya (Judaism) Travel Christianity English Language Learners Japanese Language Chinese Language French Language German Language Biblical Hermeneutics History Spanish Language Islam Русский язык Russian Language Arqade (gaming) Bicycles Role-playing Games Anime & Manga Puzzling Motor Vehicle Maintenance & Repair Board & Card Games Bricks Homebrewing Martial Arts The Great Outdoors Poker Chess Sports more (16) MathOverflow Mathematics Cross Validated (stats) Theoretical Computer Science Physics Chemistry Biology Computer Science Philosophy Linguistics Psychology & Neuroscience Computational Science more (10) Meta Stack Exchange Stack Apps API Data Blog Facebook Twitter LinkedIn Instagram site design / logo © 2021 Stack Exchange Inc; user contributions licensed under cc by-sa . rev 2021.10.22.40552 Stack Overflow works best with JavaScript enabled Your privacy By clicking “Accept all cookies”, you agree Stack Exchange can store cookies on your device and disclose information in accordance with our Cookie Policy . Accept all cookies Customize settings\n"
          ]
        }
      ]
    },
    {
      "cell_type": "code",
      "metadata": {
        "colab": {
          "base_uri": "https://localhost:8080/"
        },
        "id": "2loboq-EZrP9",
        "outputId": "88ed7394-6dd9-4af7-90da-5fe5999867e8"
      },
      "source": [
        "article = soup.find_all(\"p\")#, class_=\"page_title\")\n",
        "for div in article:\n",
        "  print(div)"
      ],
      "execution_count": null,
      "outputs": [
        {
          "output_type": "stream",
          "name": "stdout",
          "text": [
            "<p class=\"my16 fs-caption fc-medium\">Find centralized, trusted content and collaborate around the technologies you use most.</p>\n",
            "<p class=\"mb2\"><strong>Teams</strong></p>\n",
            "<p class=\"mb12 fs-caption fc-black-400\">Q&amp;A for work</p>\n",
            "<p class=\"mb12 fs-caption fc-medium\">Connect and share knowledge within a single location that is structured and easy to search.</p>\n",
            "<p>I'm using beautifulsoup to extract images and links from a html string. It all works perfectly fine, however with some links that have a tag in the link contents it is throwing an error.</p>\n",
            "<p>Example Link:</p>\n",
            "<p>Python Code:</p>\n",
            "<p>Error Message:</p>\n",
            "<p>I don't really want to have to loop through any child tags in the link text, I simply want to return the raw contents, is this possible with BS?</p>\n",
            "<p>To grab just the text content of a tag, the <a href=\"http://www.crummy.com/software/BeautifulSoup/bs4/doc/#get-text\" rel=\"noreferrer\"><code>element.get_text()</code> method</a> lets you grab (stripped) text from the current element including tags:</p>\n",
            "<p>The first argument is used to join all text elements, and sitting <code>strip</code> to <code>True</code> means all text elements are first stripped of leading and trailing whitespace. This gives you neat processed text in most cases.</p>\n",
            "<p>You can also use the <a href=\"http://www.crummy.com/software/BeautifulSoup/bs4/doc/#strings-and-stripped-strings\" rel=\"noreferrer\"><code>.stripped_strings</code> iterable</a>:</p>\n",
            "<p>which is essentially the same effect, but you could choose to process or filter the stripped strings first.</p>\n",
            "<p>To get the contents, use <code>str()</code> or <code>unicode()</code> on each child item:</p>\n",
            "<p>which will work for both <code>Element</code> and <code>NavigableString</code> items contained.</p>\n",
            "<p>Thanks for contributing an answer to Stack Overflow!</p>\n",
            "<p>But <em>avoid</em> …</p>\n",
            "<p>To learn more, see our <a href=\"/help/how-to-answer\">tips on writing great answers</a>.</p>\n",
            "<p class=\"flex--item s-description\">Required, but never shown</p>\n",
            "<p class=\"flex--item s-description\">Required, but never shown</p>\n",
            "<p class=\"privacy-policy-agreement\">\n",
            "                                                By clicking “Post Your Answer”, you agree to our <a class=\"-link\" href=\"https://stackoverflow.com/legal/terms-of-service/public\" name=\"tos\" target=\"_blank\">terms of service</a>, <a class=\"-link\" href=\"https://stackoverflow.com/legal/privacy-policy\" name=\"privacy\" target=\"_blank\">privacy policy</a> and <a class=\"-link\" href=\"https://stackoverflow.com/legal/cookie-policy\" name=\"cookie\" target=\"_blank\">cookie policy</a><input name=\"legalLinksShown\" type=\"hidden\" value=\"1\"/>\n",
            "                                            </p>\n",
            "<p class=\"s-description mt2\" id=\"feed-modal-description\">To subscribe to this RSS feed, copy and paste this URL into your RSS reader.</p>\n",
            "<p class=\"mt-auto mb24\">\n",
            "site design / logo © 2021 Stack Exchange Inc; user contributions licensed under <a href=\"https://stackoverflow.com/help/licensing\">cc by-sa</a>.                    <span id=\"svnrev\">rev 2021.10.22.40552</span>\n",
            "                </p>\n",
            "<p class=\"fs-body2 fw-bold mb4\">\n",
            "                        Your privacy\n",
            "                    </p>\n",
            "<p class=\"mb16 s-anchors s-anchors__inherit s-anchors__underlined\">\n",
            "                        By clicking “Accept all cookies”, you agree Stack Exchange can store cookies on your device and disclose information in accordance with our <a href=\"https://stackoverflow.com/legal/cookie-policy\">Cookie Policy</a>.\n",
            "                    </p>\n"
          ]
        }
      ]
    },
    {
      "cell_type": "code",
      "metadata": {
        "colab": {
          "base_uri": "https://localhost:8080/"
        },
        "id": "AE1bin15ZrP9",
        "outputId": "0c36d816-c8e7-4f20-879c-558411d33406"
      },
      "source": [
        "# getting the code embedded into the article\n",
        "code = soup.findAll('code')     \n",
        "print(code)   "
      ],
      "execution_count": null,
      "outputs": [
        {
          "output_type": "stream",
          "name": "stdout",
          "text": [
            "[<code>&lt;a href=\"http://www.example.com\"&gt;&lt;strong&gt;Link Text&lt;/strong&gt;&lt;/a&gt;\n",
            "</code>, <code>soup = BeautifulSoup(contents)\n",
            "links = soup.findAll('a')\n",
            "for link in links:\n",
            "    print link.contents # generates error\n",
            "    print str(link.contents) # outputs [Link Text]\n",
            "</code>, <code>TypeError: sequence item 0: expected string, Tag found\n",
            "</code>, <code>&lt;strong&gt;Link Text&lt;/strong&gt;</code>, <code>element.get_text()</code>, <code>print link.get_text(' ', strip=True)\n",
            "</code>, <code>strip</code>, <code>True</code>, <code>.stripped_strings</code>, <code>print u' '.join(link.stripped_strings)\n",
            "</code>, <code>str()</code>, <code>unicode()</code>, <code>print u''.join(unicode(item) for item in link)\n",
            "</code>, <code>Element</code>, <code>NavigableString</code>, <code>NavigableText</code>, <code>TypeError: 'NoneType' object is not callable</code>, <code>print</code>, <code>bs4</code>, <code>from bs4 import BeautifulSoup</code>]\n"
          ]
        }
      ]
    },
    {
      "cell_type": "code",
      "metadata": {
        "id": "gkeqPoUpZrP-"
      },
      "source": [
        "invalid_tags = ['img','a','strong','em','code','input','span']\n",
        "for tag in invalid_tags: \n",
        "  for match in soup.findAll(tag):\n",
        "    match.replaceWithChildren()"
      ],
      "execution_count": null,
      "outputs": []
    },
    {
      "cell_type": "code",
      "metadata": {
        "id": "YWRm3GNgZrP-"
      },
      "source": [
        "article = soup.find_all(\"p\")\n",
        "stack_over2 = []\n",
        "for tag in article:\n",
        "  for p_child in tag.children:\n",
        "    stack_over2.append(p_child)"
      ],
      "execution_count": null,
      "outputs": []
    },
    {
      "cell_type": "code",
      "metadata": {
        "colab": {
          "base_uri": "https://localhost:8080/"
        },
        "id": "_utYLo7TZrP-",
        "outputId": "8ec31548-72af-47cc-bd58-2e323b30fdeb"
      },
      "source": [
        "print(stack_over2)"
      ],
      "execution_count": null,
      "outputs": [
        {
          "output_type": "stream",
          "name": "stdout",
          "text": [
            "['Find centralized, trusted content and collaborate around the technologies you use most.', 'Teams', 'Q&A for work', 'Connect and share knowledge within a single location that is structured and easy to search.', \"I'm using beautifulsoup to extract images and links from a html string. It all works perfectly fine, however with some links that have a tag in the link contents it is throwing an error.\", 'Example Link:', 'Python Code:', 'Error Message:', \"I don't really want to have to loop through any child tags in the link text, I simply want to return the raw contents, is this possible with BS?\", 'To grab just the text content of a tag, the ', 'element.get_text()', ' method', ' lets you grab (stripped) text from the current element including tags:', 'The first argument is used to join all text elements, and sitting ', 'strip', ' to ', 'True', ' means all text elements are first stripped of leading and trailing whitespace. This gives you neat processed text in most cases.', 'You can also use the ', '.stripped_strings', ' iterable', ':', 'which is essentially the same effect, but you could choose to process or filter the stripped strings first.', 'To get the contents, use ', 'str()', ' or ', 'unicode()', ' on each child item:', 'which will work for both ', 'Element', ' and ', 'NavigableString', ' items contained.', 'Thanks for contributing an answer to Stack Overflow!', 'But ', 'avoid', ' …', 'To learn more, see our ', 'tips on writing great answers', '.', 'Required, but never shown', 'Required, but never shown', '\\n                                                By clicking “Post Your Answer”, you agree to our ', 'terms of service', ', ', 'privacy policy', ' and ', 'cookie policy', '\\n                                            ', 'To subscribe to this RSS feed, copy and paste this URL into your RSS reader.', '\\nsite design / logo © 2021 Stack Exchange Inc; user contributions licensed under ', 'cc by-sa', '.                    ', 'rev\\xa02021.10.22.40552', '\\n                ', '\\n                        Your privacy\\n                    ', '\\n                        By clicking “Accept all cookies”, you agree Stack Exchange can store cookies on your device and disclose information in accordance with our ', 'Cookie Policy', '.\\n                    ']\n"
          ]
        }
      ]
    },
    {
      "cell_type": "code",
      "metadata": {
        "colab": {
          "base_uri": "https://localhost:8080/"
        },
        "id": "QmNZaldpZrP-",
        "outputId": "3264000d-0fb1-4f8f-8f64-ebd588ef7d72"
      },
      "source": [
        "stack_over2 = ' '.join(stack_over2)\n",
        "print(stack_over2)"
      ],
      "execution_count": null,
      "outputs": [
        {
          "output_type": "stream",
          "name": "stdout",
          "text": [
            "Find centralized, trusted content and collaborate around the technologies you use most. Teams Q&A for work Connect and share knowledge within a single location that is structured and easy to search. I'm using beautifulsoup to extract images and links from a html string. It all works perfectly fine, however with some links that have a tag in the link contents it is throwing an error. Example Link: Python Code: Error Message: I don't really want to have to loop through any child tags in the link text, I simply want to return the raw contents, is this possible with BS? To grab just the text content of a tag, the  element.get_text()  method  lets you grab (stripped) text from the current element including tags: The first argument is used to join all text elements, and sitting  strip  to  True  means all text elements are first stripped of leading and trailing whitespace. This gives you neat processed text in most cases. You can also use the  .stripped_strings  iterable : which is essentially the same effect, but you could choose to process or filter the stripped strings first. To get the contents, use  str()  or  unicode()  on each child item: which will work for both  Element  and  NavigableString  items contained. Thanks for contributing an answer to Stack Overflow! But  avoid  … To learn more, see our  tips on writing great answers . Required, but never shown Required, but never shown \n",
            "                                                By clicking “Post Your Answer”, you agree to our  terms of service ,  privacy policy  and  cookie policy \n",
            "                                             To subscribe to this RSS feed, copy and paste this URL into your RSS reader. \n",
            "site design / logo © 2021 Stack Exchange Inc; user contributions licensed under  cc by-sa .                     rev 2021.10.22.40552 \n",
            "                 \n",
            "                        Your privacy\n",
            "                     \n",
            "                        By clicking “Accept all cookies”, you agree Stack Exchange can store cookies on your device and disclose information in accordance with our  Cookie Policy .\n",
            "                    \n"
          ]
        }
      ]
    },
    {
      "cell_type": "code",
      "metadata": {
        "colab": {
          "base_uri": "https://localhost:8080/"
        },
        "id": "wcgwZVQ3ZrP-",
        "outputId": "7d44128b-de5f-4813-8924-8af148b18b31"
      },
      "source": [
        "# Number of sentences in article\n",
        "print('No. of sentences in this article: ',article_sentlength(stack_over2))\n",
        "# Number of words in article\n",
        "print('No. of words in this article: ',article_wordlength(stack_over2))"
      ],
      "execution_count": null,
      "outputs": [
        {
          "output_type": "stream",
          "name": "stdout",
          "text": [
            "No. of sentences in this article:  14\n",
            "No. of words in this article:  362\n"
          ]
        }
      ]
    },
    {
      "cell_type": "code",
      "metadata": {
        "colab": {
          "base_uri": "https://localhost:8080/"
        },
        "id": "_Yv2mdWrZrP-",
        "outputId": "e0629db4-2aae-4164-862f-6e1346e29554"
      },
      "source": [
        "print('Average number of words in a sentence: ',avg_wordcount(stack_over2))"
      ],
      "execution_count": null,
      "outputs": [
        {
          "output_type": "stream",
          "name": "stdout",
          "text": [
            "Average number of words in a sentence:  25.857142857142858\n"
          ]
        }
      ]
    },
    {
      "cell_type": "code",
      "metadata": {
        "colab": {
          "base_uri": "https://localhost:8080/"
        },
        "id": "spVxLXshZrP-",
        "outputId": "ecb67922-e5e2-4644-efa9-6fde13582317"
      },
      "source": [
        "print('Average word length in each sentence: ')\n",
        "avg_sent_word(stack_over2)"
      ],
      "execution_count": null,
      "outputs": [
        {
          "output_type": "stream",
          "name": "stdout",
          "text": [
            "Average word length in each sentence: \n",
            "Sentence  1 :  6.333333333333333\n",
            "Sentence  2 :  4.842105263157895\n",
            "Sentence  3 :  5.0\n",
            "Sentence  4 :  4.2272727272727275\n",
            "Sentence  5 :  4.3428571428571425\n",
            "Sentence  6 :  5.0\n",
            "Sentence  7 :  4.555555555555555\n",
            "Sentence  8 :  5.076923076923077\n",
            "Sentence  9 :  5.090909090909091\n",
            "Sentence  10 :  5.625\n",
            "Sentence  11 :  3.7857142857142856\n",
            "Sentence  12 :  4.609756097560975\n",
            "Sentence  13 :  4.6875\n",
            "Sentence  14 :  5.551724137931035\n"
          ]
        }
      ]
    },
    {
      "cell_type": "code",
      "metadata": {
        "colab": {
          "base_uri": "https://localhost:8080/"
        },
        "id": "YsO3VmLY2z6Y",
        "outputId": "72d41a2f-15ad-4221-814c-5b419d85fc93"
      },
      "source": [
        "total_stop = 0\n",
        "print('No. of stopwords in each sentence: ')\n",
        "total_ct = calc_stopwords(stack_over2,total_stop)\n",
        "print('Total no of stopwords: ',total_ct)"
      ],
      "execution_count": null,
      "outputs": [
        {
          "output_type": "stream",
          "name": "stdout",
          "text": [
            "No. of stopwords in each sentence: \n",
            "Sentence  1 , No. of stopwords:  3\n",
            "['and', 'the', 'you']\n",
            "Sentence  2 , No. of stopwords:  7\n",
            "['for', 'and', 'a', 'that', 'is', 'and', 'to']\n",
            "Sentence  3 , No. of stopwords:  4\n",
            "['to', 'and', 'from', 'a']\n",
            "Sentence  4 , No. of stopwords:  11\n",
            "['all', 'with', 'some', 'that', 'have', 'a', 'in', 'the', 'it', 'is', 'an']\n",
            "Sentence  5 , No. of stopwords:  13\n",
            "[\"don't\", 'to', 'have', 'to', 'through', 'any', 'in', 'the', 'to', 'the', 'is', 'this', 'with']\n",
            "Sentence  6 , No. of stopwords:  17\n",
            "['just', 'the', 'of', 'a', 'the', 'you', 'from', 'the', 'is', 'to', 'all', 'and', 'to', 'all', 'are', 'of', 'and']\n",
            "Sentence  7 , No. of stopwords:  3\n",
            "['you', 'in', 'most']\n",
            "Sentence  8 , No. of stopwords:  11\n",
            "['can', 'the', 'which', 'is', 'the', 'same', 'but', 'you', 'to', 'or', 'the']\n",
            "Sentence  9 , No. of stopwords:  9\n",
            "['the', 'or', 'on', 'each', 'which', 'will', 'for', 'both', 'and']\n",
            "Sentence  10 , No. of stopwords:  3\n",
            "['for', 'an', 'to']\n",
            "Sentence  11 , No. of stopwords:  2\n",
            "['our', 'on']\n",
            "Sentence  12 , No. of stopwords:  13\n",
            "['but', 'but', 'you', 'to', 'our', 'of', 'and', 'to', 'this', 'and', 'this', 'into', 'your']\n",
            "Sentence  13 , No. of stopwords:  1\n",
            "['under']\n",
            "Sentence  14 , No. of stopwords:  9\n",
            "['all', 'you', 'can', 'on', 'your', 'and', 'in', 'with', 'our']\n",
            "Total no of stopwords:  106\n"
          ]
        }
      ]
    },
    {
      "cell_type": "code",
      "metadata": {
        "colab": {
          "base_uri": "https://localhost:8080/"
        },
        "id": "-9RxvzI02z6Z",
        "outputId": "96a441ac-8bae-4b27-ea52-c082748852ab"
      },
      "source": [
        "# Ratio of number of stopwords to total number of words in the article\n",
        "perc_stop = total_ct/article_wordlength(stack_over2)\n",
        "print('Percentage of total article occupied by stopwords: ',perc_stop*100)"
      ],
      "execution_count": null,
      "outputs": [
        {
          "output_type": "stream",
          "name": "stdout",
          "text": [
            "Percentage of total article occupied by stopwords:  29.2817679558011\n"
          ]
        }
      ]
    },
    {
      "cell_type": "code",
      "metadata": {
        "colab": {
          "base_uri": "https://localhost:8080/",
          "height": 295
        },
        "id": "f_07ByK4ZrP-",
        "outputId": "eaedb854-5661-46be-e70c-b975df9b23ec"
      },
      "source": [
        "avgword_vs_stopwords(stack_over2)"
      ],
      "execution_count": null,
      "outputs": [
        {
          "output_type": "display_data",
          "data": {
            "image/png": "[encoded data removed]",
            "text/plain": [
              "<Figure size 432x288 with 1 Axes>"
            ]
          },
          "metadata": {
            "needs_background": "light"
          }
        }
      ]
    },
    {
      "cell_type": "code",
      "metadata": {
        "colab": {
          "base_uri": "https://localhost:8080/"
        },
        "id": "cehF95p4ZrP_",
        "outputId": "61473a31-8015-4638-e2d2-3b8e012dbd2a"
      },
      "source": [
        "print('No. of numerical words in each sentence: ')\n",
        "find_digs(stack_over2)"
      ],
      "execution_count": null,
      "outputs": [
        {
          "output_type": "stream",
          "name": "stdout",
          "text": [
            "No. of numerical words in each sentence: \n",
            "Sentence  13  No. of numerical data:  1\n",
            "['2021']\n",
            "Sentence  14  No. of numerical data:  4\n",
            "['2021', '10', '22', '40552']\n"
          ]
        }
      ]
    },
    {
      "cell_type": "code",
      "metadata": {
        "colab": {
          "base_uri": "https://localhost:8080/"
        },
        "id": "HGrmAUeOZrP_",
        "outputId": "9b861706-3508-456f-c80a-b6f926e9c375"
      },
      "source": [
        "print('Capitalised / Uppercase words')\n",
        "uppercase(stack_over2)"
      ],
      "execution_count": null,
      "outputs": [
        {
          "output_type": "stream",
          "name": "stdout",
          "text": [
            "Capitalised / Uppercase words\n",
            "UPPERCASE\n",
            "Sentence 2: Q&A\n",
            "Sentence 5: I\n",
            "Sentence 5: I\n",
            "Sentence 5: BS?\n",
            "Sentence 12: RSS\n",
            "Sentence 12: URL\n",
            "Sentence 12: RSS\n",
            "CAPITALISED\n",
            "Sentence 1: Find\n",
            "Sentence 2: Teams\n",
            "Sentence 2: Connect\n",
            "Sentence 3: I'm\n",
            "Sentence 4: It\n",
            "Sentence 5: Example\n",
            "Sentence 5: Link:\n",
            "Sentence 5: Python\n",
            "Sentence 5: Code:\n",
            "Sentence 5: Error\n",
            "Sentence 5: Message:\n",
            "Sentence 6: To\n",
            "Sentence 6: The\n",
            "Sentence 6: True\n",
            "Sentence 7: This\n",
            "Sentence 8: You\n",
            "Sentence 9: To\n",
            "Sentence 9: Element\n",
            "Sentence 10: Thanks\n",
            "Sentence 10: Stack\n",
            "Sentence 10: Overflow!\n",
            "Sentence 11: But\n",
            "Sentence 11: To\n",
            "Sentence 12: Required,\n",
            "Sentence 12: Required,\n",
            "Sentence 12: By\n",
            "Sentence 12: Your\n",
            "Sentence 12: Answer”,\n",
            "Sentence 12: To\n",
            "Sentence 13: Stack\n",
            "Sentence 13: Exchange\n",
            "Sentence 13: Inc;\n",
            "Sentence 14: Your\n",
            "Sentence 14: By\n",
            "Sentence 14: Stack\n",
            "Sentence 14: Exchange\n",
            "Sentence 14: Cookie\n",
            "Sentence 14: Policy\n"
          ]
        }
      ]
    }
  ]
}